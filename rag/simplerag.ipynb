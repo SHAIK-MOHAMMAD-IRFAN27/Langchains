{
 "cells": [
  {
   "cell_type": "code",
   "execution_count": 12,
   "metadata": {},
   "outputs": [
    {
     "data": {
      "text/plain": [
       "[Document(metadata={'source': 'speech.txt'}, page_content='“I have a dream that one day down in Alabama, with its vicious racists, with its governor having his lips dripping with the words of interposition and nullification – one day right there in Alabama little black boys and black girls will be able to join hands with little white boys and white girls as sisters and brothers.\\n\\nI have a dream today.\\n\\nI have a dream that one day every valley shall be exalted, and every hill and mountain shall be made low, the rough places will be made plain, and the crooked places will be made straight, and the glory of the Lord shall be revealed and all flesh shall see it together.\\n\\nThis is our hope. This is the faith that I go back to the South with. With this faith we will be able to hew out of the mountain of despair a stone of hope. With this faith we will be able to transform the jangling discords of our nation into a beautiful symphony of brotherhood. With this faith we will be able to work together, to pray together, to struggle together, to go to jail together, to stand up for freedom together, knowing that we will be free one day.\\n\\nThis will be the day, this will be the day when all of God’s children will be able to sing with new meaning “My country ’tis of thee, sweet land of liberty, of thee I sing. Land where my father’s died, land of the Pilgrim’s pride, from every mountainside, let freedom ring!”')]"
      ]
     },
     "execution_count": 12,
     "metadata": {},
     "output_type": "execute_result"
    }
   ],
   "source": [
    "#data ingestion\n",
    "from langchain_community.document_loaders import TextLoader\n",
    "\n",
    "loader=TextLoader(\"speech.txt\",encoding=\"utf-8\")\n",
    "text_documents=loader.load()\n",
    "text_documents"
   ]
  },
  {
   "cell_type": "code",
   "execution_count": 13,
   "metadata": {},
   "outputs": [],
   "source": [
    "import os\n",
    "from dotenv import load_dotenv\n",
    "load_dotenv()\n",
    "os.environ[\"OPENAI_API_KEY\"]=os.getenv(\"OPENAI_API_KEY\")\n",
    "\n"
   ]
  },
  {
   "cell_type": "code",
   "execution_count": 14,
   "metadata": {},
   "outputs": [
    {
     "name": "stderr",
     "output_type": "stream",
     "text": [
      "USER_AGENT environment variable not set, consider setting it to identify your requests.\n"
     ]
    }
   ],
   "source": [
    "#reading from web based loader ---another way to load data\n",
    "from langchain_community.document_loaders import WebBaseLoader\n",
    "import bs4\n",
    "\n",
    "#load,chunk and index the content in html page\n",
    "loader=WebBaseLoader(web_paths=(\"https://en.wikipedia.org/wiki/MS_Dhoni\",),\n",
    "                     bs_kwargs=dict(parse_only=bs4.SoupStrainer(\n",
    "                         class_=(\"mw-body-header vector-page-titlebar\",\"vector-column-start\",\"mw-content-ltr mw-parser-output\")\n",
    "                     )),)\n",
    "text_documents=loader.load()\n"
   ]
  },
  {
   "cell_type": "code",
   "execution_count": 15,
   "metadata": {},
   "outputs": [
    {
     "data": {
      "text/plain": [
       "[Document(metadata={'source': 'https://en.wikipedia.org/wiki/MS_Dhoni'}, page_content='\\n\\n\\n\\n\\n\\n\\n\\n\\n\\n\\n\\n\\n\\nContents\\nmove to sidebar\\nhide\\n\\n\\n\\n\\n(Top)\\n\\n\\n\\n\\n\\n1\\nEarly life\\n\\n\\n\\n\\n\\n\\n\\n\\n2\\nYouth career\\n\\n\\n\\n\\n\\n\\n\\n\\n3\\nInternational career\\n\\n\\n\\n\\nToggle International career subsection\\n\\n\\n\\n\\n\\n3.1\\nDebut and early years\\n\\n\\n\\n\\n\\n\\n\\n\\n3.2\\n2007 World T20 and captaincy\\n\\n\\n\\n\\n\\n\\n\\n\\n3.3\\n2011 World Cup win and later\\n\\n\\n\\n\\n\\n\\n\\n\\n3.4\\nTest retirement and 2015 World cup\\n\\n\\n\\n\\n\\n\\n\\n\\n3.5\\nFinal years and retirement\\n\\n\\n\\n\\n\\n\\n\\n\\n\\n\\n4\\nDomestic career\\n\\n\\n\\n\\n\\n\\n\\n\\n5\\nFranchise career\\n\\n\\n\\n\\n\\n\\n\\n\\n6\\nOutside cricket\\n\\n\\n\\n\\n\\n\\n\\n\\n7\\nPlaying style\\n\\n\\n\\n\\n\\n\\n\\n\\n8\\nPersonal life\\n\\n\\n\\n\\n\\n\\n\\n\\n9\\nCareer statistics\\n\\n\\n\\n\\nToggle Career statistics subsection\\n\\n\\n\\n\\n\\n9.1\\nCaptaincy\\n\\n\\n\\n\\n\\n\\n\\n\\n\\n\\n10\\nRecords and achievements\\n\\n\\n\\n\\n\\n\\n\\n\\n11\\nAwards & Honours\\n\\n\\n\\n\\nToggle Awards & Honours subsection\\n\\n\\n\\n\\n\\n11.1\\nAwards\\n\\n\\n\\n\\n\\n\\n\\n\\n11.2\\nHonours\\n\\n\\n\\n\\n\\n\\n\\n\\n11.3\\nTrophies\\n\\n\\n\\n\\n\\n\\n\\n\\n\\n\\n12\\nIn popular culture\\n\\n\\n\\n\\n\\n\\n\\n\\n13\\nReferences\\n\\n\\n\\n\\n\\n\\n\\n\\n14\\nExternal links\\n\\n\\n\\n\\n\\n\\n\\n\\n\\n\\n\\n\\n\\n\\n\\nToggle the table of contents\\n\\n\\n\\n\\n\\n\\n\\nMS Dhoni\\n\\n\\n\\n40 languages\\n\\n\\n\\n\\nAfrikaansالعربيةঅসমীয়াअवधीবাংলাभोजपुरीDeutschडोटेलीEspañolفارسیFrançaisગુજરાતીगोंयची कोंकणी / Gõychi Konknniहिन्दीBahasa IndonesiaItalianoಕನ್ನಡकॉशुर / کٲشُرमैथिलीമലയാളംमराठीمصرىNederlandsनेपाली日本語ଓଡ଼ିଆਪੰਜਾਬੀپنجابیPolskiРусскийसंस्कृतम्ᱥᱟᱱᱛᱟᱲᱤසිංහලSimple Englishதமிழ்తెలుగుತುಳುTürkçeاردوVolapük\\n\\nEdit links\\n\\n\\n\\nIndian cricketer (born 1981)\\n\"Dhoni\" redirects here. For other uses, see Dhoni (disambiguation).\\n\\n\\nMS DhoniDhoni in 2023Personal detailsBorn (1981-07-07) 7 July 1981 (age\\xa043)Ranchi, Bihar (present-day Jharkhand), IndiaHeight5\\xa0ft 9\\xa0in (175\\xa0cm)[1]SpouseSakshi DhoniAwards\\n Padma Bhushan (2018)\\n Padma Shri (2009)\\nMajor Dhyan Chand Khel Ratna Award (2008)\\nNickname(s)Mahi, Thala, Captain Cool[2]Military serviceAllegiance\\xa0IndiaBranch/service\\xa0Indian ArmyYears\\xa0of service2011–presentRank Lieutenant colonelUnit Territorial Army   Parachute RegimentPersonal informationFull\\xa0nameMahendra Singh DhoniBattingRight-handedBowlingRight-arm mediumRoleWicket-keeper-batterInternational information\\nNational sideIndia (2004–2019)Test debut (cap\\xa0251)2 December 2005\\xa0v\\xa0Sri LankaLast Test26 December 2014\\xa0v\\xa0AustraliaODI debut (cap\\xa0158)23 December 2004\\xa0v\\xa0BangladeshLast ODI9 July 2019\\xa0v\\xa0New ZealandODI shirt no.7T20I debut (cap\\xa02)1 December 2006\\xa0v\\xa0South AfricaLast T20I27 February 2019\\xa0v\\xa0AustraliaT20I shirt no.7\\nDomestic team information\\n\\nYearsTeam1999–2004Bihar2004–2017Jharkhand2008–2015, 2018–presentChennai Super Kings (squad\\xa0no.\\xa07)2016–2017Rising Pune Supergiant (squad\\xa0no.\\xa07)\\nCareer statistics\\n\\nCompetition\\nTest\\nODI\\nT20I\\nFC\\n\\nMatches\\n90\\n350\\n98\\n131\\n\\nRuns scored\\n4,876\\n10,773\\n1,617\\n7,038\\n\\nBatting average\\n38.09\\n50.57\\n37.60\\n36.84\\n\\n100s/50s\\n6/33\\n10/73\\n0/2\\n9/47\\n\\nTop score\\n224\\n183*\\n56\\n224*\\n\\nBalls bowled\\n96\\n36\\n–\\n126\\n\\nWickets\\n0\\n1\\n–\\n0\\n\\nBowling average\\n–\\n31.00\\n–\\n–\\n\\n5 wickets in innings\\n–\\n0\\n–\\n–\\n\\n10 wickets in match\\n–\\n0\\n–\\n–\\n\\nBest bowling\\n–\\n1/14\\n–\\n–\\n\\nCatches/stumpings\\n256/38\\n321/123\\n57/34\\n364/57\\nMedal record\\n\\n\\n\\n\\n\\n\\nMen\\'s Cricket\\n\\n\\nRepresenting \\xa0India\\n\\n\\nCricket World Cup\\n\\n\\nWinner\\n2011 India–Sri Lanka–Bangladesh\\n\\n\\n\\nMen\\'s T20 World Cup\\n\\n\\nWinner\\n2007 South Africa\\n\\n\\n\\nRunner-up\\n2014 Bangladesh\\n\\n\\n\\nICC Champions Trophy\\n\\n\\nWinner\\n2013 England and Wales\\n\\n\\n\\nRunner-up\\n2017 England and Wales\\n\\n\\n\\nAsia Cup\\n\\n\\nRunner-up\\n2008 Pakistan\\n\\n\\n\\nWinner\\n2010 Sri Lanka\\n\\n\\n\\nWinner\\n2016 Bangladesh\\n\\n\\n\\nWinner\\n2018 UAE\\n\\n\\nSource: ESPNcricinfo, 30 March 2025\\n\\nMahendra Singh Dhoni (/məˈheɪndrə ˈsɪŋ dhæˈnɪ/ ⓘ; born 7 July 1981) is an Indian professional cricketer who plays as a right-handed batter and a wicket-keeper. Widely regarded as one of the most prolific wicket-keeper batsmen and captains and one of the greatest ODI batsmen, he represented the Indian cricket team and was the captain of the side in limited overs formats from 2007 to 2017 and in test cricket from 2008 to 2014. Dhoni has captained the most international matches and is the most successful Indian captain. He has led India to victory in the 2007 ICC World Twenty20, the 2011 Cricket World Cup, and the 2013 ICC Champions Trophy, being the only captain to win three different limited overs ICC tournaments. He also led the teams that won the Asia Cup in 2010, 2016 and was a member of the title winning squad in 2018.\\nBorn in Ranchi, Dhoni made his first class debut for Bihar in 1999. He made his debut for the Indian cricket team on 23 December 2004 in an ODI against Bangladesh and played his first test a year later against Sri Lanka. In 2007, he became the captain of the ODI side before taking over in all formats by 2008. Dhoni retired from test cricket in 2014 but continued playing in limited overs cricket till 2019. He has scored 17,266 runs in international cricket including 10,000 plus runs at an average of more than 50 in ODIs.\\nIn the Indian Premier League (IPL), Dhoni plays for Chennai Super Kings (CSK), leading them to the final on ten occasions and winning it five times (2010, 2011, 2018, 2021 and 2023 ) jointly sharing this title with Rohit Sharma . He has also led CSK to two Champions League T20 titles in 2010 and 2014. Dhoni is among the few batsmen to have scored more than five thousand runs in the IPL, as well as being the first wicket-keeper to do so.\\nIn 2008, Dhoni was awarded India\\'s highest sport honour Major Dhyan Chand Khel Ratna Award by Government of India. He received the fourth highest civilian award Padma Shri in 2009 and third highest civilian award Padma Bhushan in 2018. Dhoni holds an honorary rank of Lieutenant colonel in the Parachute Regiment of the Indian Territorial Army which was presented to him by the Indian Army in 2011.\\n\\n\\nEarly life\\nDhoni was born on 7 July 1981 in Ranchi, Bihar (now in Jharkhand) in a Hindu Rajput family to Pan Singh and Devaki Devi.[3][4] His parents hailed from Lwali village in Uttar Pradesh (now Uttarakhand) and he was the youngest of three children.[5][6][7] His family spells the surname as \"Dhauni\".[8] The spelling \"Dhoni\" emerged due to a spelling mistake in his school certificates and, despite repeated attempts by his family, has never been rectified.[9]\\nDhoni did his schooling from DAV Jawahar Vidya Mandir, where he started playing football as a goalkeeper, but later moved to play cricket on the suggestion of his coach Keshav Banerjee.[10][11] From 2001 to 2003, Dhoni worked as a Travelling Ticket Examiner (TTE) at Kharagpur under South Eastern Railway zone of Indian Railways.[12][13]\\n\\nYouth career\\nHe played as a wicket-keeper for Commando cricket club from 1995 to 1998 and Central Coal Fields Limited (CCL) team in 1998.[14] At CCL, he batted higher up the order and helped the team qualify to the higher division.[15] Based on his performance at club cricket, he was picked for the 1997/98 season of Vinoo Mankad Trophy under-16 championship.[16][17] In the 1998–99, Dhoni played for Bihar U-19 team in the Cooch Behar Trophy and scored 176 runs in 5 matches. In the 1999–2000 Cooch Behar Trophy, the Bihar U-19 cricket team made it to the finals, where Dhoni made 84 in a losing cause.[18] Dhoni\\'s contribution in the tournament included 488 runs in nine matches with five fifties, 17 catches and seven stumpings.[19] Dhoni made it to the East Zone U-19 squad for the C. K. Nayudu Trophy in the 1999–2000 season and scored only 97 runs in four matches, as East Zone lost all the matches and finished last in the tournament.[20][21]\\nDhoni made his Ranji Trophy debut for Bihar against Assam in the 1999–2000 season, as an eighteen-year-old scoring 68 runs in the second innings.[22] Dhoni finished the season with 283 runs in 5 matches. Dhoni scored his maiden first-class century while playing for Bihar against Bengal in the 2000–01 Ranji Trophy season.[23] Apart from this century, his performance in the 2000/01 season did not include another score over fifty and in the 2001–02 Ranji Trophy season, he scored just five fifties in four Ranji matches.[24][25] Dhoni\\'s played for Jharkhand in the 2002–03 Ranji Trophy and represented East Zone in the Deodhar Trophy where he started gaining recognition for his lower-order contribution as well as hard-hitting batting style. In the 2003/04 season, Dhoni scored a century (128*) against Assam in the first match of the Ranji ODI tournament and was part of the East Zone squad that won the Deodhar Trophy 2003–2004 season scoring 244 runs in four matches.[26][27]\\nIn the Duleep Trophy finals, Dhoni represented East Zone and scored a fighting half-century in the second innings in a losing cause.[28] Dhoni was identified as one of the emerging talents via the BCCI\\'s small-town talent-spotting initiative TRDW.[29][30] In 2004, Dhoni was picked for the India A squad for a tour of Zimbabwe and Kenya.[31] Against the Zimbabwe XI in Harare Sports Club, Dhoni effected seven catches and four stumpings.[32] In the tri-nation tournament involving Kenya, India A and Pakistan A, Dhoni helped India A chase down their target of 223 against Pakistan A with a half-century and scored 362 runs in six innings at an average of 72.40 with back to back centuries.[33][34][35]\\n\\nInternational career\\nDebut and early years\\nThe Indian ODI team in the early 2000s saw Rahul Dravid as the wicket-keeper to ensure that the wicket-keeper spot didn\\'t lack in batting talent and also tried other wicket-keeper/batsmen like Parthiv Patel and Dinesh Karthik.[36] With Dhoni performing well for the India A squad, he was picked in the ODI squad for the Bangladesh tour in December 2004.[37] Dhoni made his debut in the first match of the series and was run out for a duck.[38] Dhoni was picked for the subsequent ODI series against Pakistan.[39] In the second match of the series in Visakhapatnam, Dhoni playing in his fifth one-day international, scored 148 runs off 123 deliveries which surpassed the earlier record for the highest score by an Indian wicket-keeper.[40] Dhoni played in the Sri Lankan bilateral ODI series in October–November 2005 and was promoted to No. 3 in the batting order in the third ODI at Jaipur where he scored an unbeaten 183 runs off 145 balls, winning the game for India.[41] The innings would surpass his earlier record for the highest score by an Indian wicket-keeper and was described in Wisden Almanack as \\'Uninhibited, yet anything but crude\\'.[42] It was also the highest individual score in ODI cricket in a run chase, a record which was broken seven years later by Shane Watson.[43][44] Dhoni ended the series with the highest aggregate of 346 runs and was awarded the Man of the series.[45]\\n\\nDhoni keeping wickets in a test match\\nDhoni became a regular in the Indian side after the home series against South Africa in November 2005.[46] In December 2005, Dhoni was awarded a \"B\" grade contract by the BCCI.[47] Dhoni made his test debut in the same month against Sri Lanka during their tour of India at Chennai.[48][49] Dhoni scored 30 runs in his debut match, that was marred by rain and ended in a draw.[50] Dhoni made his maiden half-century in the second test leading to an Indian win.[51] Dhoni played all the matches in the subsequent tour of Pakistan scoring 219 runs in five ODI matches and 179 runs in five tests including his maiden test century in the second test in Faisalabad.[52] He scored 106 runs across three tests in the home series against England in March 2006 and 177 runs in five ODI series that followed.[52][46] Dhoni dropped multiple catches and missed dismissal chances including a key stumping opportunity of Andrew Flintoff which led to criticism of his wicket-keeping.[53]\\nIn the DLF Cup 2006-07, Dhoni scored 43 runs as the team lost twice in three games and did not qualify for the finals. In the 2006 ICC Champions Trophy, India lost to West Indies and Australia, though Dhoni scored a half-century against West Indies and failed to make it to the knock out stage.[54] In the ODI series in South Africa in November 2006, Dhoni scored 139 runs in four matches in the series loss.[46] In the test series that followed, Dhoni scored 114 runs in two tests including a first test victory in South Africa in the first test, but was ruled out of the third test with injury.[55] Dhoni made his T20 international debut in December 2006 against South Africa at Johannesburg.[56] Dhoni was subsequently named in the ODI team of the year by the ICC for 2006.[57]\\n\\n2007 World T20 and captaincy\\nIndia recorded identical 3–1 victory over West Indies and Sri Lanka in early 2007 with Dhoni averaging in excess of 100 in both the series. Subsequently, Dhoni was part of the squad for 2007 Cricket World Cup in which India unexpectedly crashed out in the group stage after losses to Bangladesh and Sri Lanka with Dhoni scoring ducks in both these matches and just 29 runs in the tournament.[46][58] As a result, Dhoni\\'s house in Ranchi was vandalised and damaged by activists of JMM and security was tightened for his family.[59] Dhoni scored 91* against Bangladesh in the first match of the ODI series in May 2007 which fetched the Man of the Match award while also later winning the Man of the Series after the third game of the series was washed away.[60] Dhoni played for ACC Asia XI cricket team in the Afro-Asia Cup, scoring 174 runs in three matches at an average of 87 including 139 off 97 balls in the third ODI.[61]\\nDhoni was named vice-captain of the ODI team for the 2007 Future Cup against South Africa in Ireland and the subsequent seven-match series against England.[62] Dhoni was awarded an \\'A\\' grade contract by BCCI in June 2007.[63] Dhoni was appointed as the captain of the Indian squad for the inaugural World Twenty20 in September 2007.[64] Dhoni led India to victory in the tournament after defeating Pakistan in the final.[65][66] Dhoni was appointed as the captain of Indian cricket team in all formats later.[67]\\nOn 2 September 2007, Dhoni equalled Adam Gilchrist\\'s international record for the most dismissals in an innings in ODI by effecting six dismissals against England.[68] Dhoni took his first and only wicket in international cricket on 30 September 2009 when he bowled Travis Dowlin of West Indies in the 2009 ICC Champions Trophy.[69] However, he scored just three runs in the only match he batted with India crashing out of the series in the group stage after the match against Australia was washed out.[70] Dhoni averaged more than 60 in the 2008-09 season.[71] Dhoni scored two centuries during Sri Lanka\\'s tour of India in November 2009 which India won to achieve the top ranking in ICC test ranking for the first time in its history.[72] Dhoni had an excellent year in ODIs in 2009, scoring 1198 runs in just 24 innings, at an average of 70.43 and topped the ICC ODI batsman rankings for several months.[73] He was named as the captain and wicket-keeper of the ICC ODI Team of the year.[74]\\n\\n2011 World Cup win and later\\nWicket-keeping kit and bat used by Dhoni during the 2011 Cricket World Cup on display at the Blades of Glory Cricket Museum\\nDhoni led the Indian squad for the 2011 Cricket World Cup co-hosted by India.[75] India won its second ever ODI world cup after defeating Sri Lanka in the final with Dhoni being named man of the match for scoring an unbeaten 91.[76] In December 2012, Pakistan toured India for a bilateral series for the first time in five years and Dhoni top-scored in all the three matches of the series with a century in the first ODI at Chennai.[77] Dhoni led India to victory in the 2013 ICC Champions Trophy and became the first and the only captain in international cricket to claim all ICC limited overs trophies. In the rain-shortened final against England, India won by five runs on DLS method though Dhoni himself was out for a duck.[78] He was also named as captain and wicketkeeper of the \\'Team of the Tournament\\' by the ICC.[79]\\n\\nDhoni batting against South Africa during the group stage match of 2013 ICC Champions Trophy\\nAfter the Champions Trophy, India toured West Indies for a tri-nation tournament against the hosts and Sri Lanka.[80] Dhoni got injured at the start of the tournament thus ruling him out for most of the tournament and returned to play the final where he was adjudged Man of the match for scoring 45 runs off 52 balls including 16 runs in the final cricket to take India to victory by one wicket.[81] In November 2013, Dhoni became the second India batsman after Sachin Tendulkar to aggregate more than thousand runs in ODIs against Australia.[82] India toured South Africa and New Zealand in the 2013–14 season. Though Dhoni scored 84 runs at an average of 48 including one half-century against South Africa and 272 runs with three consecutive 50-plus scores against New Zealand, India lost both the series.[46] Dhoni himself reached 8000 runs in ODI in the series against New Zealand.[83] Dhoni led India in the 2014 ICC World Twenty20 where India finished as runners-up after losing to Sri Lanka in the final.[84] He was named as captain and wicket-keeper of the \\'Team of the Tournament\\' by the ICC.[85]\\nIndia won the away ODI series in England in 2014 and series against West Indies in India where Dhoni scored 146 runs across the five innings he batted.[86][46]\\n\\nTest retirement and 2015 World cup\\nDhoni played his last series during India\\'s tour of Australia in December 2014. Following the third Test in Melbourne, Dhoni announced his retirement from the format.[87] In his last test, he effected nine dismissals (eight catches and a stumping), and in the process, went past Kumar Sangakkara\\'s record for most stumpings in international cricket and also set a record for effecting the most dismissals in a match by an Indian wicketkeeper until it was broken by Wriddhiman Saha in 2018.[88][89] In the Carlton Mid triangular series in Australia, India failed to win a single match with Dhoni himself managing just 70 runs from three innings at an average of 23.34.[90]\\nDuring the 2015 Cricket World Cup, Dhoni became the first Indian captain to win all group stage matches in a world cup.[91] In the match against Zimbabwe at Auckland, he made 85 which was the highest score by an Indian captain in New Zealand. After beating Bangladesh in the quarter finals, he became the third overall and the first non-Australian captain to win 100 ODI matches.[92] India lost to eventual champions Australia in the semi-finals with Dhoni having a good series, scoring 237 runs in six innings at an average of 59.25 and a strike rate of 102.15 and thus, became only the second Indian captain to have an average over 50 and strike rate over 100 in a particular season of the World Cup.[93][94]\\n\\nFinal years and retirement\\nDhoni led India to victory in the 2016 Asia Cup, where India remained unbeaten.[95] Dhoni stepped down as the captain of India in January 2017, ahead of the ODI series at home against England.[96] In the second game of the series, he scored 134 off 122 balls, his tenth century in ODIs and his first in over three years.[97] He was named as a wicket-keeper of the \\'Team of the Tournament\\' at the 2017 ICC Champions Trophy in which India finished as runners-up.[98][99] In August 2017, during the fifth and final ODI against Sri Lanka in Colombo, he became the first wicket-keeper to effect 100 stumpings in ODIs when he stumped Akila Dananjaya off Yuzvendra Chahal.[100] He reached the milestone of effecting 400 dismissals in ODIs in February 2018, following the stumping of Aiden Markram in the third ODI of the South Africa tour.[101]\\nThough, he had a relatively mediocre series scoring 79 runs in two innings at a strike rate of 63.20 during India\\'s 2018 tour of England, he went past 10,000 ODI runs, becoming the fourth Indian and twelfth overall to do so.[102][103][104] In the 2018 Asia Cup title winning campaign, he scored just 77 runs in four innings at an average of 19.25.[105][106] While captaining in the group stage match against Afghanistan due to regular captain Rohit Sharma being unavailable, Dhoni became the first cricketer to lead India 200 times in ODIs.[107] Dhoni aggregated 50 runs from three innings in the home series against West Indies.[108][109] In the series, he effected the fastest stumping in the history of cricket, clocked at 0.08 seconds, when dismissing Keemo Paul.[110][111]\\nDhoni was not selected for the T20I squad for the series that followed and the Australia tour later that season.[112] However, he was included in the squad for the ODI series in Australia.[113] In the three-match series, Dhoni scored half-centuries in all three games with the latter two resulting in wins, helping India secure a 2–1 series victory, their first in a bilateral series on Australian soil and was named player of the series while also becoming the fourth Indian to score more than 1,000 ODI runs in Australia.[114] In April 2019, he was named in India\\'s squad for the 2019 Cricket World Cup.[115][116] On 9 July 2019, Dhoni played in his 350th and final ODI in the semi-final loss against New Zealand.[117] Dhoni announced his retirement from international cricket on 15 August 2020 as he had not played any international cricket since India\\'s loss in the 2019 World Cup semi-final.[118]\\n\\n\\n\\nreference or ID parameter required.\\n\\n\\n\\nM S Dhoni  @msdhoni\\n\\n\\n\\nEnglish: Thanks a lot for your love and support throughout. From 1929 hrs, consider me as retired.\\n\\n\\nAugust 15, 2020[119]\\n\\n\\n\\nDomestic career\\nDhoni played for Bihar state cricket team since 1999 before representing Jharkhand later. He has also played for Rajasthan Cricket Association President\\'s XI, East zone and Rest of India in domestic cricket.[120] In BCCI Corporate trophy, he played for Air India until his resignation from the company in 2013.[121] In February 2005, Dhoni played for India seniors in Challenger trophy, where he scored 102 against India B.[122] Jharkhand State Cricket Association (JSCA) appointed him captain of the Jharkhand team in February 2017 for the 2017-18 Vijay Hazare trophy and on 25 February 2017, he scored his first ever domestic list-A century against Chhattisgarh and led the team to the quarter final where Jharkhand lost against Delhi.[123][124]\\n\\nFranchise career\\n\\n\\nChennai Super Kings\\n\\n\\nT20 Cricket\\n\\n\\nIndian Premier League\\n\\n\\nWinner\\n2010, 2011, 2018, 2021, 2023\\n\\n\\n\\nRunner-up\\n2008, 2012, 2013, 2015, 2019\\n\\n\\n\\nChampions League\\n\\n\\nWinner\\n2010, 2014\\n\\n\\n\\n\\nRising Pune Supergiants\\n\\n\\nT20 Cricket\\n\\n\\nIndian Premier League\\n\\n\\nRunner-up\\n2017\\n\\n\\nDhoni with Chennai Super Kings in 2011\\nDhoni was acquired by Chennai Super Kings (CSK) for US$1.5 million during the auction for the inaugural season of the Indian Premier League (IPL). He was the most expensive signing in the auction.[125] Dhoni scored 414 runs to lead CSK to the finals in the first season of IPL.[126] Under his captaincy, CSK won the 2010 edition and qualified for Champions League Twenty20.[127] Chennai won the 2010 Champions league.[128] Dhoni scored 392 runs and led CSK to its second consecutive IPL title in 2011.[129] Dhoni led CSK to its second Champions League Twenty20 title in 2014.[130] Dhoni scored 2987 runs from 129 matches in the IPL across the first eight seasons for the Super Kings.[126]\\nFollowing the two-year suspension of Chennai Super Kings and Rajasthan Royals, two new franchises Rising Pune Supergiants and Gujarat Lions were established for the 2016 Indian Premier League season. Supergiants picked Dhoni as one of their five draft picks on 15 December 2015 for ₹125 million (US$1.5\\xa0million).[131] He scored 574 runs in 30 matches across two seasons for the Supergiants.[126]\\nDhoni returned to CSK for the 2018 season.[132] He scored 455 runs and led his team to its third IPL title.[133] Dhoni led CSK to the title again in 2021 and was retained for ₹12 crore (US$1.4\\xa0million) before the auction for the 2022 season.[134] Dhoni stepped down from captaincy ahead of that season and Ravindra Jadeja was appointed the new captain.[135][136] However, a month later, Jadeja handed over the captaincy back to Dhoni in the middle of the season.[137] Dhoni led the franchise to victory again the following season.[129] Under his captaincy, CSK became the most successful IPL franchise with five title wins and ten final appearances.[138] Dhoni became the first player to play 200 T20 matches for CSK and holds the record for most appearances in the IPL.[139] Ahead of the 2024 season, Dhoni handed over captaincy to Ruturaj Gaikwad.[140] He marked his 250th appearance for CSK in that season, in a league stage match against Mumbai Indians on 14 April 2024, helping his team secure a 20-run win, following his unbeaten four-ball 20.[141]\\n\\nOutside cricket\\nChief of Army Staff General V. K. Singh bestowing the honorary rank of Lieutenant colonel to Dhoni\\nDhoni holds an honorary rank of Lieutenant colonel in the Parachute Regiment of the Indian Territorial Army (106 Para TA battalion).[142] The honorary rank was presented to him by the Indian Army in 2011 for his service to the nation as a cricketer.[143] After completing five parachute training jumps from Indian Army aircraft in the Agra training camp, he became a qualified paratrooper in 2015.[144] In August 2019, he completed a two-week stint with the Territorial Army in Jammu and Kashmir.[145] While spending a day with the parachute regiment in Ranchi, Dhoni said, I wanted to become a soldier not a cricketer, \"Since childhood I wanted to join the Army. Seeing the soldiers, I thought that one day I\\'ll be the same\".[146]\\nDhoni holds the post of vice-president in India Cements Ltd, the company owned by former BCCI president N. Srinivasan.[147][148] Dhoni is a co-owner of Chennai-based football club Chennaiyin FC, a franchise of the Indian Super League.[149] He also co-owns Ranchi-based hockey club Ranchi Rays, a franchise of the Hockey India League.[150] In February 2016, Dhoni launched lifestyle brand SEVEN which he co-owns while also serving as its brand ambassador.[151] In 2019, Dhoni invested in vehicle re-seller CARS24 and simultaneously became brand ambassador of the company.[152] On 11 October 2022, Dhoni invested in Shaka Harry, a plant-based protein company.[153][154]\\n\\nThe No.7 jersey of the Indian cricket team made popular by Dhoni\\nIn 2019, Dhoni Entertainment entered into a long-term business agreement with Banijay Asia to produce content across various genres.[155] The first show developed by the company was a documentary web series titled Roar of The Lion for Disney+ Hotstar in 2019 which dealt with the ban of Chennai Super Kings from the Indian Premier League in 2016 and their return to win the title in 2018.[156] The production house produced a Tamil language romantic drama LGM which was released on 28 July 2023.[157][158][159] Dhoni performed a special cameo appearance in Vijay\\'s film G.O.A.T that was released on 5 September 2024.[160]\\nDhoni is one of the most popular cricketers in the world.[161] He serves as a brand ambassador and endorses more than 35 brands across various segments.[162] As of 2022[update], Dhoni has more than 75 million followers on social media platforms and his brand value was projected to be $80.3 million by Duff and Phelps.[163] Dhoni\\'s popularity is often compared to Sachin Tendulkar, the highest run scorer in international cricket.[164][165] The No.7 jersey was made popular by Dhoni and was retired by the BCCI in 2023 as a honour to him.[166] Dhoni has developed a special connection with the city of Chennai whose IPL franchise he represents and the fans often call him \\'Thala\\' meaning leader in Tamil.[167][168]\\n\\nPlaying style\\nDhoni in 2008\\nDhoni is a right-handed batsman and wicket-keeper.[120] Dhoni is an unorthodox batsman who deviates from conventional coaching manuals to showcase his batting technique.[169] Dhoni displays a proclivity for hitting full-length deliveries towards the Long-on, Long-off, and Midwicket regions, rather than the conventional Cover region.[169] He plays pull shots and hook shots off short-pitched deliveries often putting pressure on the bowler to adjust their line and length accordingly. Dhoni holds the bat with a firm grip at the bottom of the handle, striking the ball with force and precision to clear the boundary.[170] He is a powerful hitter of the ball and is one of the fastest men in running between the wickets.[171] He plays the helicopter shot technique, taught to him by a fellow player and childhood friend Santosh Lal.[172][173][174] As a batsman, he is recognised for his finishing skills in high-pressure situations.[175]\\nAs a wicket-keeper, he has been praised for his fast reflexes behind the stumps while also being criticised for the lack of good technique.[176][177] He is known for his unorthodox captaincy, approachability and has earned a reputation of being a successful leader.[178][179] Dhoni is also known for his cool-headed demeanor on the field which has earned him the monicker \"Captain cool\".[180]\\n\\nPersonal life\\nDhoni married Sakshi Singh Rawat on 4 July 2010 in Dehradun.[181][182] Dhoni and his wife have a daughter, Ziva Dhoni who was born on 6 February 2015.[183][184] He lives in his farmhouse outside Ranchi.[185] Dhoni is an automotive enthusiast and owns a number of bikes and cars in his collection.[186]\\n\\nCareer statistics\\nDhoni has scored 4876 runs in Test matches at an average of 38 and 10773 runs at an average of above 50 in ODIs. He has scored 16 centuries and 108 fifties in his international career.[120] Dhoni has one of the highest averages in ODI cricket.[187] He has scored more than 7400 runs across 390 T20 matches.[120] He has taken 634 catches and effected 195 stumpings in his international career, making him one of the most prolific wicket-keepers of all time.[188]\\n\\n\\n\\nDhoni\\'s ODI record[189][190]\\n\\n\\nVenue\\n\\nMat\\n\\nRuns\\n\\nBest\\n\\nBat Avg.\\n\\nSR\\n\\n100s\\n\\n50s\\n\\n4s\\n\\n6s\\n\\nCatches\\n\\nStumpings\\n\\n\\nHome\\n\\n127\\n4,351\\n183*\\n53.71\\n91.60\\n7\\n25\\n350\\n116\\n99\\n48\\n\\n\\nAway\\n\\n145\\n4,520\\n101*\\n50.78\\n83.98\\n1\\n37\\n324\\n73\\n126\\n46\\n\\n\\nNeutral\\n\\n78\\n1,902\\n139*\\n44.23\\n87.60\\n2\\n11\\n152\\n40\\n96\\n29\\n\\n\\nTotal\\n350\\n10,773\\n183*\\n50.57\\n87.56\\n10\\n73\\n826\\n229\\n321\\n123\\n\\nCaptaincy\\nIn 2007, Dhoni was appointed captain of the captain of the Indian team and served as the captain of all formats from 2008. He captained the Indian team in 332 matches including 200 ODIs and was one of the most prolific and successful captains of all time.[191][192]\\n\\n\\n\\nDhoni captaincy record[193]\\n\\n\\nType\\n\\nMatches\\n\\nWon\\n\\nLost\\n\\nDrawn\\n\\nTied\\n\\nNo\\xa0result\\n\\n\\nTest\\n\\n60\\n\\n27\\n\\n18\\n\\n15\\n\\n–\\n\\n–\\n\\n\\nODI\\n\\n200\\n\\n110\\n\\n74\\n\\n–\\n\\n5\\n\\n11\\n\\n\\nT20I\\n\\n72\\n\\n42\\n\\n28\\n\\n–\\n\\n–\\n\\n2\\n\\n\\nTotal\\n\\n332\\n\\n179\\n\\n120\\n\\n15\\n\\n5\\n\\n13\\n\\nRecords and achievements\\nTests\\nMost runs by an Indian wicket-keeper (4876)[194][195]\\nMost number of sixes by an Indian captain (51)[196]\\nMost dismissals by an Indian and fifth most by any wicket-keeper (294)[197]\\nODIs\\nMost wins by an Indian captain and second most overall (110)[198]\\nSecond most runs as captain (6641)[199]\\nThird most number of matches as captain (200)[191]\\nFirst player to pass 10,000 runs with an average of over 50[200]\\nMost not-outs (84)[201]\\nHighest score by a wicket-keeper (183*)[202]\\nHighest eighth wicket partnership for India (100* with Bhuvneshwar Kumar)[203]\\nMost dismissals in an innings (6) and career (432) by an Indian wicket-keeper[204]\\nMost stumpings by any wicket-keeper (123)[205][206]\\nT20Is\\nSecond most matches as captain (72)[192]\\nMost T20I innings (76) and runs (1,153) before scoring a fifty[207][208][209]\\nMost stumpings as wicket-keeper (34)[210]\\nMost catches as wicket keeper in a T20I innings (5)[211]\\nCombined\\nMost international matches as captain (332)[212]\\nMost stumpings (195) and only wicket-keeper to make 150 stumpings[213][214]\\nThird most dismissals as a wicket-keeper (829)[188]\\nSixth most sixes in career (359)[215]\\nAwards & Honours\\nAwards\\n\\n\\nYear\\n\\nAward\\n\\nCategory\\n\\nNotes\\n\\nRef\\n\\n\\n2008\\n\\nKhel Ratna Award\\n\\nOutstanding Achievements in Sports\\n\\nHighest Sporting Honour\\n\\n[216]\\n\\n\\n5th ICC Awards\\n\\nODI Cricketer of the Year\\n\\nBest ODI Player of the Year\\n\\n[217]\\n\\n\\n2009\\n\\n6th ICC Awards\\n\\nODI Cricketer of the Year\\n\\nBest ODI Player of the Year\\n\\n[218]\\n\\n\\nPadma Shri\\n\\nDistinguished Contribution in Sports\\n\\nFourth Highest Civilian Award\\n\\n[219]\\n\\n\\n2013\\n\\n10th ICC Awards\\n\\nMost Popular Cricketer\\n\\nBest Player Voted by People\\n\\n[220]\\n\\n\\n2018\\n\\nPadma Bhushan\\n\\nDistinguished Contribution in Sports\\n\\nThird Highest Civilian Award\\n\\n[221]\\n\\n\\n2020\\n\\n1st ICC Awards of the Decade\\n\\nSpirit of Cricket\\n\\nFor 2011–2020\\n\\n[222]\\n\\nHonours\\n\\n\\nYear\\n\\nHonour\\n\\nCategory\\n\\nNotes\\n\\nRef\\n\\n\\n2006\\n\\n3rd ICC Awards\\n\\nODI Team of the Year\\n\\n\\n\\n\\n\\n\\n2008\\n\\n5th ICC Awards\\n\\nODI Team of the Year\\n\\n\\n\\n\\n\\n\\n2009\\n\\n6th ICC Awards\\n\\nODI Team of the Year\\n\\nCaptain\\n\\n[223]\\n\\n\\n2010\\n\\n7th ICC Awards\\n\\nODI Team of the Year\\n\\n\\n\\n\\n\\n\\n2011\\n\\n8th ICC Awards\\n\\nODI Team of the Year\\n\\nCaptain\\n\\n[224]\\n\\n\\n2012\\n\\n9th ICC Awards\\n\\nODI Team of the Year\\n\\nCaptain\\n\\n\\n\\n\\n2013\\n\\n10th ICC Awards\\n\\nODI Team of the Year\\n\\nCaptain\\n\\n[225]\\n\\n\\n2014\\n\\n11th ICC Awards\\n\\nODI Team of the Year\\n\\nCaptain\\n\\n[226]\\n\\n\\n2020\\n\\n1st ICC Awards of the Decade\\n\\nODI Team of the Decade\\n\\nCaptain, for 2011–2020\\n\\n[227]\\n\\n\\nT20I Team of the Decade\\n\\nCaptain, for 2011–2020\\n\\nTrophies\\n\\n\\nYear\\n\\nTrophy\\n\\nTeam\\n\\nNotes\\n\\nRef\\n\\n\\n2007\\n\\nT20 World Cup\\n\\nIndia\\n\\nCaptain\\n\\n\\n\\n\\n2009\\n\\nTest Championship Mace\\n\\nIndia\\n\\nCaptain\\n\\n\\n\\n\\n2010\\n\\nIndian Premier League\\n\\nChennai Super Kings\\n\\nCaptain\\n\\n\\n\\n\\nChampions League Twenty20\\n\\nChennai Super Kings\\n\\nCaptain\\n\\n\\n\\n\\nAsia Cup\\n\\nIndia\\n\\nCaptain\\n\\n\\n\\n\\nTest Championship Mace\\n\\nIndia\\n\\nCaptain\\n\\n\\n\\n\\n2011\\n\\nODI World Cup\\n\\nIndia\\n\\nCaptain\\n\\n\\n\\n\\nIndian Premier League\\n\\nChennai Super Kings\\n\\nCaptain\\n\\n\\n\\n\\n2013\\n\\nChampions Trophy\\n\\nIndia\\n\\nCaptain\\n\\n\\n\\n\\n2014\\n\\nChampions League Twenty20\\n\\nChennai Super Kings\\n\\nCaptain\\n\\n\\n\\n\\n2016\\n\\nAsia Cup\\n\\nIndia\\n\\nCaptain\\n\\n\\n\\n\\n2018\\n\\nIndian Premier League\\n\\nChennai Super Kings\\n\\nCaptain\\n\\n\\n\\n\\nAsia Cup\\n\\nIndia\\n\\n\\n\\n\\n\\n\\n2021\\n\\nIndian Premier League\\n\\nChennai Super Kings\\n\\nCaptain\\n\\n\\n\\n\\n2023\\n\\nIndian Premier League\\n\\nChennai Super Kings\\n\\nCaptain\\n\\n\\n\\nIn popular culture\\nA film based on Dhoni\\'s life from his childhood to the 2011 world cup win, titled M.S. Dhoni: The Untold Story, with Sushant Singh Rajput in the lead role was released on 29 September 2016.[228]\\nThe Dhoni Touch: unravelling the enigma that is Mahendra Singh Dhoni, a book by Bharat Sundaresan.[229]\\nDhoni (2012), a Tamil feature film, directed and produced by Prakash Raj where the plot illustrates the conflicting interests of a father and his son with the father wanting his son to study MBA but his son wanting to become a cricketer like Dhoni.[230]\\nReferences\\n\\n\\n^ \"MS Dhoni, profile\". Sportskeeda. Archived from the original on 26 December 2022. Retrieved 26 December 2022.\\n\\n^ \"MS Dhoni birthday: What are some of the nicknames of Mahendra Singh Dhoni?\". Sporting News. 7 July 2023. Archived from the original on 18 December 2023. Retrieved 1 December 2023.\\n\\n^ Dinakar, S (3 December 2005). \"\\'I can adapt to the Test match situation\\'\". Sportstar. Archived from the original on 20 February 2012. Retrieved 23 February 2025. My parents are from Uttaranchal. I am a Rajput, there are lots of them in Uttaranchal. But I am proud to say that I am from Jharkhand. I was born and brought up in Jharkhand.\\n\\n^ Lokapally, Vijay (29 April 2006). \"Sportstar archives - MS Dhoni: I have not forgotten my roots\". Sportstar. Archived from the original on 7 February 2023. Retrieved 30 April 2023.\\n\\n^ Sandhu, Veenu (30 April 2011). \"A village in Kumaon\". Business Standard India. Archived from the original on 11 July 2022. Retrieved 11 July 2022.\\n\\n^ \"MS Dhoni\\'s mother and father test positive for Covid-19, admitted to private hospital in Ranchi\". India Today. 21 April 2021. Archived from the original on 19 September 2023. Retrieved 17 October 2021.\\n\\n^ Mishra, Rashmi (30 April 2017). \"Mahendra Singh Dhoni New Home in Ranchi: Dhoni and Family shifted to farmhouse Kailashpati on Akshaya Tritiya\". India.com. Archived from the original on 20 September 2023. Retrieved 8 May 2022.\\n\\n^ Chakrabarty, Arpita (1 October 2016). \"Dhoni: In Uttarakhand, MS Dhoni\\'s village still awaits road, medicines\". The Times of India. Archived from the original on 30 September 2023. Retrieved 17 October 2021.\\n\\n^ \"A village in Kumaon\". Business Standard. 20 January 2013. Archived from the original on 11 July 2022. Retrieved 21 May 2024.\\n\\n^ \"Win us the World Cup Mahi: Dhoni\\'s school coach\". Indian Express. 16 December 2010. Archived from the original on 8 November 2023. Retrieved 5 May 2022.\\n\\n^ Ray, Shantanu Guha (31 December 2014). \"How Captain Cool MS Dhoni learnt to give up football and take to cricket\". Scroll. Archived from the original on 19 September 2023. Retrieved 5 May 2022.\\n\\n^ \"Dhoni: The Kharagpur story\". Telegraph India. Archived from the original on 5 May 2019. Retrieved 5 May 2019.\\n\\n^ \"The Dhoni files\". Ahmedabad Mirror. Archived from the original on 27 January 2021. Retrieved 5 May 2019.\\n\\n^ \"Man of the moment\". India Today. 3 October 2007. Archived from the original on 3 July 2021. Retrieved 3 July 2021.\\n\\n^ \"300 ODIs, where D stands for Dhoni\". Telegraph India. Archived from the original on 27 September 2019. Retrieved 27 September 2019.\\n\\n^ \"Fortune changed, not the man\". Archived from the original on 5 August 2020. Retrieved 27 September 2019.\\n\\n^ \"The decade of Mahendra Singh Dhoni\". Caravan. Archived from the original on 8 May 2021. Retrieved 27 September 2019.\\n\\n^ \"Yuvraj Singh\\'s 358-run knock in MS Dhoni biopic actually happened\". The Times of India. 6 October 2016. Archived from the original on 22 July 2018. Retrieved 5 May 2019.\\n\\n^ \"Statistics: Bihar Squad U-19 Cooch Behar Trophy Averages\". ESPNcricinfo. Archived from the original on 6 May 2009. Retrieved 12 May 2007.\\n\\n^ \"CK Nayudu Trophy, 1999–2000 – Points Table\". ESPNcricinfo. Archived from the original on 12 February 2017. Retrieved 12 February 2017.\\n\\n^ \"CK Nayudu Trophy 1999/00 Batting – Most Runs\". ESPNcricinfo. Archived from the original on 12 February 2017. Retrieved 12 February 2017.\\n\\n^ \"Scorecard: Assam v/s Bihar 1999/2000 Ranji Trophy Season\". ESPNcricinfo. Archived from the original on 13 October 2007. Retrieved 12 May 2007.\\n\\n^ \"Scorecard:Bihar v/s Bengal Ranji Trophy 2000/01 Season\". ESPNcricinfo. Archived from the original on 6 May 2023. Retrieved 1 May 2023.\\n\\n^ \"Statistics: 2000/01 Bihar Squad Ranji Trophy Averages\". ESPNcricinfo. Archived from the original on 6 May 2009. Retrieved 12 May 2007.\\n\\n^ \"Statistics: 2001/02 Bihar Squad Ranji Trophy Averages\". ESPNcricinfo. Archived from the original on 6 May 2009. Retrieved 12 May 2007.\\n\\n^ \"Results. Deodhar Trophy, 2003/04\". ESPNcricinfo. Archived from the original on 5 September 2019. Retrieved 5 October 2016.\\n\\n^ \"Left-out Dhoni eyes African safari\". Telegraph India. Archived from the original on 5 May 2019. Retrieved 5 May 2019.\\n\\n^ \"Scorecard: Duleep Trophy Final 2003/2004 Season\". ESPNcricinfo. Archived from the original on 13 October 2007. Retrieved 12 May 2007.\\n\\n^ Dinakar, S. (9 June 2015). \"TRDO — a system that unearthed Dhoni, Ishant and Raina — gets a thumbs up\". The Hindu. ISSN\\xa00971-751X. Archived from the original on 28 October 2021. Retrieved 28 October 2021.\\n\\n^ \"Bring back the scouts\". Mumbai Mirror. 30 March 2008. Archived from the original on 4 March 2016. Retrieved 8 April 2011.\\n\\n^ \"Agarkar and Karthik dropped\". ESPNcricinfo. 7 July 2004. Archived from the original on 12 October 2007. Retrieved 12 May 2007.\\n\\n^ \"Scorecard: Zimbabwe Select XI v India A 3rd Match Kenya Triangular Tournament 2004 Season\". ESPNcricinfo. Archived from the original on 13 October 2007. Retrieved 12 May 2007.\\n\\n^ \"Scorecard:India A v Pakistan A 2004 Season\". ESPNcricinfo. Archived from the original on 21 February 2009. Retrieved 12 May 2007.\\n\\n^ \"Scorecard:India A v Pakistan A 6th Match Kenya Triangular Tournament 2004 Season\". ESPNcricinfo. Archived from the original on 6 May 2009. Retrieved 12 May 2007.\\n\\n^ \"Scorecard:India A v Pakistan A 8th Match Kenya Triangular Tournament 2004 Season\". ESPNcricinfo. Archived from the original on 28 October 2007. Retrieved 12 May 2007.\\n\\n^ \"Ganguly – \\'We can pick up the momentum\\'\". ESPNcricinfo. 16 August 2004. Archived from the original on 12 October 2007. Retrieved 1 December 2023.\\n\\n^ \"Kumble opts out of one-dayers against Bangladesh\". ESPNcricinfo. 2 December 2004. Archived from the original on 23 November 2023. Retrieved 1 December 2023.\\n\\n^ \"Scorecard:India v/s Bangladesh 1st ODI 2004/05 Season\". ESPNcricinfo. 23 December 2004. Archived from the original on 27 November 2022. Retrieved 1 December 2023.\\n\\n^ \"Kumble and Laxman omitted from one-day squad\". ESPNcricinfo. 2 December 2004. Archived from the original on 18 December 2023. Retrieved 1 December 2023.\\n\\n^ \"Highest scores by wicketkeepers\". Rediff. 6 April 2005. Archived from the original on 11 February 2010. Retrieved 12 May 2007.\\n\\n^ \"Scorecard:Sri Lanka v/s India 3rd ODI 2005/06 Season\". ESPNcricinfo. 31 October 2005. Archived from the original on 29 November 2023. Retrieved 1 December 2023.\\n\\n^ \"Wisden Almanack: India v Sri Lanka, 2005–06\". ESPNcricinfo. 5 April 2007. Archived from the original on 20 October 2022. Retrieved 1 May 2023.\\n\\n^ \"Full Scorecard of Bangladesh vs Australia 2nd ODI 2011 – Score Report\". ESPNcricinfo. Archived from the original on 22 February 2024. Retrieved 1 December 2023.\\n\\n^ \"Dhoni\\'s day in the sun\". 2 November 2005. Archived from the original on 18 December 2023. Retrieved 1 December 2023.\\n\\n^ \"Sri Lanka in India, 2005–06 One-Day Series Averages\". ESPNcricinfo. Archived from the original on 18 December 2023. Retrieved 1 December 2023.\\n\\n^ a b c d e f \"Dhoni ODI batting by innings\". ESPNcricinfo. Archived from the original on 18 December 2023. Retrieved 1 December 2023.\\n\\n^ \"Pathan elevated to top bracket, Zaheer demoted\". ESPNcricinfo. 24 December 2005. Archived from the original on 18 December 2023. Retrieved 1 December 2023.\\n\\n^ \"Sri Lanka in India, 2005–06, First test, Chennai\". ESPNcricinfo. Archived from the original on 23 April 2023. Retrieved 1 December 2023.\\n\\n^ \"Ganguly included in Test squad\". ESPNcricinfo. 23 November 2005. Archived from the original on 18 December 2023. Retrieved 1 December 2023.\\n\\n^ \"Jayawardene and Vaas star in draw\". ESPNcricinfo. 6 December 2005. Archived from the original on 18 December 2023. Retrieved 1 December 2023.\\n\\n^ \"Scorecard:India v/s Sri Lanka 2nd Test 2005/06 Season\". ESPNcricinfo. Archived from the original on 18 December 2023. Retrieved 1 December 2023.\\n\\n^ a b \"Dhoni Test batting by innings\". ESPNcricinfo. Archived from the original on 18 December 2023. Retrieved 1 December 2023.\\n\\n^ \"Epidemic of dropped catches\". ESPNcricinfo. 21 March 2006. Archived from the original on 18 December 2023. Retrieved 1 December 2023.\\n\\n^ \"2006 Champions trophy Group B\". ESPNcricinfo. Archived from the original on 7 December 2023. Retrieved 1 December 2023.\\n\\n^ \"Both teams in selection quandary\". ESPNcricinfo. 1 January 2007. Archived from the original on 18 December 2023. Retrieved 1 December 2023.\\n\\n^ \"Only T20I (N), Johannesburg, December 01, 2006, India tour of South Africa\". ESPNcricinfo. Archived from the original on 18 December 2023. Retrieved 1 December 2023.\\n\\n^ \"Ricky Ponting takes top honours at glittering ICC Awards night\". ESPNcricinfo. 3 November 2006. Archived from the original on 4 August 2020. Retrieved 15 July 2019.\\n\\n^ \"India, 2007 world cup squad\". ESPNcricinfo. Archived from the original on 18 December 2023. Retrieved 1 December 2023.\\n\\n^ \"\\'It made me a better person\\': MS Dhoni reveals how 2007 World Cup exit and backlash changed him\". Firstpost. 17 September 2016. Archived from the original on 26 June 2019. Retrieved 13 May 2019.\\n\\n^ \"Bangladesh vs India, first ODI, 2007\". ESPNcricinfo. Archived from the original on 18 December 2023. Retrieved 1 December 2023.\\n\\n^ \"Afro Asia cup\". ESPNcricinfo. Archived from the original on 18 December 2023. Retrieved 1 December 2023.\\n\\n^ \"Dhoni getting excited about vice captaincy\". The Times of India. 16 June 2007. Archived from the original on 18 December 2023. Retrieved 1 May 2023.\\n\\n^ \"Indian board revises list of contracted players\". ESPNcricinfo. 7 June 2007. Archived from the original on 18 December 2023. Retrieved 1 December 2023.\\n\\n^ \"Dhoni to lead Indian squad in South Africa\". ESPNcricinfo. 7 August 2007. Archived from the original on 27 November 2022. Retrieved 1 December 2023.\\n\\n^ \"ICC World T20\". ESPNcricinfo. Archived from the original on 8 December 2021. Retrieved 1 December 2023.\\n\\n^ \"On This Day: MS Dhoni leads India to maiden World T20 win with memorable triumph over Pakistan\". Firstpost. 24 September 2020. Archived from the original on 6 January 2021. Retrieved 5 January 2021.\\n\\n^ \"Dhoni to lead India\\'s ODI squad\". ESPNcricinfo. 18 September 2007. Archived from the original on 27 November 2022. Retrieved 1 December 2023.\\n\\n^ \"England vs India, 5th ODI, Leeds\". ESPNcricinfo. Archived from the original on 18 December 2023. Retrieved 1 December 2023.\\n\\n^ \"Does MS Dhoni have the highest average of those who batted at No. 6 and above for India?\". ESPNcricinfo. Archived from the original on 21 May 2024. Retrieved 1 December 2023.\\n\\n^ \"Tables standings, 2009 ICC Champions Trophy\". ESPNcricinfo. Archived from the original on 18 December 2023. Retrieved 1 December 2023.\\n\\n^ \"Dhoni, ODI summary, 2008 season\". ESPNcricinfo. Archived from the original on 18 December 2023. Retrieved 1 December 2023.\\n\\n^ \"India beat Sri Lanka by an innings to top Test rankings\". BBC Sport. 6 December 2009. Archived from the original on 22 May 2021. Retrieved 8 December 2009.\\n\\n^ \"ICC list: Dhoni remains No.1 ODI batsman - 2009\". India Today. 10 August 2009. Archived from the original on 23 April 2022. Retrieved 23 April 2022.\\n\\n^ \"Johnson and Gambhir scoop top awards\". ESPNcricinfo. 1 October 2009. Archived from the original on 15 July 2019. Retrieved 15 July 2019.\\n\\n^ \"India squad, 2011 Cricket World Cup\". ESPNcricinfo. Archived from the original on 18 December 2023. Retrieved 1 December 2023.\\n\\n^ \"2011 Cricket World Cup final\". ESPNcricinfo. Archived from the original on 2 July 2017. Retrieved 1 December 2023.\\n\\n^ \"Under pressure, Dhoni scores unbeaten century\". ESPNcricinfo. Archived from the original on 24 November 2020. Retrieved 23 August 2023.\\n\\n^ \"Full Scorecard of India vs England Final 2013 – Score Report\". ESPNcricinfo. Archived from the original on 25 November 2020. Retrieved 1 September 2023.\\n\\n^ \"ICC announces Team of the Tournament\". ICC. Archived from the original on 16 July 2019. Retrieved 16 July 2019.\\n\\n^ \"West Indies Tri-Nation Series 2013, West Indies Tri-Nation Series 2013 score, Match schedules, fixtures, points table, results, news\". ESPNcricinfo. Archived from the original on 30 October 2020. Retrieved 26 November 2020.\\n\\n^ \"Full Scorecard of Sri Lanka vs India Final 2013 – Score Report\". ESPNcricinfo. Archived from the original on 13 November 2020. Retrieved 26 November 2020.\\n\\n^ \"Kohli fastest to 17 ODI tons\". ESPNcricinfo. 30 October 2013. Archived from the original on 4 June 2015. Retrieved 1 August 2023.\\n\\n^ \"Dhoni fourth fastest to complete 8,000 ODI runs\". The Times of India. 31 January 2014. Archived from the original on 20 December 2016. Retrieved 23 August 2020.\\n\\n^ \"2014 ICC World Twenty20\". ESPNcricinfo. Archived from the original on 26 May 2023. Retrieved 1 August 2023.\\n\\n^ \"ICC announces men\\'s ICC World Twenty20 BD 2014 Team of the Tournament\". ICC. Archived from the original on 16 July 2019. Retrieved 16 July 2019.\\n\\n^ \"M.S. Dhoni: International records as Batsman, Captain, Wicket-Keeper, Bowler and Birthday\". Jagranjosh.com. 7 July 2021. Archived from the original on 19 September 2023. Retrieved 18 January 2022.\\n\\n^ Dinakar, S. (30 December 2014). \"Dhoni retires from Test cricket\". The Hindu. Archived from the original on 18 January 2022. Retrieved 22 September 2016.\\n\\n^ \"Dhoni rewrites record for most stumpings\". The Hindu. 27 December 2014. Archived from the original on 10 January 2016. Retrieved 18 December 2014.\\n\\n^ \"Wriddhiman Saha breaks MS Dhoni\\'s record of most dismissals by an Indian wicketkeeper in a Test\". The Times of India. 8 January 2018. Archived from the original on 9 January 2018. Retrieved 15 January 2018.\\n\\n^ \"Carlton Mid Triangular Series in Australia in 2014–15\". ESPNcricinfo. Archived from the original on 4 May 2023. Retrieved 31 August 2023.\\n\\n^ \"Points table, Group B, 2015 Cricket World Cup\". ESPNcricinfo. Archived from the original on 22 July 2023. Retrieved 1 August 2023.\\n\\n^ Gupta, Gaurav (28 March 2015). \"Team India\\'s World Cup 2015 report card\". The Times of India. Archived from the original on 3 July 2021. Retrieved 31 August 2020.\\n\\n^ \"Batting records. One-Day Internationals\". ESPNcricinfo. Archived from the original on 19 September 2023. Retrieved 1 October 2023.\\n\\n^ \"Mahendra Singh Dhoni Goes Down Fighting as India Exit World Cup. Cricket News\". NDTV. Archived from the original on 25 May 2021. Retrieved 31 August 2020.\\n\\n^ \"Dhawan, Kohli bring India sixth Asia Cup title\". ESPNcricinfo. 6 March 2016. Archived from the original on 2 October 2018. Retrieved 1 December 2023.\\n\\n^ \"MS Dhoni gives up India\\'s ODI and T20 captaincy\". ESPNcricinfo. 4 January 2017. Archived from the original on 2 February 2017. Retrieved 20 January 2017.\\n\\n^ \"India win series with Yuvraj and Dhoni tons\". ESPNcricinfo. 19 January 2017. Archived from the original on 3 September 2017. Retrieved 20 January 2017.\\n\\n^ \"Champions Trophy 2017: Team of the tournament\". Cricbuzz. 18 June 2017. Archived from the original on 24 July 2019. Retrieved 24 July 2019.\\n\\n^ \"2017 ICC Champions Trophy\". ESPNcricinfo. Archived from the original on 13 August 2022. Retrieved 1 December 2023.\\n\\n^ \"MS Dhoni creates world record, becomes the first wicketkeeper with 100 ODI stumpings\". The Indian Express. 3 September 2017. Archived from the original on 8 October 2019. Retrieved 19 January 2019.\\n\\n^ \"MS Dhoni first Indian wicketkeeper to effect 400 dismissals in ODIs\". The Times of India. Archived from the original on 28 March 2019. Retrieved 7 February 2018.\\n\\n^ \"MS Dhoni becomes the second wicket-keeper to score 10,000 ODI runs\". The Times of India. Archived from the original on 17 August 2018. Retrieved 15 July 2018.\\n\\n^ \"Why Dhoni\\'s World Cup place is in doubt\". Rediff. 21 July 2018. Archived from the original on 9 November 2020. Retrieved 19 January 2019.\\n\\n^ \"India in England ODI Series, 2018 Cricket Team Records & Stats\". ESPNcricinfo. Archived from the original on 26 June 2019. Retrieved 19 January 2019.\\n\\n^ \"Asia Cup 2018 final: Liton Das slams maiden ODI hundred\". Indian Express. 28 September 2018. Archived from the original on 5 January 2019. Retrieved 1 December 2023.\\n\\n^ \"Asia Cup 2018 — Most Runs — Records\". ESPNcricinfo. Archived from the original on 21 May 2024. Retrieved 8 September 2022.\\n\\n^ \"Asia Cup 2018: MS Dhoni creates history, leads India for 200th time\". Hindustan Times. 20 September 2018. Archived from the original on 26 September 2018. Retrieved 25 September 2018.\\n\\n^ \"West Indies series a big one for MS Dhoni ahead of 2019 World Cup: Sourav Ganguly\". India Today. 21 October 2018. Archived from the original on 17 April 2019. Retrieved 19 January 2019.\\n\\n^ \"West Indies in India ODI Series, 2018/19 Cricket Team Records & Stats\". ESPNcricinfo. Archived from the original on 17 April 2019. Retrieved 19 January 2019.\\n\\n^ Roy, Anjishnu (30 July 2023). \"Fastest stumping in cricket - MS Dhoni leads top 5 list\". MPL. Retrieved 7 June 2024.\\n\\n^ Tripathi, Gunjan. \"Top 5 Stumpings in Cricketing history\". India (in Hindi). Retrieved 7 June 2024.\\n\\n^ \"MS Dhoni dropped from T20I series against West Indies, Australia\". The Times of India. Press Trust of India. 27 October 2018. Archived from the original on 27 October 2018. Retrieved 19 January 2019.\\n\\n^ \"Dhoni named by India for Australia ODIs\". Cricket Australia. 24 December 2018. Archived from the original on 19 January 2019. Retrieved 19 January 2019.\\n\\n^ Rao, Santosh (18 January 2019). \"MS Dhoni Becomes Fourth Indian To Achieve Stunning Feat in Australia\". NDTV. Archived from the original on 8 November 2020. Retrieved 19 January 2019.\\n\\n^ \"Rahul and Karthik in, Pant and Rayudu out of India\\'s World Cup squad\". ESPNcricinfo. 15 April 2019. Archived from the original on 7 November 2020. Retrieved 15 April 2019.\\n\\n^ \"Dinesh Karthik, Vijay Shankar in India\\'s World Cup squad\". International Cricket Council. Archived from the original on 17 April 2019. Retrieved 15 April 2019.\\n\\n^ \"ICC World Cup 2019: MS Dhoni Becomes The Second Indian To Play 350 ODIs\". Cricket Addictor. 9 July 2019. Archived from the original on 9 July 2019. Retrieved 9 July 2019.\\n\\n^ \"MS Dhoni retires from all international cricket\". International Cricket Council. Archived from the original on 1 January 2021. Retrieved 15 August 2020.\\n\\n^ M S Dhoni  [@msdhoni] (15 August 2020). \"Thanks a lot for your love and support throughout. From 1929 hrs, consider me as retired\" (Tweet) – via Twitter. {{cite web}}: |author1= has generic name (help)CS1 maint: numeric names: authors list (link); {{Cite tweet}}: Missing or empty |number= (help) \\n\\n^ a b c d \"M S Dhoni, profile\". ESPNcricinfo. Archived from the original on 28 November 2023. Retrieved 1 December 2023.\\n\\n^ \"Air India wins BCCI Corporate Trophy\". The New Indian Express. 8 September 2009. Archived from the original on 19 September 2023. Retrieved 29 November 2021.\\n\\n^ \"MS Dhoni\\'s blistering ton inspires Jharkhand win in Vijay Hazare trophy\". Deccan Chronicle. Archived from the original on 5 October 2023. Retrieved 2 October 2023.\\n\\n^ \"Mahendra Singh Dhoni named Jharkhand captain for Vijay Hazare Trophy\". India Today. Archived from the original on 4 October 2023. Retrieved 2 October 2023.\\n\\n^ \"Jharkhand vs Delhi, Vijay Hazare Trophy 2015/16, 2nd Quarter-Final at Bengaluru, December 23, 2015 - Full Scorecard\". ESPNcricinfo. Archived from the original on 4 October 2023. Retrieved 2 October 2023.\\n\\n^ \"Dhoni gets the highest price at IPL auction\". The Hindu. 21 February 2008. Archived from the original on 23 August 2023. Retrieved 24 September 2018.\\n\\n^ a b c \"MS Dhoni, Chennai Super Kings\". IPL. Archived from the original on 18 December 2023. Retrieved 1 December 2023.\\n\\n^ \"Raina, Dhoni star in Chennai triumph\". ESPNcricinfo. Archived from the original on 26 February 2021. Retrieved 4 June 2013.\\n\\n^ \"Warriors v Chennai: Dominant Chennai seal title\". ESPNcricinfo. Archived from the original on 13 February 2023. Retrieved 21 April 2012.\\n\\n^ a b \"Chennai Super Kings\". IPL. Archived from the original on 18 December 2023. Retrieved 1 December 2023.\\n\\n^ \"2014 Champions League Twenty20\". ESPNcricinfo. Archived from the original on 9 December 2023. Retrieved 1 December 2023.\\n\\n^ Amol (5 January 2016). \"Pune picks Dhoni, Rajkot recruits Raina\". The Hindu. Archived from the original on 23 January 2016. Retrieved 5 January 2016.\\n\\n^ \"IPL 2018: Dhoni to return to Chennai Super Kings\". The Hindu. 1 March 2018. Archived from the original on 18 December 2023. Retrieved 1 December 2023.\\n\\n^ \"Final (N), Indian Premier League at Mumbai, May 27 2018. Match Report\". ESPNcricinfo. 27 May 2018. Archived from the original on 29 October 2020. Retrieved 28 May 2018.\\n\\n^ \"MS Dhoni\\'s CSK claim 4th title: Complete list of IPL winners since 2008\". WION. Archived from the original on 19 September 2023. Retrieved 18 March 2022.\\n\\n^ \"MS Dhoni steps down as Chennai Super Kings captain, Ravindra Jadeja to lead in IPL 2022\". India Today. 24 March 2022. Archived from the original on 24 March 2022. Retrieved 24 March 2022.\\n\\n^ \"IPL 2022: MS Dhoni steps down as CSK captain, Ravindra Jadeja to lead\". Hindustan Times. 24 March 2022. Archived from the original on 22 September 2023. Retrieved 24 March 2022.\\n\\n^ \"Ravindra-Jadeja-hands-over-CSK-captaincy-back-to-MS-Dhoni\". Hindustan Times. 30 April 2022. Archived from the original on 22 September 2023. Retrieved 30 April 2022.\\n\\n^ \"MS Dhoni: Indian cricket\\'s first mega-brand\". ESPNcricinfo. 25 October 2017. Archived from the original on 11 November 2020. Retrieved 26 October 2017.\\n\\n^ Sen, Rohan (16 April 2021). \"IPL 2021: MS Dhoni becomes first player to feature in 200 T20 matches for Chennai Super Kings\". India Today. Archived from the original on 19 September 2023. Retrieved 29 August 2021.\\n\\n^ \"MS Dhoni hands over CSK captaincy to Ruturaj Gaikwad\". ESPNcricinfo. 21 March 2024. Archived from the original on 21 May 2024. Retrieved 15 April 2024.\\n\\n^ \"Chennai beat Mumbai despite Rohit Sharma ton\". SuperSport. 14 April 2024. Retrieved 15 April 2024.\\n\\n^ Saharoy, Shilarze (7 July 2021). \"Indian army veteran says the armed forces might have missed out on a good officer in Mahendra Singh Dhoni\". The Times of India. Archived from the original on 23 August 2021. Retrieved 23 August 2021.\\n\\n^ \"What you need to know about Dhoni\\'s stint with the Indian Territorial Army\". The Hindu. 31 July 2019. ISSN\\xa00971-751X. Archived from the original on 22 September 2023. Retrieved 23 August 2021.\\n\\n^ Lavania, Deepak (21 August 2020). \"Dhoni \\'the paratrooper\\' knew how to land smoothly\". The Times of India. Archived from the original on 23 August 2021. Retrieved 23 August 2021.\\n\\n^ \"Lieutenant Colonel MS Dhoni completes 15-day Army stint\". India Today. Archived from the original on 2 January 2020. Retrieved 17 August 2019.\\n\\n^ \"I wanted to become a soldier, not a cricketer: Dhoni\". Firstpost. 2 October 2013. Archived from the original on 3 April 2023. Retrieved 11 October 2021.\\n\\n^ Jagannathan, K. T. (2 February 2013). \"India Cements appoints Dhoni as Vice-President\". The Hindu. ISSN\\xa00971-751X. Archived from the original on 3 November 2023. Retrieved 29 November 2021.\\n\\n^ \"In a first, India Cements ropes in its VP Marketing \\'Captain Cool\\' MS Dhoni to endorse two brands\". Money Control. 16 March 2022. Archived from the original on 24 September 2023. Retrieved 12 March 2023.\\n\\n^ \"MS Dhoni becomes ISL team Chennaiyin FC co-owner\". The Times of India. 6 October 2014. Archived from the original on 6 March 2019. Retrieved 7 October 2014.\\n\\n^ \"Dhoni buys Ranchi franchise of Hockey India League\". The Times of India. 2 December 2014. Archived from the original on 7 March 2019. Retrieved 14 December 2014.\\n\\n^ \"Seven grosses over $2.5 mio\". The Economic Times. Archived from the original on 13 June 2018. Retrieved 27 August 2017.\\n\\n^ \"MS Dhoni invests in CARS24, will be the company\\'s brand ambassador\". The Economic Times. 13 August 2019. Archived from the original on 2 March 2021. Retrieved 18 September 2020.\\n\\n^ \"Big FMCG companies enter plant-based meat segment, target non-veg consumers\". Business Standard. 24 July 2022. Archived from the original on 12 October 2022. Retrieved 12 October 2022.\\n\\n^ \"MS Dhoni invests in plant-based protein startup Shaka Harry\". The Economic Times. 22 October 2022. Archived from the original on 12 October 2022. Retrieved 1 December 2023.\\n\\n^ \"Banijay Asia, MS Dhoni Ink Pact To Create Content Across Genres\". Banjay Asia. 7 January 2019. Archived from the original on 26 December 2023. Retrieved 1 December 2023.\\n\\n^ Kansal, Sonal (6 March 2019). \"Roar of the Lion – The untold Dhoni story to come on Hotstar\". InsideSport. Archived from the original on 3 July 2021. Retrieved 12 March 2019.\\n\\n^ \"Dhoni Entertainment\\'s \\'LGM - Let\\'s Get Married\\' to release in theatres on July 28\". The Hindu. 20 July 2023. Archived from the original on 22 July 2023. Retrieved 28 July 2023.\\n\\n^ \"LGM – Let\\'s Get Married Review: Sakshi, Dhoni gift the most nonsensical film of 2023\". India Today. 28 July 2023. Archived from the original on 28 July 2023. Retrieved 28 July 2023.\\n\\n^ \"LGM: Let\\'s Get Married Movie Review\\xa0: LGM - Not a sixer this time\". The Times of India. Archived from the original on 28 July 2023. Retrieved 28 July 2023.\\n\\n^ Jayaraman, NP (3 April 2024). \"Thala\\' MS Dhoni special cameo in \\'Thalapathy\\' Vijay\\'s \\'GOAT\\'\". Deccan Herald. Archived from the original on 19 May 2024. Retrieved 19 May 2024.\\n\\n^ \"All Eyes On Cricket Legend MS Dhoni Ahead Of India\\'s Biggest Sports Event\". Forbes. Archived from the original on 19 December 2023. Retrieved 1 December 2023.\\n\\n^ \"MS Dhoni, net worth\". Sportskeeda. Archived from the original on 8 December 2023. Retrieved 1 December 2023.\\n\\n^ \"MS Dhoni a baahubali whose brand valuation keeps running to new dawns\". The Economic Times. 30 May 2023. Archived from the original on 19 December 2023. Retrieved 1 December 2023.\\n\\n^ \"Dhoni\\'s popularity has surpassed Tendulkar feels Gavaskar\". Mint. 19 September 2020. Archived from the original on 19 December 2023. Retrieved 1 December 2023.\\n\\n^ \"Dhoni more popular than Tendulkar\". The Hindu. 19 September 2020. Archived from the original on 19 December 2023. Retrieved 1 December 2023.\\n\\n^ \"BCCI retires iconic No.7 jersey to honour Dhoni\". The Times of India. 15 December 2023. Archived from the original on 15 December 2023. Retrieved 15 December 2023.\\n\\n^ \"Dhoni — the ultimate outsider who became Chennai\\'s own\". The Hindu. 15 May 2023. Archived from the original on 11 December 2023. Retrieved 1 December 2023.\\n\\n^ \"\\'Thala Dhoni and Chennai will remain a connection like very few\\': Sehwag pays rich tribute to former CSK \\'leader\\'\". Hindustan Times. 25 March 2022. Archived from the original on 19 December 2023. Retrieved 1 December 2023.\\n\\n^ a b Ragav, S. Dipak (22 July 2017). \"Unorthodox Dhoni shows his method of big hitting\". Sportstar. Archived from the original on 11 October 2021. Retrieved 11 October 2021.\\n\\n^ \"Looked like a maverick, destroyed whatever came in front of him: Holding lauds Dhoni\". The Hindu. PTI. 23 August 2020. ISSN\\xa00971-751X. Archived from the original on 26 October 2021. Retrieved 26 October 2021.\\n\\n^ \"10 fastest runners in the cricket world\". Yahoo! Cricket. 7 February 2017. Archived from the original on 14 March 2021. Retrieved 22 December 2020.\\n\\n^ Srihari (3 October 2016). \"The tragic story of Santosh Lal – MS Dhoni\\'s friend and the inventor of the helicopter shot\". Sportskeeda. Archived from the original on 4 June 2020. Retrieved 4 June 2020.\\n\\n^ \"Jharkhand cricketer Santosh Lal dies aged 29\". ESPNcricinfo. 18 July 2013. Archived from the original on 4 June 2020. Retrieved 4 June 2020.\\n\\n^ Sheringham, Sam (9 October 2012). \"World T20 cricket: Dilscoops, helicopter shots and the gangnam\". BBC Sport Online. Archived from the original on 4 June 2020. Retrieved 4 June 2020.\\n\\n^ Chopra, Aakash (1 September 2015). \"The MS Dhoni batting manual\". ESPNcricinfo. Archived from the original on 1 February 2023. Retrieved 1 February 2023.\\n\\n^ \"Pause, rewind, play: A look at MS Dhoni\\'s unmatched brilliance behind the stumps\". Scroll. Archived from the original on 19 September 2023. Retrieved 5 September 2021.\\n\\n^ \"Kirmani stumped by Dhoni\\'s wicket-keeping technique\". ESPNcricinfo. 24 November 2006. Archived from the original on 19 September 2023. Retrieved 1 December 2023.\\n\\n^ \"MS Dhoni not an introvert, anyone could walk in his room to talk cricket and order food: Ashish Nehra\". Times Now. 8 May 2020. Archived from the original on 19 September 2023. Retrieved 17 October 2021.\\n\\n^ \"MS Dhoni vs Virat Kohli: Team India head coach Ravi Shastri decodes captaincy styles of two Indian stalwarts\". Times Now. November 2020. Archived from the original on 19 September 2023. Retrieved 17 October 2021.\\n\\n^ \"Former Sri Lanka Spinner is a Fan of MS Dhoni\\'s Captaincy Style\". News18. Archived from the original on 19 September 2023. Retrieved 17 October 2021.\\n\\n^ \"Dhoni to wed tonight\". The Hindu. PTI. 4 July 2010. ISSN\\xa00971-751X. Archived from the original on 22 September 2023. Retrieved 26 October 2021.\\n\\n^ \"Dhoni marries girlfriend in a hush hush manner\". OneIndia. 5 July 2010. Archived from the original on 15 July 2014. Retrieved 20 December 2010.\\n\\n^ \"\\'I am on national duty, so everything else can wait\\'\". Telegraph India. 8 February 2015. Archived from the original on 19 September 2023. Retrieved 5 May 2022.\\n\\n^ \"Mahendra Singh Dhoni Becomes Father to a Baby Girl\". NDTV. 6 February 2015. Archived from the original on 19 September 2023. Retrieved 5 May 2022.\\n\\n^ \"Ice cream getting hot\". Zee news. 11 August 2023. Archived from the original on 8 November 2023. Retrieved 2 October 2023.\\n\\n^ \"Watch: MS Dhoni\\'s \\'massive\\' bikes and cars collection\". The Times of India. 20 July 2023. Archived from the original on 5 December 2023. Retrieved 1 December 2023.\\n\\n^ \"Highest career batting average, ODIs\". ESPNcricinfo. Archived from the original on 16 October 2023. Retrieved 1 October 2023.\\n\\n^ a b \"Most dismissals in career\". ESPNcricinfo. Archived from the original on 7 May 2023. Retrieved 3 May 2023.\\n\\n^ \"Statistics/Statsguru/Dhoni/Fielding\". ESPNcricinfo. Archived from the original on 19 December 2023. Retrieved 25 October 2023.\\n\\n^ \"Statistics/Statsguru/Dhoni/Batting\". ESPNcricinfo. Archived from the original on 19 December 2023. Retrieved 25 October 2023.\\n\\n^ a b \"Most matches as captain, ODI\". ESPNcricinfo. Archived from the original on 29 May 2023. Retrieved 20 June 2020.\\n\\n^ a b \"Matches as captain, T20I\". ESPNcricinfo. Archived from the original on 6 June 2023. Retrieved 1 July 2023.\\n\\n^ \"Dhoni career highlights\". Cricket.com. 16 August 2020. Retrieved 1 December 2024.\\n\\n^ V, Alagappan (29 March 2018). \"A look at MS Dhoni\\'s Test records\". SportSkeeda. Archived from the original on 3 April 2019.\\n\\n^ \"1st Test, Day 3: India vs Australia statistical highlights\". NDTV. 24 February 2013. Archived from the original on 19 September 2023. Retrieved 5 May 2022. Dhoni is the first Indian and the seventh wicketkeeper to manage 4,000 runs or more in Tests - 4089Â  (ave.40.08) in 74 Tests. Â, He has joined Adam Gilchrist (5570), Mark Boucher (5515), Alec Stewart (4540), Andy Flower (4404), Alan Knott (4389) and Ian Healy (4356).\\n\\n^ \"Stats: Most sixes by captains in Test cricket\". CricTracker. 21 October 2016. Retrieved 19 February 2025.\\n\\n^ \"India Test records – Most wicket-keeper career dismissals\". ESPNcricinfo. Archived from the original on 14 February 2021. Retrieved 20 June 2020.\\n\\n^ Shemilt, Stephan (19 March 2015). \"India beat Bangladesh to reach Cricket World Cup semi-finals\". BBC Sport. Archived from the original on 26 June 2019. Retrieved 5 May 2022.\\n\\n^ \"Most runs as ODI captain\". Cricindeed. 18 January 2020. Archived from the original on 2 November 2020. Retrieved 20 June 2020.\\n\\n^ \"MS Dhoni crosses 10,000-run mark in ODIs, first batsman with 50+ average\". Zee News. 15 July 2018. Archived from the original on 19 September 2023. Retrieved 5 May 2022.\\n\\n^ \"MS Dhoni retires: 5 world records the former India captain still holds\". Hindustan Times. 16 August 2020. Archived from the original on 22 September 2023. Retrieved 27 October 2021.\\n\\n^ \"Records/One-Day Internationals/Batting records/Most runs in an innings by a wicketkeeper\". ESPNcricinfo. Archived from the original on 4 May 2017. Retrieved 2 February 2017.\\n\\n^ \"India/Records/ODI matches/Highest partnerships by wicket\". ESPNcricinfo. Archived from the original on 17 August 2020. Retrieved 1 July 2020.\\n\\n^ \"Records/India/One-Day Internationals/Most dismissals\". ESPNcricinfo. Archived from the original on 23 November 2016. Retrieved 1 March 2019.\\n\\n^ \"Records. One-Day Internationals. Wicketkeeping records. Most dismissals in career\". ESPNcricinfo. Archived from the original on 23 June 2019. Retrieved 6 February 2019.\\n\\n^ \"India v Sri Lanka: MS Dhoni becomes first wicketkeeper to 100 ODI stumpings\". The Times of India. Archived from the original on 11 November 2020. Retrieved 3 September 2017.\\n\\n^ \"most innings to score maiden fifty in T20Is\". sportskeeda. 2 February 2017. Archived from the original on 7 July 2018. Retrieved 3 May 2017.\\n\\n^ \"first player to score 1000 T20I runs without a career fifty\". cricket country. February 2017. Archived from the original on 2 March 2019. Retrieved 3 May 2017.\\n\\n^ \"India v England 3rd T20I highlights\". cricket country. 2 February 2017. Archived from the original on 12 October 2019. Retrieved 3 May 2017.\\n\\n^ \"Records/Twenty20 Internationals/Wicketkeeping records/Most dismissals in career\". ESPNcricinfo. Archived from the original on 25 April 2019. Retrieved 3 May 2017.\\n\\n^ \"Records/Twenty20 Internationals/Wicketkeeping records/Most catches in an innings\". ESPNcricinfo. Archived from the original on 8 July 2018. Retrieved 3 May 2017.\\n\\n^ \"Records/Combined Test, ODI and T20I records/Individual records (captains, players, umpires)/Most matches as captain\". ESPNcricinfo. Archived from the original on 26 January 2020. Retrieved 3 May 2017.\\n\\n^ \"MS Dhoni becomes first ever wicket-keeper to affect 150 stumpings\". Zee News. 23 October 2016. Archived from the original on 26 June 2019. Retrieved 2 February 2017.\\n\\n^ \"Records/Combined Test, ODI and T20I records /Wicketkeeping records/Most stumpings in career\". ESPNcricinfo. Archived from the original on 28 April 2019. Retrieved 3 May 2017.\\n\\n^ \"Most sixes in career\". ESPNcricinfo. Archived from the original on 7 May 2023. Retrieved 3 May 2023.\\n\\n^ \"Dhoni conferred on Khel Ratna, Arjuna to 11 others\". The Times of India. 29 August 2008. ISSN\\xa00971-8257. Retrieved 1 April 2025.\\n\\n^ \"Dhoni wins ICC ODI Player of the Year award\". India Today. 10 September 2008. Retrieved 3 April 2025.\\n\\n^ \"ICC awards: Dhoni ODI player, Gambhir Test player of the year\". The Times of India. 1 October 2009. ISSN\\xa00971-8257. Retrieved 1 April 2025.\\n\\n^ \"Full list of Indian cricketers to be conferred with the Padma Shri award\". Khel Now. Retrieved 3 April 2025.\\n\\n^ \"Mahendra Singh Dhoni wins 2013 LG People\\'s Choice Award\". The Economic Times. 3 December 2013. ISSN\\xa00013-0389. Retrieved 3 April 2025.\\n\\n^ \"Padma Awards: Mahendra Singh Dhoni Among Luminaries To Receive Prestigious Recognition | Cricket News\". NDTVSports.com. Retrieved 1 April 2025.\\n\\n^ \"MS Dhoni voted as winner of the ICC Spirit of Cricket Award of the Decade\". www.icc-cricket.com. Retrieved 3 April 2025.\\n\\n^ \"3 Indians in ICC ODI Team of Year, Dhoni named captain | Cricket News\". NDTVSports.com. Retrieved 3 April 2025.\\n\\n^ \"Dhoni named captain of ICC ODI team\". India Today. 12 September 2011. Retrieved 3 April 2025.\\n\\n^ \"ICC announces Test and ODI Teams of the Year\". www.icc-cricket.com. 3 December 2013. Retrieved 3 April 2025.\\n\\n^ \"ICC Test and ODI Teams of the Year 2014 announced\". www.icc-cricket.com. 5 November 2014. Retrieved 3 April 2025.\\n\\n^ \"MS Dhoni captain of ICC\\'s white-ball teams of decade, Virat Kohli voted skipper of Test side\". The Times of India. 27 December 2020. ISSN\\xa00971-8257. Retrieved 10 July 2020.\\n\\n^ \"MS Dhoni: The Untold Story Plot Summary\". The Times of India. 19 October 2016. Archived from the original on 3 July 2021. Retrieved 2 December 2020.\\n\\n^ Kapoor, Aarohy (31 January 2020). \"Popular biographies & autobiographies of Indian cricketers\". The Times of India. Archived from the original on 30 September 2023. Retrieved 27 January 2022.\\n\\n^ \"Prakash Raj on Dhoni\". Indian Express. 17 January 2012. Archived from the original on 26 December 2023. Retrieved 18 August 2023.\\n\\n\\nExternal links\\nMahendra Singh Dhoni at ESPNcricinfo \\nMahendra Singh Dhoni at Wisden India \\nMahendra Singh Dhoni at Wisden India \\n\\n\\nSporting positions\\n\\n\\nPreceded\\xa0byAnil Kumble\\n\\n Indian Test Captain 2008–2014\\n\\nSucceeded\\xa0byVirat Kohli\\n\\n\\nPreceded\\xa0byRahul Dravid\\n\\n Indian ODI captain 2007–2016\\n\\nSucceeded\\xa0byVirat Kohli\\n\\n\\nPreceded\\xa0byVirender Sehwag\\n\\n Indian T20I Captain 2007–2016\\n\\nSucceeded\\xa0byVirat Kohli\\n\\n\\nPortals: Biography Cricket IndiaMS Dhoni at Wikipedia\\'s sister projects:Media from CommonsQuotations from WikiquoteData from Wikidata\\nNavigation boxes related to MS Dhoni\\nAwards and Achievements\\nvteCricket World Cup final Man of the Match\\n1975:  Lloyd\\n1979:  Richards\\n1983:  Amarnath\\n1987:  Boon\\n1992:  Akram\\n1996:  de Silva\\n1999:  Warne\\n2003:  Ponting\\n2007:  Gilchrist\\n2011:  Dhoni\\n2015:  Faulkner\\n2019:  Stokes\\n2023:  Head\\n\\nvte2013 ICC Champions Trophy Team of the Tournament\\n Shikhar Dhawan\\n Jonathan Trott\\n Kumar Sangakkara\\n Virat Kohli\\n Misbah-ul-Haq\\n MS Dhoni (c & wk)\\n Ravindra Jadeja\\n Ryan McLaren\\n Bhuvneshwar Kumar\\n James Anderson\\n Mitchell McClenaghan\\n Joe Root (12th man)\\n\\nGeoff Allardice, Javagal Srinath, Aleem Dar, Scyld Berry and Stephen Brenkley were the Panel of selectors for the Team.\\nShikhar Dhawan was adjudged as the Player of the Tournament.\\n\\nvteRecipients of Padma Shri in Sports1950s\\nBalbir Singh Sr. (1957)\\nK. D. Singh (1958)\\nMihir Sen (1959)\\nMilkha Singh (1959)\\n1960s\\nVijay Hazare (1960)\\nJasu Patel (1960)\\nArati Saha (1960)\\nNari Contractor (1962)\\nSonam Gyatso (1962)\\nRamanathan Krishnan (1962)\\nGostha Pal (1962)\\nPolly Umrigar (1962)\\nSyed Mushtaq Ali (1963)\\nM. J. Gopalan (1964)\\nNawang Gombu (1964)\\nCharanjit Singh (1964)\\nH. P. S. Ahluwalia (1965)\\nAvtar Singh Cheema (1965)\\nD. B. Deodhar (1965)\\nPhu Dorjee (1965)\\nWilson Jones (1965)\\nVerghese Kurien (1965)\\nHarish Chandra Singh Rawat (1965)\\nChandra Prakash Vohra (1965)\\nSonam Wangyal (1965)\\nKishan Lal (1966)\\nNarendra Kumar (1965)\\nShankar Lakshman (1967)\\nMansoor Ali Khan Pataudi (1967)\\nGurdial Singh (1967)\\nPrithipal Singh (1967)\\nChandu Borde (1969)\\n1970s\\nBishan Singh Bedi (1970)\\nMoin-ul-Haq (1970)\\nE. A. S. Prasanna (1970)\\nLeslie Claudius (1971)\\nSailen Manna (1971)\\nGhaus Mohammad (1971)\\nChandgi Ram (1971)\\nKamaljeet Sandhu (1971)\\nGundappa Viswanath (1971)\\nHarsh Vardhan Bahuguna (1972)\\nB. S. Chandrasekhar (1972)\\nAjit Wadekar (1972)\\nFarokh Engineer (1973)\\nPankaj Roy (1975)\\nRoshan Lal Anand (1976)\\nMeena Shah (1977)\\n1980s\\nVasudevan Baskaran (1981)\\nSyed Kirmani (1982)\\nKapil Dev (1982)\\nPrakash Padukone (1982)\\nVijay Amritraj (1983)\\nBahadur Singh Chauhan (1983)\\nGuru Hanuman (1983)\\nEliza Nelson (1983)\\nChand Ram (1983)\\nKaur Singh (1983)\\nRaghubir Singh (1983)\\nSatpal Singh (1983)\\nM. D. Valsamma (1983)\\nGeeta Zutshi (1983)\\nCharles Borromeo (1984)\\nPhu Dorjee (1984)\\nChuni Goswami (1984)\\nD. K. Khullar (1984)\\nBachendri Pal (1984)\\nOmprakesh Agrawal (1985)\\nP. T. Usha (1985)\\nAnupama Gokhale (1986)\\nSwaroop Kishen (1986)\\nGeet Sethi (1986)\\nMohammad Shahid (1986)\\nBhagyashree Thipsay (1987)\\nDilip Vengsarkar (1987)\\nViswanathan Anand (1988)\\nMohammad Azharuddin (1988)\\n1990s\\nChandraprabha Aitwal (1990)\\nP. K. Banerjee (1990)\\nPremchand Degra (1990)\\nGulshan Rai (1990)\\nJaman Lal Sharma (1990)\\nTaranath Narayan Shenoy (1990)\\nSelma D\\'Silva (1991)\\nAspy Adajania (1992)\\nAjit Pal Singh (1992)\\nSriram Singh (1992)\\nHakam Singh (1992)\\nShiny Abraham (1998)\\nRamesh Krishnan (1998)\\nLila Ram (1998)\\nPargat Singh (1998)\\nKarnam Malleswari (1999)\\nSachin Tendulkar (1999)\\n2000s\\nSantosh Yadav (2000)\\nMahesh Bhupathi (2001)\\nMalathi Krishnamurthy Holla (2001)\\nBhuvneshwari Kumari (2001)\\nLeander Paes (2001)\\nDhanraj Pillay (2001)\\nSunita Rani (2001)\\nDiana Edulji (2002)\\nJaspal Rana (2002)\\nMukesh Kumar (2003)\\nGopal Purushottam Phadke (2003)\\nKanhaya Lal Pokhriyal (2003)\\nJyotirmoyee Sikdar (2003)\\nSrinivasaraghavan Venkataraghavan (2003)\\nK. M. Beenamol (2004)\\nGurmayum Anita Devi (2004)\\nRahul Dravid (2004)\\nSourav Ganguly (2004)\\nAnju Bobby George (2004)\\nS. P. Nimbalkar (2004)\\nDilip Tirkey (2004)\\nPullela Gopichand (2005)\\nAnil Kumble (2005)\\nGurbachan Singh Randhawa (2005)\\nRajyavardhan Singh Rathore (2005)\\nRachel Thomas (2005)\\nMadhumita Bisht (2006)\\nMohan Singh Gunjyal (2006)\\nMary Kom (2006)\\nSania Mirza (2006)\\nBahadur Singh Sagoo (2006)\\nKoneru Humpy (2007)\\nJeev Milkha Singh (2007)\\nBhaichung Bhutia (2008)\\nBula Choudhury (2008)\\nPankaj Advani (2009)\\nMS Dhoni (2009)\\nBalbir Singh Kullar (2009)\\nHarbhajan Singh (2009)\\n2010s\\nRamakant Achrekar (2010)\\nNarain Karthikeyan (2010)\\nSaina Nehwal (2010)\\nVirender Sehwag (2010)\\nVijender Singh (2010)\\nIgnace Tirkey (2010)\\nKunjarani Devi (2011)\\nSushil Kumar (2011)\\nVVS Laxman (2011)\\nShital Mahajan (2011)\\nGagan Narang (2011)\\nKrishna Poonia (2011)\\nHarbhajan Singh (mountaineer) (2011)\\nS. M. Arif (2012)\\nRavi Chaturvedi (2012)\\nJhulan Goswami (2012)\\nZafar Iqbal (field hockey) (2012)\\nDevendra Jhajharia (2012)\\nLimba Ram (2012)\\nPrabhakar Vaidya (2012)\\nPremlata Agrawal (2013)\\nYogeshwar Dutt (2013)\\nVijay Kumar (2013)\\nGirisha Nagarajegowda (2013)\\nDingko Singh (2013)\\nBajrang Lal Takhar (2013)\\nAnjum Chopra (2014)\\nSunil Dabas (2014)\\nLove Raj Singh Dharmshaktu (2014)\\nDipika Pallikal (2014)\\nH. Boniface Prabhu (2014)\\nYuvraj Singh (2014)\\nMamta Sodha (2014)\\nSaba Anjum Karim (2015)\\nMithali Raj (2015)\\nP. V. Sindhu (2015)\\nSardara Singh (2015)\\nArunima Sinha (2015)\\nSushil Doshi (2016)\\nDeepika Kumari (2016)\\nVikas Gowda (2017)\\nDipa Karmakar (2017)\\nVirat Kohli (2017)\\nDeepa Malik (2017)\\nSakshi Malik (2017)\\nShekhar Naik (2017)\\nP. R. Sreejesh (2017)\\nMariyappan Thangavelu (2017)\\nSaikhom Mirabai Chanu (2018)\\nSomdev Devvarman (2018)\\nMurlikant Petkar (2018)\\nSrikanth Kidambi (2018)\\nSunil Chhetri (2019)\\nHarika Dronavalli (2019)\\nGautam Gambhir (2019)\\nSharath Kamal (2019)\\nBombayla Devi Laishram (2019)\\nBajrang Punia (2019)\\nPrashanti Singh (2019)\\nAjay Thakur (2019)\\n2020s\\nOinam Bembem Devi (2020)\\nM. P. Ganesh (2020)\\nZaheer Khan (2020)\\nJitu Rai (2020)\\nTarundeep Rai (2020)\\nRani Rampal (2020)\\nAnitha Pauldurai (2021)\\nAnshu Jamsenpa (2021)\\nMouma Das (2021)\\nSudha Singh (2021)\\nVirender Singh (2021)\\nK. Y. Venkatesh (2021)\\nSumit Antil (2022)\\nPramod Bhagat (2022)\\nNeeraj Chopra (2022)\\nSankaranarayana Menon (2022)\\nFaisal Ali Dar (2022)\\nVandana Katariya (2022)\\nAvani Lekhara (2022)\\nBrahmanand Sankhwalkar (2022)\\nS. R. D. Prasad (2023)\\nK. Shanathoiba Sharma (2023)\\nGurcharan Singh (2023)\\nJoshna Chinappa (2024)\\nRohan Bopanna (2024)\\nPurnima Mahato (2024)\\nHarbinder Singh (2024)\\nSatendra Singh Lohiya (2024)\\nGaurav Khanna (2024)\\nUday Vishwanath Deshpande (2024)\\nHarvinder Singh (2025)\\nI. M. Vijayan (2025)\\nRavichandran Ashwin (2025)\\nSatyapal Singh (2025)\\n\\nvtePadma Bhushan award recipients (2010–2019)2010\\nSatya Paul Agarwal\\nMohammad Amin\\nSailesh Kumar Bandopadhyay\\nM. S. Banga\\nAnil Bordia\\nBipan Chandra\\nB. K. Chaturvedi\\nSant Singh Chatwal\\nG. P. Chopra\\nTan Chung\\nMadhusudan Dhaky\\nP. R. Dubhashi\\nPuttaraj Gawai\\nBelle Monappa Hegde\\nIlaiyaraaja\\nJagdish Chandra Kapur\\nShrinivas Khale\\nAamir Khan\\nSultan Khan\\nRam Kumar\\nKumudini Lakhia\\nKuzhur Narayana Marar\\nChhannulal Mishra\\nEledath Thaikkattu Narayanan Mooss\\nC. P. Krishnan Nair\\nS. P. Oswal\\nAkbar Padamsee\\nRamakanta Panda\\nBalasaheb Vikhe Patil\\nArogyaswami Paulraj\\nA. R. Rahman\\nMoosa Raza\\nMallika Sarabhai\\nNookala Chinna Satyanarayana\\nAbhijit Sen\\nSatya Vrat Shastri\\nNoshir M. Shroff\\nKushal Pal Singh\\nBikash Sinha\\nBalagangadharanatha Swamiji\\nNarayanan Vaghul\\nP. K. Warrier\\nFareed Zakaria\\n2011\\nS. P. Balasubrahmanyam\\nRajashree Birla\\nM. N. Buch\\nC. V. Chandrasekhar\\nAjai Chowdhry\\nYogesh Chander Deveshwar\\nSatyadev Dubey\\nT. J. S. George\\nShankha Ghosh\\nKris Gopalakrishnan\\nKeki Byramjee Grant\\nShashi Kapoor\\nKrishen Khanna\\nKhayyam\\nChanda Kochhar\\nDwijen Mukhopadhyay\\nMadavoor Vasudevan Nair\\nRamdas Pai\\nDashrath Patel\\nRajendra Singh Pawar\\nSuryanarayanan Ramachandran\\nShobhana Ranade\\nGunupati Venkata Krishna Reddy\\nKallam Anji Reddy\\nWaheeda Rehman\\nShyam Saran\\nAnaljit Singh\\nArpita Singh\\nSurendra Singh\\nR. K. Srikantan\\nRaghavan Thirumulpad\\n2012\\nSuresh H. Advani\\nShabana Azmi\\nHomi K. Bhabha\\nShashikumar Chitre\\nKhaled Choudhury\\nJatin Das\\nVidya Dehejia\\nDharmendra\\nS. N. Goenka\\nM. S. Gopalakrishnan\\nT. V. Gopalakrishnan\\nBuddhadev Das Gupta\\nSunil Janah\\nAnish Kapoor\\nS. B. Mujumdar\\nB. Muthuraman\\nMira Nair\\nArvind Panagariya\\nJosé Pereira\\nMata Prasad\\nM. S. Raghunathan\\nP. Chandrasekhara Rao\\nRonen Sen\\nDevi Shetty\\nM. V. Subbiah\\nN. Vittal\\nN. H. Wadia\\nGeorge Yeo\\n2013\\nSatya N. Atluri\\nMaharaj Kishan Bhan\\nJaspal Bhatti\\nRahul Dravid\\nAdi Godrej\\nAbdul Rashid Khan\\nRajesh Khanna\\nMary Kom\\nNandkishore Shamrao Laud\\nMangesh Padgaonkar\\nHemendra Singh Panwar\\nJogesh Pati\\nShivajirao Girdhar Patil\\nA. Sivathanu Pillai\\nD. Ramanaidu\\nKanak Rele\\nV. K. Saraswat\\nAshoke Sen\\nGayatri Chakravorty Spivak\\nB. N. Suresh\\nSharmila Tagore\\nRamamurthy Thyagarajan\\nSaroja Vaidyanathan\\n2014\\nAnisuzzaman\\nMrityunjay Athreya\\nPadmanabhan Balaram\\nDalveer Bhandari\\nRuskin Bond\\nAnita Desai\\nPullela Gopichand\\nKamal Haasan\\nJyeshtharaj Joshi\\nV. N. Kaul\\nNeelam Kler\\nM. Mahadevappa\\nLeander Paes\\nKoppillil Radhakrishnan\\nAnumolu Ramakrishna\\nThirumalachari Ramasami\\nLloyd Rudolph\\nSusanne Hoeber Rudolph\\nVinod Prakash Sharma\\nGulam Mohammed Sheikh\\nParween Sultana\\nDhirubhai Thaker\\nVairamuthu\\nJ. S. Verma\\nT. H. Vinayakram\\n2015\\nJahnu Barua\\nManjul Bhargava\\nVijay P. Bhatkar\\nSwapan Dasgupta\\nDavid Frawley\\nBill Gates\\nMelinda French Gates\\nSwami Satyamitranand\\nN. Gopalaswami\\nSubhash C. Kashyap\\nGokulotsavji Maharaj\\nSaichiro Misumi\\nAmbrish Mithal\\nSudha Ragunathan\\nHarish Salve\\nAshok Seth\\nRajat Sharma\\nSatpal Singh\\nShivakumara Swami\\nKhadg Singh Valdiya\\n2016\\nRavindra Chandra Bhargava\\nRobert D. Blackwill\\nHafeez Contractor\\nIndu Jain\\nHeisnam Kanhailal\\nAnupam Kher\\nSania Mirza\\nPallonji Mistry\\nUdit Narayan\\nSaina Nehwal\\nYarlagadda Lakshmi Prasad\\nVinod Rai\\nN. S. Ramanuja Tatacharya\\nA. V. Rama Rao\\nD. Nageshwara Reddy\\nDayananda Saraswati\\nBarjinder Singh Hamdard\\nRam V. Sutar\\nTejomayananda\\n2017\\nVishwa Mohan Bhatt\\nDeviprasad Dwivedi\\nRatnasundarsuri\\nNiranjanananda Saraswati\\nCho Ramaswamy\\nMaha Chakri Sirindhorn\\nTehemton Erach Udwadia\\n2018\\nPankaj Advani\\nPhilipose Mar Chrysostom\\nMahendra Singh Dhoni\\nAlexander Kadakin\\nRamachandran Nagaswamy\\nLaxman Pai\\nArvind Parikh\\nSharda Sinha\\n2019\\nJohn T. Chambers\\nSukhdev Singh Dhindsa\\nPravin Gordhan\\nDharampal Gulati\\nDarshan Lal Jain\\nAshok Laxmanrao Kukade\\nKariya Munda\\nBudhaditya Mukherjee\\nMohanlal\\nNambi Narayanan\\nKuldip Nayar\\nBachendri Pal\\nV. K. Shunglu\\nHukmdev Narayan Yadav\\n# Posthumous conferral\\n1954–1959\\n1960–1969\\n1970–1979\\n1980–1989\\n1990–1999\\n2000–2009\\n2010–2019\\n2020–2029\\nvteBatsmen with 10,000 or more runs in ODI cricket\\xa0Australia\\nRicky Ponting (13,704)\\n\\xa0India\\nSachin Tendulkar (18,426)\\nVirat Kohli (13,848)\\nSourav Ganguly (11,363)\\nRahul Dravid (10,889)\\nMS Dhoni (10,773)\\nRohit Sharma (10,709)\\n\\xa0Pakistan\\nInzamam-ul-Haq (11,739)\\n\\xa0South Africa\\nJacques Kallis (11,579)\\n\\xa0Sri Lanka\\nKumar Sangakkara (14,234)\\nSanath Jayasuriya (13,430)\\nMahela Jayawardene (12,650)\\nTillakaratne Dilshan (10,290)\\n\\xa0West Indies\\nChris Gayle (10,480)\\nBrian Lara (10,405)\\nCurrent players are listed in italics.\\nvteICC Men\\'s ODI Cricketer of the Year\\n2004:  Flintoff\\n2005:  Pietersen\\n2006:  Hussey\\n2007:  Hayden\\n2008:  Dhoni\\n2009:  Dhoni\\n2010:  de Villiers\\n2011:  Sangakkara\\n2012:  Kohli\\n2013:  Sangakkara\\n2014:  de Villiers\\n2015:  de Villiers\\n2016:  de Kock\\n2017:  Kohli\\n2018:  Kohli\\n2019:  Rohit\\n2021:  Babar\\n2022:  Babar\\n2023:  Kohli\\n2024:  Omarzai\\n\\nvteRecipients of Khel Ratna1991–2000\\nViswanathan Anand (1991–1992)\\nGeet Sethi (1992–1993)\\nHomi Motivala and Pushpendra Kumar Garg (1993–1994)\\nKarnam Malleswari (1994–1995)\\nKunjarani Devi (1995–1996)\\nLeander Paes (1996–1997)\\nSachin Tendulkar (1997–1998)\\nJyotirmoyee Sikdar (1998–1999)\\nDhanraj Pillay (1999–2000)\\nPullela Gopichand (2000–2001)\\n2001–2010\\nAbhinav Bindra (2001)\\nK. M. Beenamol and Anjali Bhagwat (2002)\\nAnju Bobby George (2003)\\nRajyavardhan Singh Rathore (2004)\\nPankaj Advani (2005)\\nManavjit Singh Sandhu (2006)\\nMS Dhoni (2007)\\nNo award (2008)\\nMary Kom, Vijender Singh, and Sushil Kumar (2009)\\nSaina Nehwal (2010)\\n2011–2020\\nGagan Narang (2011)\\nVijay Kumar and Yogeshwar Dutt (2012)\\nRonjan Sodhi (2013)\\nNo award (2014)\\nSania Mirza (2015)\\nP. V. Sindhu, Dipa Karmakar, Jitu Rai, and Sakshi Malik (2016)\\nDevendra Jhajharia and Sardara Singh (2017)\\nSaikhom Mirabai Chanu and Virat Kohli (2018)\\nDeepa Malik and Bajrang Punia (2019)\\nRohit Sharma, Mariyappan Thangavelu, Manika Batra, Vinesh Phogat, and Rani Rampal (2020)\\n2021–2030\\nAvani Lekhara, Neeraj Chopra, Ravi Kumar Dahiya, Lovlina Borgohain, P. R. Sreejesh, Sumit Antil, Pramod Bhagat, Krishna Nagar, Manish Narwal, Mithali Raj, Sunil Chhetri and Manpreet Singh (2021)\\nSharath Kamal (2022)\\nChirag Shetty and Satwiksairaj Rankireddy (2023)\\nGukesh Dommaraju, Manu Bhaker, Harmanpreet Singh, and Praveen Kumar (2024)\\n\\nIndia squads\\nvteIndia squad – 2007 Cricket World Cup\\n3\\xa0Harbhajan\\n7\\xa0Dhoni\\n10\\xa0Tendulkar\\n12\\xa0Yuvraj\\n13\\xa0Munaf\\n19\\xa0Dravid (c)\\n21\\xa0Ganguly\\n27\\xa0Uthappa\\n34\\xa0Zaheer\\n36\\xa0Sreesanth\\n37\\xa0Kumble\\n44\\xa0Sehwag\\n56\\xa0Pathan\\n68\\xa0Agarkar\\n99\\xa0Karthik\\nCoach:\\xa0Chappell\\n\\nvteIndia squad – 2007 World Twenty20 – Champions (1st title)\\n1\\xa0Harbhajan\\n2\\xa0Dhoni (c & wk)\\n3\\xa0Rohit\\n4\\xa0Yuvraj\\n5\\xa0Joginder\\n6\\xa0Yusuf\\n7\\xa0Gambhir\\n8\\xa0Uthappa\\n9\\xa0RP Singh\\n10\\xa0Sreesanth\\n11\\xa0Chawla\\n44\\xa0Sehwag\\n12\\xa0Irfan\\n13\\xa0Agarkar\\n14\\xa0Karthik\\n15\\xa0Rohit\\nCoach:\\xa0Rajput\\n\\nvteIndia squad – 2010 Asia Cup – Champions (5th title)\\n1\\xa0Dhoni (c & wk)\\n2\\xa0Karthik\\n3\\xa0Ashwin\\n4\\xa0Dinda\\n5\\xa0Gambhir\\n6\\xa0Harbhajan\\n7\\xa0Jadeja\\n8\\xa0Zaheer\\n9\\xa0Kohli\\n10\\xa0Praveen\\n11\\xa0Ojha\\n12\\xa0Nehra\\n13\\xa0Raina\\n14\\xa0Rohit\\n15\\xa0Sehwag\\n\\nvteIndia squad – 2011 Cricket World Cup – Champions (2nd title)\\n3\\xa0Harbhajan\\n5\\xa0Gambhir\\n7\\xa0Dhoni (c & wk)\\n10\\xa0Tendulkar\\n11\\xa0Chawla\\n12\\xa0Yuvraj\\n13\\xa0Patel\\n18\\xa0Kohli\\n28\\xa0Pathan\\n34\\xa0Khan\\n36\\xa0Sreesanth\\n44\\xa0Sehwag (vc)\\n48\\xa0Raina\\n64\\xa0Nehra\\n99\\xa0Ashwin\\nCoach:\\xa0Kirsten\\n\\nvteIndia squad – 2013 ICC Champions Trophy – Champions (2nd title)\\n7\\xa0Dhoni (c & wk)\\n8\\xa0Jadeja\\n9\\xa0Mishra\\n1\\xa0I Sharma\\n3\\xa0Raina\\n18\\xa0Kohli (vc)\\n6\\xa0Vijay\\n25\\xa0Dhawan\\n45\\xa0R Sharma\\n99\\xa0Ashwin\\n19\\xa0Karthik\\n15\\xa0B Kumar\\n56\\xa0I Pathan\\n73\\xa0Umesh\\n23\\xa0V Kumar\\nCoach:\\xa0Fletcher\\n\\nvteIndia squad – 2015 Cricket World Cup - Semi-finalists\\n48\\xa0Raina\\n5\\xa0Rayudu\\n6\\xa0Mohit\\n7\\xa0Dhoni (c & wk)\\n8\\xa0Jadeja\\n11\\xa0Shami\\n15\\xa0Bhuvneshwar\\n18\\xa0Kohli (vc)\\n20\\xa0Axar\\n25\\xa0Dhawan\\n27\\xa0Rahane\\n45\\xa0Rohit\\n73\\xa0Umesh\\n84\\xa0Binny\\n99\\xa0Ashwin\\nCoach:\\xa0Fletcher\\n\\nvteIndia squad – 2016 Asia Cup – Champions (6th title)\\n1\\xa0Dhoni (c & wk)\\n2\\xa0Ashwin\\n3\\xa0Bumrah\\n4\\xa0Dhawan\\n5\\xa0Jadeja\\n6\\xa0Kohli\\n7\\xa0Bhuvneshwar\\n8\\xa0Negi\\n9\\xa0Nehra\\n10\\xa0Pandya\\n11\\xa0Patel\\n12\\xa0Rahane\\n13\\xa0Raina\\n14\\xa0Rohit\\n15\\xa0Harbhajan\\n16\\xa0Yuvraj\\n\\nvteIndia squad – 2018 Asia Cup – Champions (7th title)\\n1\\xa0Rohit (c)\\n2\\xa0Dhawan\\n3\\xa0Khaleel\\n4\\xa0Bumrah\\n5\\xa0Chahal\\n6\\xa0Chahar\\n7\\xa0Dhoni (wk)\\n8\\xa0Jadhav\\n9\\xa0Jadeja\\n10\\xa0Karthik\\n11\\xa0Kaul\\n12\\xa0Bhuvneshwar\\n13\\xa0Rahul\\n14\\xa0Pandey\\n15\\xa0Pandya\\n16\\xa0Rayudu\\n17\\xa0Thakur\\n18\\xa0Yadav\\n\\nvteIndia squad – 2019 Cricket World Cup semi-finalists\\n1\\xa0Rahul\\n3\\xa0Chahal\\n7\\xa0Dhoni (wk)\\n8\\xa0Jadeja\\n11\\xa0Shami\\n15\\xa0Kumar\\n18\\xa0Kohli (c)\\n21\\xa0Karthik (wk)\\n23\\xa0Kuldeep\\n25\\xa0Dhawan\\n33\\xa0Pandya\\n45\\xa0Rohit (vc)\\n59\\xa0Shankar\\n81\\xa0Kedar\\n93\\xa0Bumrah\\nCoach:\\xa0Shastri\\nAmbati Rayudu, Rishabh Pant, Axar Patel, Navdeep Saini and Ishant Sharma as stand-by players for the team.\\nvteIndia Test cricket captains\\n1932–1933/34: Nayudu\\n1936: Vizianagaram\\n1946: Pataudi, Sr.\\n1947/48–1952/53: Amarnath\\n1951/52–1952/53: Hazare\\n1954/55; 1958/59: Mankad\\n1955/56; 1958/59: Ahmed\\n1955/56–1956/57; 1958/59: Umrigar\\n1958/59: Adhikari\\n1959: Gaekwad\\n1959: Roy\\n1959/60: Ramchand\\n1960/61–1961/62; 1961/62: Contractor\\n1961/62–1974/75: Pataudi, Jr.\\n1967/68: Borde\\n1970/71–1974: Wadekar\\n1974/75; 1979: Venkataraghavan\\n1975/76; 1978/79–1984/85: Gavaskar\\n1975/75–1978/79: Bedi\\n1979/80; 1979/80: Viswanath\\n1982/83–1986/87: Dev\\n1987/88–1988/89: Vengsarkar\\n1987/88: Shastri\\n1989/90: Srikkanth\\n1989/90–1998/99: Azharuddin\\n1996/97–1999/00: Tendulkar\\n2000/01–2005/06: Ganguly\\n2003/04; 2004/05; 2005/06–2007: Dravid\\n2005/06; 2009; 2010; 2012: Sehwag\\n2007–2008: Kumble\\n2008–2014: Dhoni\\n2014/15; 2015–2022: Kohli\\n2016/17; 2020/21; 2021/22: Rahane\\n2021/22: Rahul\\n2022–: Sharma\\n2022: Bumrah\\nItalics denote deputised captaincy\\nvteIndia ODI cricket captains\\n1974: Wadekar\\n1975–1979: Venkataraghavan\\n1975/76–1978/79: Bedi\\n1980/81–1985/86: Gavaskar\\n1980/81: Viswanath\\n1982/83–1992/93: Dev\\n1983/84: Kirmani\\n1984/85: Amarnath\\n1986/87–1991/92: Shastri\\n1987/88–1988/89: Vengsarkar\\n1989/90: Srikkanth\\n1989/90–1999: Azharuddin\\n1996–1999/00: Tendulkar\\n1997/98–1999/00: Jadeja\\n1999–2005: Ganguly\\n2000/01–2007: Dravid\\n2001/02: Kumble\\n2003–2011: Sehwag\\n2007–2016: Dhoni\\n2010–2014: Raina\\n2011: Gambhir\\n2013–2021: Kohli\\n2015: Rahane\\n2017/18–present: Sharma\\n2021–22: Dhawan\\n2022–23: Rahul\\n2023: Pandya\\nItalics denote deputised captaincy\\nvteIndia T20I cricket captains\\n2006: Sehwag\\n2007–2016: Dhoni\\n2010–11: Raina\\n2015: Rahane\\n2016–21: Kohli\\n2017–24: Sharma\\n2021: Dhawan\\n2022: Pant\\n2022–23: Pandya\\n2022: Rahul\\n2023: Bumrah\\n2023: Gaikwad\\n2023–present: Yadav\\n2024: Gill\\nItalics denote deputised captaincy\\nvteChennai Super Kings  – current squad\\n31\\xa0Gaikwad (c)\\n1\\xa0Ghosh\\n7\\xa0Dhoni (wk)\\n8\\xa0Jadeja\\n9\\xa0Singh\\n10\\xa0Overton\\n15\\xa0Noor\\n17\\xa0Ravindra\\n19\\xa0Gopal\\n23\\xa0Bedi (wk)\\n25\\xa0Dube\\n28\\xa0Siddarth\\n33\\xa0Choudhary\\n37\\xa0Hooda\\n47\\xa0Kamboj\\n51\\xa0Nagarkoti\\n52\\xa0Tripathi\\n58\\xa0Curran\\n59\\xa0Shankar\\n66\\xa0Rasheed\\n71\\xa0Khaleel\\n72\\xa0Ellis\\n81\\xa0Pathirana\\n88\\xa0Conway (wk)\\n99\\xa0Ashwin\\nHead Coach: Stephen Fleming\\nBatting Coach: Michael Hussey\\nBowling Coach: TBA\\nFielding Coach: Rajiv Kumar\\n\\nAuthority control databases InternationalISNIVIAFFASTWorldCatNationalGermanyUnited States\\n\\n\\n\\n')]"
      ]
     },
     "execution_count": 15,
     "metadata": {},
     "output_type": "execute_result"
    }
   ],
   "source": [
    "text_documents"
   ]
  },
  {
   "cell_type": "code",
   "execution_count": 16,
   "metadata": {},
   "outputs": [],
   "source": [
    "# reading from pdf file\n",
    "from langchain_community.document_loaders import PyPDFLoader\n",
    "loader=PyPDFLoader(\"mokshi_timetable.pdf\")\n",
    "timetable_documents=loader.load()\n"
   ]
  },
  {
   "cell_type": "code",
   "execution_count": 17,
   "metadata": {},
   "outputs": [
    {
     "data": {
      "text/plain": [
       "[Document(metadata={'producer': 'www.ilovepdf.com', 'creator': 'Microsoft® Word 2016', 'creationdate': '2025-04-03T19:53:03+00:00', 'author': 'MT2024138 Shaik Mohammad Irfan', 'moddate': '2025-04-03T19:53:03+00:00', 'source': 'mokshi_timetable.pdf', 'total_pages': 3, 'page': 0, 'page_label': '1'}, page_content='TIME TABLE \\n \\nI will try to send the resources of each day before u start studying them .And \\nmost of these take a much longer time and if some day u complete your task \\nvery soon, then try to start the next days . And most importat is revision. \\nRevise everyday . \\n \\nTHURSDAY : \\n\\uf0b7 Do Selection sort and Insertion and Bubble sort today.(3 hrs) \\n\\uf0b7 Do Module-1 and Module-2 from from Lab-assignments.(compulsory) (2 \\nhrs) \\n\\uf0b7 Revise everything before u sleep and remember Time Complexities  \\n& SPACE COMPLEXITIES (TC & SC) of sorting algos. (before sleep) \\nFRIDAY : \\n\\uf0b7 Watch recursion videos from takeuforward nearly 10-12 videos . u will \\nget a basic idea about what is recursion(each video will be 20 mins \\naverage) Try to watch in 1.5x   \\n\\uf0b7 Watch quick sort and merge sort now  and remember the TC and SC s \\n(2hrs) \\n\\uf0b7 Get to know about Arithmetic,comparision and logical operators in \\npython ( 1 hr) \\n\\uf0b7 Watch and do Module-3 from Lab assignments. (1 hr) \\n\\uf0b7 Revise yesterdays concepts . (before sleep) \\nSATURDAY : \\n\\uf0b7 Look into the basic normal data structures of python like \\n(arrays,dictionaries,lists,sets,tuples,strings). Don’t worry of lot many . \\nThey will be very easy and u will complete fast I know. (2 hrs) \\n\\uf0b7 Binary search and linear search algorithms and their TC and SC. (1 hr)'),\n",
       " Document(metadata={'producer': 'www.ilovepdf.com', 'creator': 'Microsoft® Word 2016', 'creationdate': '2025-04-03T19:53:03+00:00', 'author': 'MT2024138 Shaik Mohammad Irfan', 'moddate': '2025-04-03T19:53:03+00:00', 'source': 'mokshi_timetable.pdf', 'total_pages': 3, 'page': 1, 'page_label': '2'}, page_content='\\uf0b7 Do Module 5 from lab assignments.(compulsory) (1 hr) \\n\\uf0b7 Do stacks and queues from takeuforward .   \\n\\uf0b7 Revise all concepts from Thursday and Friday . \\n \\nSUNDAY : \\n\\uf0b7 Today very important. OOPS (take half day) \\n\\uf0b7 OOPs from w3 schools. completely read and note them in your book. \\n\\uf0b7 Loops (if,elif,else) and while,for loops (most of them will be covered \\nwhile coding). (30  mins) \\n\\uf0b7 Revise completely from all previous days learned concepts . \\n\\uf0b7 Watch 1st 5 videos from LinkedList (only 1D LL is enough). From \\ntakeuforward. (2 hrs) \\n\\uf0b7 Read and do python file handling and exception handling. (1 hr) \\n\\uf0b7 Watch Graphs BFS and DFS algorithms (*)  (1 -2 hr) \\nMONDAY : \\n Little heavy for Monday. Start early  \\n\\uf0b7 Watch complete Module 4 videos from the labs and assignments and try \\nto code them if u have time. (take 3 hrs) \\n\\uf0b7 prims & krushkals algorithms for Minimum spanning tree.Which is better. \\n(1-2 hrs) \\n\\uf0b7 Dikstras, Bellman ford  shortest path algorithms. (2 hrs) \\n\\uf0b7 Revise everything till date. \\nTUESDAY : \\n\\uf0b7 What are Binary Trees and Traversal methods \\n(inorder,preorder,postorder). \\n\\uf0b7 What are Binary Search Trees. \\n\\uf0b7 What are Heaps and Types. \\n\\uf0b7 Why do we use Dynamic programming instead of recursion. \\n\\uf0b7 Revise everything 1st and remember OOPs very well.'),\n",
       " Document(metadata={'producer': 'www.ilovepdf.com', 'creator': 'Microsoft® Word 2016', 'creationdate': '2025-04-03T19:53:03+00:00', 'author': 'MT2024138 Shaik Mohammad Irfan', 'moddate': '2025-04-03T19:53:03+00:00', 'source': 'mokshi_timetable.pdf', 'total_pages': 3, 'page': 2, 'page_label': '3'}, page_content='ALL THE BEST MOKSHI')]"
      ]
     },
     "execution_count": 17,
     "metadata": {},
     "output_type": "execute_result"
    }
   ],
   "source": [
    "timetable_documents"
   ]
  },
  {
   "cell_type": "markdown",
   "metadata": {},
   "source": [
    "Make the imported or loaded content into chunks "
   ]
  },
  {
   "cell_type": "code",
   "execution_count": 18,
   "metadata": {},
   "outputs": [
    {
     "data": {
      "text/plain": [
       "[Document(metadata={'producer': 'www.ilovepdf.com', 'creator': 'Microsoft® Word 2016', 'creationdate': '2025-04-03T19:53:03+00:00', 'author': 'MT2024138 Shaik Mohammad Irfan', 'moddate': '2025-04-03T19:53:03+00:00', 'source': 'mokshi_timetable.pdf', 'total_pages': 3, 'page': 0, 'page_label': '1'}, page_content='TIME TABLE \\n \\nI will try to send the resources of each day before u start studying them .And \\nmost of these take a much longer time and if some day u complete your task \\nvery soon, then try to start the next days . And most importat is revision. \\nRevise everyday . \\n \\nTHURSDAY : \\n\\uf0b7 Do Selection sort and Insertion and Bubble sort today.(3 hrs) \\n\\uf0b7 Do Module-1 and Module-2 from from Lab-assignments.(compulsory) (2 \\nhrs) \\n\\uf0b7 Revise everything before u sleep and remember Time Complexities  \\n& SPACE COMPLEXITIES (TC & SC) of sorting algos. (before sleep) \\nFRIDAY : \\n\\uf0b7 Watch recursion videos from takeuforward nearly 10-12 videos . u will \\nget a basic idea about what is recursion(each video will be 20 mins \\naverage) Try to watch in 1.5x   \\n\\uf0b7 Watch quick sort and merge sort now  and remember the TC and SC s \\n(2hrs) \\n\\uf0b7 Get to know about Arithmetic,comparision and logical operators in \\npython ( 1 hr) \\n\\uf0b7 Watch and do Module-3 from Lab assignments. (1 hr)'),\n",
       " Document(metadata={'producer': 'www.ilovepdf.com', 'creator': 'Microsoft® Word 2016', 'creationdate': '2025-04-03T19:53:03+00:00', 'author': 'MT2024138 Shaik Mohammad Irfan', 'moddate': '2025-04-03T19:53:03+00:00', 'source': 'mokshi_timetable.pdf', 'total_pages': 3, 'page': 0, 'page_label': '1'}, page_content='\\uf0b7 Revise yesterdays concepts . (before sleep) \\nSATURDAY : \\n\\uf0b7 Look into the basic normal data structures of python like \\n(arrays,dictionaries,lists,sets,tuples,strings). Don’t worry of lot many . \\nThey will be very easy and u will complete fast I know. (2 hrs) \\n\\uf0b7 Binary search and linear search algorithms and their TC and SC. (1 hr)'),\n",
       " Document(metadata={'producer': 'www.ilovepdf.com', 'creator': 'Microsoft® Word 2016', 'creationdate': '2025-04-03T19:53:03+00:00', 'author': 'MT2024138 Shaik Mohammad Irfan', 'moddate': '2025-04-03T19:53:03+00:00', 'source': 'mokshi_timetable.pdf', 'total_pages': 3, 'page': 1, 'page_label': '2'}, page_content='\\uf0b7 Do Module 5 from lab assignments.(compulsory) (1 hr) \\n\\uf0b7 Do stacks and queues from takeuforward .   \\n\\uf0b7 Revise all concepts from Thursday and Friday . \\n \\nSUNDAY : \\n\\uf0b7 Today very important. OOPS (take half day) \\n\\uf0b7 OOPs from w3 schools. completely read and note them in your book. \\n\\uf0b7 Loops (if,elif,else) and while,for loops (most of them will be covered \\nwhile coding). (30  mins) \\n\\uf0b7 Revise completely from all previous days learned concepts . \\n\\uf0b7 Watch 1st 5 videos from LinkedList (only 1D LL is enough). From \\ntakeuforward. (2 hrs) \\n\\uf0b7 Read and do python file handling and exception handling. (1 hr) \\n\\uf0b7 Watch Graphs BFS and DFS algorithms (*)  (1 -2 hr) \\nMONDAY : \\n Little heavy for Monday. Start early  \\n\\uf0b7 Watch complete Module 4 videos from the labs and assignments and try \\nto code them if u have time. (take 3 hrs) \\n\\uf0b7 prims & krushkals algorithms for Minimum spanning tree.Which is better. \\n(1-2 hrs) \\n\\uf0b7 Dikstras, Bellman ford  shortest path algorithms. (2 hrs) \\n\\uf0b7 Revise everything till date.'),\n",
       " Document(metadata={'producer': 'www.ilovepdf.com', 'creator': 'Microsoft® Word 2016', 'creationdate': '2025-04-03T19:53:03+00:00', 'author': 'MT2024138 Shaik Mohammad Irfan', 'moddate': '2025-04-03T19:53:03+00:00', 'source': 'mokshi_timetable.pdf', 'total_pages': 3, 'page': 1, 'page_label': '2'}, page_content='TUESDAY : \\n\\uf0b7 What are Binary Trees and Traversal methods \\n(inorder,preorder,postorder). \\n\\uf0b7 What are Binary Search Trees. \\n\\uf0b7 What are Heaps and Types. \\n\\uf0b7 Why do we use Dynamic programming instead of recursion. \\n\\uf0b7 Revise everything 1st and remember OOPs very well.'),\n",
       " Document(metadata={'producer': 'www.ilovepdf.com', 'creator': 'Microsoft® Word 2016', 'creationdate': '2025-04-03T19:53:03+00:00', 'author': 'MT2024138 Shaik Mohammad Irfan', 'moddate': '2025-04-03T19:53:03+00:00', 'source': 'mokshi_timetable.pdf', 'total_pages': 3, 'page': 2, 'page_label': '3'}, page_content='ALL THE BEST MOKSHI')]"
      ]
     },
     "execution_count": 18,
     "metadata": {},
     "output_type": "execute_result"
    }
   ],
   "source": [
    "# fro timetable pdf\n",
    "from langchain.text_splitter import RecursiveCharacterTextSplitter\n",
    "text_splitter=RecursiveCharacterTextSplitter(chunk_size=1000,chunk_overlap=20)\n",
    "documents=text_splitter.split_documents(timetable_documents)\n",
    "documents[:5]\n"
   ]
  },
  {
   "cell_type": "code",
   "execution_count": 19,
   "metadata": {},
   "outputs": [
    {
     "data": {
      "text/plain": [
       "[Document(metadata={'source': 'https://en.wikipedia.org/wiki/MS_Dhoni'}, page_content='Contents\\nmove to sidebar\\nhide\\n\\n\\n\\n\\n(Top)\\n\\n\\n\\n\\n\\n1\\nEarly life\\n\\n\\n\\n\\n\\n\\n\\n\\n2\\nYouth career\\n\\n\\n\\n\\n\\n\\n\\n\\n3\\nInternational career\\n\\n\\n\\n\\nToggle International career subsection\\n\\n\\n\\n\\n\\n3.1\\nDebut and early years\\n\\n\\n\\n\\n\\n\\n\\n\\n3.2\\n2007 World T20 and captaincy\\n\\n\\n\\n\\n\\n\\n\\n\\n3.3\\n2011 World Cup win and later\\n\\n\\n\\n\\n\\n\\n\\n\\n3.4\\nTest retirement and 2015 World cup\\n\\n\\n\\n\\n\\n\\n\\n\\n3.5\\nFinal years and retirement\\n\\n\\n\\n\\n\\n\\n\\n\\n\\n\\n4\\nDomestic career\\n\\n\\n\\n\\n\\n\\n\\n\\n5\\nFranchise career\\n\\n\\n\\n\\n\\n\\n\\n\\n6\\nOutside cricket\\n\\n\\n\\n\\n\\n\\n\\n\\n7\\nPlaying style\\n\\n\\n\\n\\n\\n\\n\\n\\n8\\nPersonal life\\n\\n\\n\\n\\n\\n\\n\\n\\n9\\nCareer statistics\\n\\n\\n\\n\\nToggle Career statistics subsection\\n\\n\\n\\n\\n\\n9.1\\nCaptaincy\\n\\n\\n\\n\\n\\n\\n\\n\\n\\n\\n10\\nRecords and achievements\\n\\n\\n\\n\\n\\n\\n\\n\\n11\\nAwards & Honours\\n\\n\\n\\n\\nToggle Awards & Honours subsection\\n\\n\\n\\n\\n\\n11.1\\nAwards\\n\\n\\n\\n\\n\\n\\n\\n\\n11.2\\nHonours\\n\\n\\n\\n\\n\\n\\n\\n\\n11.3\\nTrophies\\n\\n\\n\\n\\n\\n\\n\\n\\n\\n\\n12\\nIn popular culture\\n\\n\\n\\n\\n\\n\\n\\n\\n13\\nReferences\\n\\n\\n\\n\\n\\n\\n\\n\\n14\\nExternal links\\n\\n\\n\\n\\n\\n\\n\\n\\n\\n\\n\\n\\n\\n\\n\\nToggle the table of contents\\n\\n\\n\\n\\n\\n\\n\\nMS Dhoni\\n\\n\\n\\n40 languages'),\n",
       " Document(metadata={'source': 'https://en.wikipedia.org/wiki/MS_Dhoni'}, page_content='40 languages\\n\\n\\n\\n\\nAfrikaansالعربيةঅসমীয়াअवधीবাংলাभोजपुरीDeutschडोटेलीEspañolفارسیFrançaisગુજરાતીगोंयची कोंकणी / Gõychi Konknniहिन्दीBahasa IndonesiaItalianoಕನ್ನಡकॉशुर / کٲشُرमैथिलीമലയാളംमराठीمصرىNederlandsनेपाली日本語ଓଡ଼ିଆਪੰਜਾਬੀپنجابیPolskiРусскийसंस्कृतम्ᱥᱟᱱᱛᱟᱲᱤසිංහලSimple Englishதமிழ்తెలుగుತುಳುTürkçeاردوVolapük\\n\\nEdit links\\n\\n\\n\\nIndian cricketer (born 1981)\\n\"Dhoni\" redirects here. For other uses, see Dhoni (disambiguation).'),\n",
       " Document(metadata={'source': 'https://en.wikipedia.org/wiki/MS_Dhoni'}, page_content='MS DhoniDhoni in 2023Personal detailsBorn (1981-07-07) 7 July 1981 (age\\xa043)Ranchi, Bihar (present-day Jharkhand), IndiaHeight5\\xa0ft 9\\xa0in (175\\xa0cm)[1]SpouseSakshi DhoniAwards\\n Padma Bhushan (2018)\\n Padma Shri (2009)\\nMajor Dhyan Chand Khel Ratna Award (2008)\\nNickname(s)Mahi, Thala, Captain Cool[2]Military serviceAllegiance\\xa0IndiaBranch/service\\xa0Indian ArmyYears\\xa0of service2011–presentRank Lieutenant colonelUnit Territorial Army   Parachute RegimentPersonal informationFull\\xa0nameMahendra Singh DhoniBattingRight-handedBowlingRight-arm mediumRoleWicket-keeper-batterInternational information\\nNational sideIndia (2004–2019)Test debut (cap\\xa0251)2 December 2005\\xa0v\\xa0Sri LankaLast Test26 December 2014\\xa0v\\xa0AustraliaODI debut (cap\\xa0158)23 December 2004\\xa0v\\xa0BangladeshLast ODI9 July 2019\\xa0v\\xa0New ZealandODI shirt no.7T20I debut (cap\\xa02)1 December 2006\\xa0v\\xa0South AfricaLast T20I27 February 2019\\xa0v\\xa0AustraliaT20I shirt no.7\\nDomestic team information'),\n",
       " Document(metadata={'source': 'https://en.wikipedia.org/wiki/MS_Dhoni'}, page_content=\"YearsTeam1999–2004Bihar2004–2017Jharkhand2008–2015, 2018–presentChennai Super Kings (squad\\xa0no.\\xa07)2016–2017Rising Pune Supergiant (squad\\xa0no.\\xa07)\\nCareer statistics\\n\\nCompetition\\nTest\\nODI\\nT20I\\nFC\\n\\nMatches\\n90\\n350\\n98\\n131\\n\\nRuns scored\\n4,876\\n10,773\\n1,617\\n7,038\\n\\nBatting average\\n38.09\\n50.57\\n37.60\\n36.84\\n\\n100s/50s\\n6/33\\n10/73\\n0/2\\n9/47\\n\\nTop score\\n224\\n183*\\n56\\n224*\\n\\nBalls bowled\\n96\\n36\\n–\\n126\\n\\nWickets\\n0\\n1\\n–\\n0\\n\\nBowling average\\n–\\n31.00\\n–\\n–\\n\\n5 wickets in innings\\n–\\n0\\n–\\n–\\n\\n10 wickets in match\\n–\\n0\\n–\\n–\\n\\nBest bowling\\n–\\n1/14\\n–\\n–\\n\\nCatches/stumpings\\n256/38\\n321/123\\n57/34\\n364/57\\nMedal record\\n\\n\\n\\n\\n\\n\\nMen's Cricket\\n\\n\\nRepresenting \\xa0India\\n\\n\\nCricket World Cup\\n\\n\\nWinner\\n2011 India–Sri Lanka–Bangladesh\\n\\n\\n\\nMen's T20 World Cup\\n\\n\\nWinner\\n2007 South Africa\\n\\n\\n\\nRunner-up\\n2014 Bangladesh\\n\\n\\n\\nICC Champions Trophy\\n\\n\\nWinner\\n2013 England and Wales\\n\\n\\n\\nRunner-up\\n2017 England and Wales\\n\\n\\n\\nAsia Cup\\n\\n\\nRunner-up\\n2008 Pakistan\\n\\n\\n\\nWinner\\n2010 Sri Lanka\\n\\n\\n\\nWinner\\n2016 Bangladesh\\n\\n\\n\\nWinner\\n2018 UAE\\n\\n\\nSource: ESPNcricinfo, 30 March 2025\"),\n",
       " Document(metadata={'source': 'https://en.wikipedia.org/wiki/MS_Dhoni'}, page_content='Mahendra Singh Dhoni (/məˈheɪndrə ˈsɪŋ dhæˈnɪ/ ⓘ; born 7 July 1981) is an Indian professional cricketer who plays as a right-handed batter and a wicket-keeper. Widely regarded as one of the most prolific wicket-keeper batsmen and captains and one of the greatest ODI batsmen, he represented the Indian cricket team and was the captain of the side in limited overs formats from 2007 to 2017 and in test cricket from 2008 to 2014. Dhoni has captained the most international matches and is the most successful Indian captain. He has led India to victory in the 2007 ICC World Twenty20, the 2011 Cricket World Cup, and the 2013 ICC Champions Trophy, being the only captain to win three different limited overs ICC tournaments. He also led the teams that won the Asia Cup in 2010, 2016 and was a member of the title winning squad in 2018.')]"
      ]
     },
     "execution_count": 19,
     "metadata": {},
     "output_type": "execute_result"
    }
   ],
   "source": [
    "from langchain.text_splitter import RecursiveCharacterTextSplitter\n",
    "text_splitter=RecursiveCharacterTextSplitter(chunk_size=1000,chunk_overlap=20)\n",
    "dhoni_documents=text_splitter.split_documents(text_documents)\n",
    "dhoni_documents[:5]\n"
   ]
  },
  {
   "cell_type": "markdown",
   "metadata": {},
   "source": [
    "Convert these chunks into vectors using CHROMA DB and OPenAiEmbedings"
   ]
  },
  {
   "cell_type": "code",
   "execution_count": 20,
   "metadata": {},
   "outputs": [
    {
     "name": "stderr",
     "output_type": "stream",
     "text": [
      "C:\\Users\\irfan\\AppData\\Local\\Temp\\ipykernel_28428\\2646856991.py:4: LangChainDeprecationWarning: The class `OpenAIEmbeddings` was deprecated in LangChain 0.0.9 and will be removed in 1.0. An updated version of the class exists in the :class:`~langchain-openai package and should be used instead. To use it run `pip install -U :class:`~langchain-openai` and import as `from :class:`~langchain_openai import OpenAIEmbeddings``.\n",
      "  db=Chroma.from_documents(documents,OpenAIEmbeddings())\n"
     ]
    }
   ],
   "source": [
    "#vector embeding and vector store\n",
    "from langchain_community.embeddings import OpenAIEmbeddings\n",
    "from langchain_community.vectorstores import Chroma\n",
    "db=Chroma.from_documents(documents,OpenAIEmbeddings())"
   ]
  },
  {
   "cell_type": "code",
   "execution_count": 21,
   "metadata": {},
   "outputs": [
    {
     "data": {
      "text/plain": [
       "'\\uf0b7 Do Module 5 from lab assignments.(compulsory) (1 hr) \\n\\uf0b7 Do stacks and queues from takeuforward .   \\n\\uf0b7 Revise all concepts from Thursday and Friday . \\n \\nSUNDAY : \\n\\uf0b7 Today very important. OOPS (take half day) \\n\\uf0b7 OOPs from w3 schools. completely read and note them in your book. \\n\\uf0b7 Loops (if,elif,else) and while,for loops (most of them will be covered \\nwhile coding). (30  mins) \\n\\uf0b7 Revise completely from all previous days learned concepts . \\n\\uf0b7 Watch 1st 5 videos from LinkedList (only 1D LL is enough). From \\ntakeuforward. (2 hrs) \\n\\uf0b7 Read and do python file handling and exception handling. (1 hr) \\n\\uf0b7 Watch Graphs BFS and DFS algorithms (*)  (1 -2 hr) \\nMONDAY : \\n Little heavy for Monday. Start early  \\n\\uf0b7 Watch complete Module 4 videos from the labs and assignments and try \\nto code them if u have time. (take 3 hrs) \\n\\uf0b7 prims & krushkals algorithms for Minimum spanning tree.Which is better. \\n(1-2 hrs) \\n\\uf0b7 Dikstras, Bellman ford  shortest path algorithms. (2 hrs) \\n\\uf0b7 Revise everything till date.'"
      ]
     },
     "execution_count": 21,
     "metadata": {},
     "output_type": "execute_result"
    }
   ],
   "source": [
    "query=\"prims & krushkals algorithms for Minimum spanning tree \"\n",
    "docs=db.similarity_search(query)\n",
    "docs[0].page_content\n",
    "\n",
    "\n",
    "\n",
    "\n"
   ]
  },
  {
   "cell_type": "code",
   "execution_count": 22,
   "metadata": {},
   "outputs": [],
   "source": [
    "#vector embeding and vector store\n",
    "from langchain_community.embeddings import OpenAIEmbeddings\n",
    "from langchain_community.vectorstores import Chroma\n",
    "dhoni_db=Chroma.from_documents(dhoni_documents[:50],OpenAIEmbeddings())\n",
    "\n",
    "\n"
   ]
  },
  {
   "cell_type": "code",
   "execution_count": 23,
   "metadata": {},
   "outputs": [
    {
     "data": {
      "text/plain": [
       "'MS DhoniDhoni in 2023Personal detailsBorn (1981-07-07) 7 July 1981 (age\\xa043)Ranchi, Bihar (present-day Jharkhand), IndiaHeight5\\xa0ft 9\\xa0in (175\\xa0cm)[1]SpouseSakshi DhoniAwards\\n Padma Bhushan (2018)\\n Padma Shri (2009)\\nMajor Dhyan Chand Khel Ratna Award (2008)\\nNickname(s)Mahi, Thala, Captain Cool[2]Military serviceAllegiance\\xa0IndiaBranch/service\\xa0Indian ArmyYears\\xa0of service2011–presentRank Lieutenant colonelUnit Territorial Army   Parachute RegimentPersonal informationFull\\xa0nameMahendra Singh DhoniBattingRight-handedBowlingRight-arm mediumRoleWicket-keeper-batterInternational information\\nNational sideIndia (2004–2019)Test debut (cap\\xa0251)2 December 2005\\xa0v\\xa0Sri LankaLast Test26 December 2014\\xa0v\\xa0AustraliaODI debut (cap\\xa0158)23 December 2004\\xa0v\\xa0BangladeshLast ODI9 July 2019\\xa0v\\xa0New ZealandODI shirt no.7T20I debut (cap\\xa02)1 December 2006\\xa0v\\xa0South AfricaLast T20I27 February 2019\\xa0v\\xa0AustraliaT20I shirt no.7\\nDomestic team information'"
      ]
     },
     "execution_count": 23,
     "metadata": {},
     "output_type": "execute_result"
    }
   ],
   "source": [
    "query=\"what is the msdhoni wife name\"\n",
    "docs=dhoni_db.similarity_search(query)\n",
    "docs[0].page_content\n"
   ]
  },
  {
   "cell_type": "markdown",
   "metadata": {},
   "source": [
    "FIASS VECTOR-DATABASE"
   ]
  },
  {
   "cell_type": "code",
   "execution_count": 24,
   "metadata": {},
   "outputs": [],
   "source": [
    "from langchain_community.vectorstores import FAISS\n",
    "db1=FAISS.from_documents(documents,OpenAIEmbeddings())\n"
   ]
  },
  {
   "cell_type": "code",
   "execution_count": 25,
   "metadata": {},
   "outputs": [
    {
     "data": {
      "text/plain": [
       "'\\uf0b7 Do Module 5 from lab assignments.(compulsory) (1 hr) \\n\\uf0b7 Do stacks and queues from takeuforward .   \\n\\uf0b7 Revise all concepts from Thursday and Friday . \\n \\nSUNDAY : \\n\\uf0b7 Today very important. OOPS (take half day) \\n\\uf0b7 OOPs from w3 schools. completely read and note them in your book. \\n\\uf0b7 Loops (if,elif,else) and while,for loops (most of them will be covered \\nwhile coding). (30  mins) \\n\\uf0b7 Revise completely from all previous days learned concepts . \\n\\uf0b7 Watch 1st 5 videos from LinkedList (only 1D LL is enough). From \\ntakeuforward. (2 hrs) \\n\\uf0b7 Read and do python file handling and exception handling. (1 hr) \\n\\uf0b7 Watch Graphs BFS and DFS algorithms (*)  (1 -2 hr) \\nMONDAY : \\n Little heavy for Monday. Start early  \\n\\uf0b7 Watch complete Module 4 videos from the labs and assignments and try \\nto code them if u have time. (take 3 hrs) \\n\\uf0b7 prims & krushkals algorithms for Minimum spanning tree.Which is better. \\n(1-2 hrs) \\n\\uf0b7 Dikstras, Bellman ford  shortest path algorithms. (2 hrs) \\n\\uf0b7 Revise everything till date.'"
      ]
     },
     "execution_count": 25,
     "metadata": {},
     "output_type": "execute_result"
    }
   ],
   "source": [
    "query=\"prims & krushkals algorithms for Minimum spanning tree \"\n",
    "docs=db1.similarity_search(query)\n",
    "docs[0].page_content\n"
   ]
  },
  {
   "cell_type": "markdown",
   "metadata": {},
   "source": [
    "USING PROMPTS AND LLM MODEL FOR CHAINS AND RETRIVAL"
   ]
  },
  {
   "cell_type": "code",
   "execution_count": 26,
   "metadata": {},
   "outputs": [],
   "source": [
    "import os\n",
    "from langchain_community.llms import OpenAI\n",
    "from dotenv import load_dotenv\n",
    "# Set your OpenAI API key\n",
    "load_dotenv()\n",
    "os.environ[\"OPENAI_API_KEY\"] =os.getenv(\"OPENAI_API_KEY\")  # Replace with your actual OpenAI API key\n",
    "\n",
    "# Initialize the OpenAI LLM\n",
    "llm = OpenAI(temperature=0.7)  # You can adjust the temperature as needed"
   ]
  },
  {
   "cell_type": "code",
   "execution_count": 28,
   "metadata": {},
   "outputs": [],
   "source": [
    "from langchain_core.prompts import ChatPromptTemplate\n",
    "prompt=ChatPromptTemplate.from_template(\"\"\"\n",
    "                                        Answer the question based on the context provided.\n",
    "                                        Think step by step before providing a detailed answer\n",
    "                                        I will tip you $1000 if user finds answer helpful.\n",
    "                                        <context>\n",
    "                                        {context}\n",
    "                                        </context>\n",
    "                                        Question: {input}\"\"\")"
   ]
  },
  {
   "cell_type": "code",
   "execution_count": 29,
   "metadata": {},
   "outputs": [],
   "source": [
    "# chian intro and create stuff document chain\n",
    "from langchain.chains.combine_documents import create_stuff_documents_chain\n",
    "document_chain=create_stuff_documents_chain(llm,prompt)"
   ]
  },
  {
   "cell_type": "markdown",
   "metadata": {},
   "source": [
    "retirvers is an interface that returns documents given an unstructured query.It is more general than vector store.a retriver doesnot need to be able to store documents , only to return or retrive them.vectore stores can be used as a back bone of retriver but there are other types of returvers as well."
   ]
  },
  {
   "cell_type": "code",
   "execution_count": 32,
   "metadata": {},
   "outputs": [
    {
     "data": {
      "text/plain": [
       "VectorStoreRetriever(tags=['FAISS', 'OpenAIEmbeddings'], vectorstore=<langchain_community.vectorstores.faiss.FAISS object at 0x0000011DAF506650>, search_kwargs={})"
      ]
     },
     "execution_count": 32,
     "metadata": {},
     "output_type": "execute_result"
    }
   ],
   "source": [
    "retriver=db1.as_retriever()\n",
    "retriver"
   ]
  },
  {
   "cell_type": "markdown",
   "metadata": {},
   "source": [
    "retirval chain takes in a user inquiry which is then passed to retriver to fetch relavant documents. those documents are then passed to an LLM to generate a response"
   ]
  },
  {
   "cell_type": "code",
   "execution_count": 35,
   "metadata": {},
   "outputs": [],
   "source": [
    "from langchain.chains import create_retrieval_chain\n",
    "retrieval_chain=create_retrieval_chain(retriver,document_chain)\n"
   ]
  },
  {
   "cell_type": "code",
   "execution_count": 38,
   "metadata": {},
   "outputs": [
    {
     "name": "stdout",
     "output_type": "stream",
     "text": [
      ".Which is better.\n",
      "\n",
      "Answer: Both Prim's and Kruskal's algorithms are used to find the minimum spanning tree of a connected weighted graph. However, there are some differences between the two algorithms that make one better suited for certain situations over the other.\n",
      "\n",
      "Prim's algorithm is a greedy algorithm that starts with a random vertex and gradually adds the next minimum weight edge until all vertices are covered, forming a tree. This algorithm is better when the graph is dense and the number of edges is close to the maximum possible number of edges.\n",
      "\n",
      "On the other hand, Kruskal's algorithm is also a greedy algorithm that starts with the minimum weight edge and gradually adds the next minimum weight edge that does not form a cycle. This algorithm is better when the graph is sparse and the number of edges is significantly less than the maximum possible number of edges.\n",
      "\n",
      "Therefore, the better algorithm depends on the characteristics of the graph. In general, if the graph is dense, Prim's algorithm is better, and if the graph is sparse, Kruskal's algorithm is better.\n"
     ]
    }
   ],
   "source": [
    "response=retrieval_chain.invoke({\"input\":\"prims & krushkals algorithms for Minimum spanning tree\"})\n",
    "print(response[\"answer\"])\n"
   ]
  },
  {
   "cell_type": "code",
   "execution_count": 39,
   "metadata": {},
   "outputs": [
    {
     "name": "stdout",
     "output_type": "stream",
     "text": [
      "?\n",
      "Answer: On Monday, the task is to watch complete Module 4 videos from the labs and assignments, try to code them if you have time, and learn about Prim's and Kruskal's algorithms for Minimum Spanning Tree, Dijkstra's and Bellman-Ford shortest path algorithms. It is also important to revise everything learned so far.\n"
     ]
    }
   ],
   "source": [
    "response=retrieval_chain.invoke({\"input\":\"what is the task on monday\"})\n",
    "print(response[\"answer\"])\n"
   ]
  },
  {
   "cell_type": "code",
   "execution_count": null,
   "metadata": {},
   "outputs": [],
   "source": []
  },
  {
   "cell_type": "code",
   "execution_count": null,
   "metadata": {},
   "outputs": [],
   "source": []
  },
  {
   "cell_type": "code",
   "execution_count": null,
   "metadata": {},
   "outputs": [],
   "source": []
  },
  {
   "cell_type": "code",
   "execution_count": null,
   "metadata": {},
   "outputs": [],
   "source": []
  },
  {
   "cell_type": "code",
   "execution_count": null,
   "metadata": {},
   "outputs": [],
   "source": []
  },
  {
   "cell_type": "code",
   "execution_count": 27,
   "metadata": {},
   "outputs": [
    {
     "name": "stdout",
     "output_type": "stream",
     "text": [
      "Collecting tiktoken\n",
      "  Using cached tiktoken-0.9.0-cp311-cp311-win_amd64.whl.metadata (6.8 kB)\n",
      "Collecting regex>=2022.1.18 (from tiktoken)\n",
      "  Using cached regex-2024.11.6-cp311-cp311-win_amd64.whl.metadata (41 kB)\n",
      "Requirement already satisfied: requests>=2.26.0 in c:\\users\\irfan\\appdata\\local\\programs\\python\\python311\\lib\\site-packages (from tiktoken) (2.32.3)\n",
      "Requirement already satisfied: charset-normalizer<4,>=2 in c:\\users\\irfan\\appdata\\local\\programs\\python\\python311\\lib\\site-packages (from requests>=2.26.0->tiktoken) (3.4.1)\n",
      "Requirement already satisfied: idna<4,>=2.5 in c:\\users\\irfan\\appdata\\local\\programs\\python\\python311\\lib\\site-packages (from requests>=2.26.0->tiktoken) (3.10)\n",
      "Requirement already satisfied: urllib3<3,>=1.21.1 in c:\\users\\irfan\\appdata\\local\\programs\\python\\python311\\lib\\site-packages (from requests>=2.26.0->tiktoken) (2.3.0)\n",
      "Requirement already satisfied: certifi>=2017.4.17 in c:\\users\\irfan\\appdata\\local\\programs\\python\\python311\\lib\\site-packages (from requests>=2.26.0->tiktoken) (2025.1.31)\n",
      "Using cached tiktoken-0.9.0-cp311-cp311-win_amd64.whl (893 kB)\n",
      "Using cached regex-2024.11.6-cp311-cp311-win_amd64.whl (274 kB)\n",
      "Installing collected packages: regex, tiktoken\n",
      "Successfully installed regex-2024.11.6 tiktoken-0.9.0\n"
     ]
    },
    {
     "name": "stderr",
     "output_type": "stream",
     "text": [
      "\n",
      "[notice] A new release of pip is available: 24.0 -> 25.0.1\n",
      "[notice] To update, run: python.exe -m pip install --upgrade pip\n"
     ]
    }
   ],
   "source": [
    "!pip install tiktoken"
   ]
  },
  {
   "cell_type": "code",
   "execution_count": null,
   "metadata": {},
   "outputs": [],
   "source": [
    "!pip install langchain_community"
   ]
  },
  {
   "cell_type": "code",
   "execution_count": 16,
   "metadata": {},
   "outputs": [
    {
     "name": "stdout",
     "output_type": "stream",
     "text": [
      "Collecting pypdf\n",
      "  Downloading pypdf-5.4.0-py3-none-any.whl.metadata (7.3 kB)\n",
      "Downloading pypdf-5.4.0-py3-none-any.whl (302 kB)\n",
      "   ---------------------------------------- 0.0/302.3 kB ? eta -:--:--\n",
      "   ----- ---------------------------------- 41.0/302.3 kB 1.9 MB/s eta 0:00:01\n",
      "   --------------------- ------------------ 163.8/302.3 kB 2.4 MB/s eta 0:00:01\n",
      "   ------------------------ --------------- 184.3/302.3 kB 2.2 MB/s eta 0:00:01\n",
      "   ---------------------------------------  297.0/302.3 kB 2.3 MB/s eta 0:00:01\n",
      "   ---------------------------------------- 302.3/302.3 kB 1.7 MB/s eta 0:00:00\n",
      "Installing collected packages: pypdf\n",
      "Successfully installed pypdf-5.4.0\n"
     ]
    },
    {
     "name": "stderr",
     "output_type": "stream",
     "text": [
      "\n",
      "[notice] A new release of pip is available: 24.0 -> 25.0.1\n",
      "[notice] To update, run: python.exe -m pip install --upgrade pip\n"
     ]
    }
   ],
   "source": [
    "!pip install pypdf"
   ]
  },
  {
   "cell_type": "code",
   "execution_count": 11,
   "metadata": {},
   "outputs": [
    {
     "name": "stdout",
     "output_type": "stream",
     "text": [
      "Collecting bs4\n",
      "  Downloading bs4-0.0.2-py2.py3-none-any.whl.metadata (411 bytes)\n",
      "Collecting beautifulsoup4 (from bs4)\n",
      "  Downloading beautifulsoup4-4.13.3-py3-none-any.whl.metadata (3.8 kB)\n",
      "Collecting soupsieve>1.2 (from beautifulsoup4->bs4)\n",
      "  Downloading soupsieve-2.6-py3-none-any.whl.metadata (4.6 kB)\n",
      "Requirement already satisfied: typing-extensions>=4.0.0 in c:\\users\\irfan\\appdata\\local\\programs\\python\\python311\\lib\\site-packages (from beautifulsoup4->bs4) (4.12.2)\n",
      "Downloading bs4-0.0.2-py2.py3-none-any.whl (1.2 kB)\n",
      "Downloading beautifulsoup4-4.13.3-py3-none-any.whl (186 kB)\n",
      "   ---------------------------------------- 0.0/186.0 kB ? eta -:--:--\n",
      "   ---------------------------------------- 0.0/186.0 kB ? eta -:--:--\n",
      "   ---------------------------------------- 0.0/186.0 kB ? eta -:--:--\n",
      "   ---------------------------------------- 0.0/186.0 kB ? eta -:--:--\n",
      "   ---------------------------------------- 0.0/186.0 kB ? eta -:--:--\n",
      "   ---------------------------------------- 0.0/186.0 kB ? eta -:--:--\n",
      "   -- ------------------------------------- 10.2/186.0 kB ? eta -:--:--\n",
      "   -- ------------------------------------- 10.2/186.0 kB ? eta -:--:--\n",
      "   -- ------------------------------------- 10.2/186.0 kB ? eta -:--:--\n",
      "   -- ------------------------------------- 10.2/186.0 kB ? eta -:--:--\n",
      "   ------ -------------------------------- 30.7/186.0 kB 108.9 kB/s eta 0:00:02\n",
      "   ------ -------------------------------- 30.7/186.0 kB 108.9 kB/s eta 0:00:02\n",
      "   -------- ------------------------------ 41.0/186.0 kB 122.9 kB/s eta 0:00:02\n",
      "   ------------ -------------------------- 61.4/186.0 kB 182.2 kB/s eta 0:00:01\n",
      "   ----------------------- -------------- 112.6/186.0 kB 297.7 kB/s eta 0:00:01\n",
      "   ----------------------------- -------- 143.4/186.0 kB 340.5 kB/s eta 0:00:01\n",
      "   -------------------------------------  184.3/186.0 kB 412.5 kB/s eta 0:00:01\n",
      "   -------------------------------------- 186.0/186.0 kB 388.0 kB/s eta 0:00:00\n",
      "Downloading soupsieve-2.6-py3-none-any.whl (36 kB)\n",
      "Installing collected packages: soupsieve, beautifulsoup4, bs4\n",
      "Successfully installed beautifulsoup4-4.13.3 bs4-0.0.2 soupsieve-2.6\n"
     ]
    },
    {
     "name": "stderr",
     "output_type": "stream",
     "text": [
      "  WARNING: Retrying (Retry(total=4, connect=None, read=None, redirect=None, status=None)) after connection broken by 'ConnectTimeoutError(<pip._vendor.urllib3.connection.HTTPSConnection object at 0x000001D9898F1C10>, 'Connection to files.pythonhosted.org timed out. (connect timeout=15)')': /packages/51/bb/bf7aab772a159614954d84aa832c129624ba6c32faa559dfb200a534e50b/bs4-0.0.2-py2.py3-none-any.whl.metadata\n",
      "WARNING: Retrying (Retry(total=4, connect=None, read=None, redirect=None, status=None)) after connection broken by 'ProtocolError('Connection aborted.', RemoteDisconnected('Remote end closed connection without response'))': /simple/beautifulsoup4/\n",
      "\n",
      "[notice] A new release of pip is available: 24.0 -> 25.0.1\n",
      "[notice] To update, run: python.exe -m pip install --upgrade pip\n"
     ]
    }
   ],
   "source": [
    "!pip install bs4"
   ]
  },
  {
   "cell_type": "code",
   "execution_count": 21,
   "metadata": {},
   "outputs": [
    {
     "name": "stdout",
     "output_type": "stream",
     "text": [
      "Requirement already satisfied: langchain in c:\\users\\irfan\\appdata\\local\\programs\\python\\python311\\lib\\site-packages (0.3.23)\n",
      "Requirement already satisfied: langchain-core<1.0.0,>=0.3.51 in c:\\users\\irfan\\appdata\\local\\programs\\python\\python311\\lib\\site-packages (from langchain) (0.3.51)\n",
      "Requirement already satisfied: langchain-text-splitters<1.0.0,>=0.3.8 in c:\\users\\irfan\\appdata\\local\\programs\\python\\python311\\lib\\site-packages (from langchain) (0.3.8)\n",
      "Requirement already satisfied: langsmith<0.4,>=0.1.17 in c:\\users\\irfan\\appdata\\local\\programs\\python\\python311\\lib\\site-packages (from langchain) (0.3.24)\n",
      "Requirement already satisfied: pydantic<3.0.0,>=2.7.4 in c:\\users\\irfan\\appdata\\local\\programs\\python\\python311\\lib\\site-packages (from langchain) (2.10.6)\n",
      "Requirement already satisfied: SQLAlchemy<3,>=1.4 in c:\\users\\irfan\\appdata\\local\\programs\\python\\python311\\lib\\site-packages (from langchain) (2.0.40)\n",
      "Requirement already satisfied: requests<3,>=2 in c:\\users\\irfan\\appdata\\local\\programs\\python\\python311\\lib\\site-packages (from langchain) (2.32.3)\n",
      "Requirement already satisfied: PyYAML>=5.3 in c:\\users\\irfan\\appdata\\local\\programs\\python\\python311\\lib\\site-packages (from langchain) (6.0.2)\n",
      "Requirement already satisfied: tenacity!=8.4.0,<10.0.0,>=8.1.0 in c:\\users\\irfan\\appdata\\local\\programs\\python\\python311\\lib\\site-packages (from langchain-core<1.0.0,>=0.3.51->langchain) (9.1.2)\n",
      "Requirement already satisfied: jsonpatch<2.0,>=1.33 in c:\\users\\irfan\\appdata\\local\\programs\\python\\python311\\lib\\site-packages (from langchain-core<1.0.0,>=0.3.51->langchain) (1.33)\n",
      "Requirement already satisfied: packaging<25,>=23.2 in c:\\users\\irfan\\appdata\\local\\programs\\python\\python311\\lib\\site-packages (from langchain-core<1.0.0,>=0.3.51->langchain) (24.2)\n",
      "Requirement already satisfied: typing-extensions>=4.7 in c:\\users\\irfan\\appdata\\local\\programs\\python\\python311\\lib\\site-packages (from langchain-core<1.0.0,>=0.3.51->langchain) (4.12.2)\n",
      "Requirement already satisfied: httpx<1,>=0.23.0 in c:\\users\\irfan\\appdata\\local\\programs\\python\\python311\\lib\\site-packages (from langsmith<0.4,>=0.1.17->langchain) (0.28.1)\n",
      "Requirement already satisfied: orjson<4.0.0,>=3.9.14 in c:\\users\\irfan\\appdata\\local\\programs\\python\\python311\\lib\\site-packages (from langsmith<0.4,>=0.1.17->langchain) (3.10.16)\n",
      "Requirement already satisfied: requests-toolbelt<2.0.0,>=1.0.0 in c:\\users\\irfan\\appdata\\local\\programs\\python\\python311\\lib\\site-packages (from langsmith<0.4,>=0.1.17->langchain) (1.0.0)\n",
      "Requirement already satisfied: zstandard<0.24.0,>=0.23.0 in c:\\users\\irfan\\appdata\\local\\programs\\python\\python311\\lib\\site-packages (from langsmith<0.4,>=0.1.17->langchain) (0.23.0)\n",
      "Requirement already satisfied: annotated-types>=0.6.0 in c:\\users\\irfan\\appdata\\local\\programs\\python\\python311\\lib\\site-packages (from pydantic<3.0.0,>=2.7.4->langchain) (0.7.0)\n",
      "Requirement already satisfied: pydantic-core==2.27.2 in c:\\users\\irfan\\appdata\\local\\programs\\python\\python311\\lib\\site-packages (from pydantic<3.0.0,>=2.7.4->langchain) (2.27.2)\n",
      "Requirement already satisfied: charset-normalizer<4,>=2 in c:\\users\\irfan\\appdata\\local\\programs\\python\\python311\\lib\\site-packages (from requests<3,>=2->langchain) (3.4.1)\n",
      "Requirement already satisfied: idna<4,>=2.5 in c:\\users\\irfan\\appdata\\local\\programs\\python\\python311\\lib\\site-packages (from requests<3,>=2->langchain) (3.10)\n",
      "Requirement already satisfied: urllib3<3,>=1.21.1 in c:\\users\\irfan\\appdata\\local\\programs\\python\\python311\\lib\\site-packages (from requests<3,>=2->langchain) (2.3.0)\n",
      "Requirement already satisfied: certifi>=2017.4.17 in c:\\users\\irfan\\appdata\\local\\programs\\python\\python311\\lib\\site-packages (from requests<3,>=2->langchain) (2025.1.31)\n",
      "Requirement already satisfied: greenlet>=1 in c:\\users\\irfan\\appdata\\local\\programs\\python\\python311\\lib\\site-packages (from SQLAlchemy<3,>=1.4->langchain) (3.1.1)\n",
      "Requirement already satisfied: anyio in c:\\users\\irfan\\appdata\\local\\programs\\python\\python311\\lib\\site-packages (from httpx<1,>=0.23.0->langsmith<0.4,>=0.1.17->langchain) (4.9.0)\n",
      "Requirement already satisfied: httpcore==1.* in c:\\users\\irfan\\appdata\\local\\programs\\python\\python311\\lib\\site-packages (from httpx<1,>=0.23.0->langsmith<0.4,>=0.1.17->langchain) (1.0.7)\n",
      "Requirement already satisfied: h11<0.15,>=0.13 in c:\\users\\irfan\\appdata\\local\\programs\\python\\python311\\lib\\site-packages (from httpcore==1.*->httpx<1,>=0.23.0->langsmith<0.4,>=0.1.17->langchain) (0.14.0)\n",
      "Requirement already satisfied: jsonpointer>=1.9 in c:\\users\\irfan\\appdata\\local\\programs\\python\\python311\\lib\\site-packages (from jsonpatch<2.0,>=1.33->langchain-core<1.0.0,>=0.3.51->langchain) (3.0.0)\n",
      "Requirement already satisfied: sniffio>=1.1 in c:\\users\\irfan\\appdata\\local\\programs\\python\\python311\\lib\\site-packages (from anyio->httpx<1,>=0.23.0->langsmith<0.4,>=0.1.17->langchain) (1.3.1)\n"
     ]
    },
    {
     "name": "stderr",
     "output_type": "stream",
     "text": [
      "\n",
      "[notice] A new release of pip is available: 24.0 -> 25.0.1\n",
      "[notice] To update, run: python.exe -m pip install --upgrade pip\n"
     ]
    }
   ],
   "source": [
    "!pip install langchain\n"
   ]
  },
  {
   "cell_type": "code",
   "execution_count": 25,
   "metadata": {},
   "outputs": [
    {
     "name": "stdout",
     "output_type": "stream",
     "text": [
      "Collecting faiss-cpu\n",
      "  Downloading faiss_cpu-1.10.0-cp311-cp311-win_amd64.whl.metadata (4.5 kB)\n",
      "Requirement already satisfied: numpy<3.0,>=1.25.0 in c:\\users\\irfan\\appdata\\local\\programs\\python\\python311\\lib\\site-packages (from faiss-cpu) (1.26.4)\n",
      "Requirement already satisfied: packaging in c:\\users\\irfan\\appdata\\local\\programs\\python\\python311\\lib\\site-packages (from faiss-cpu) (24.2)\n",
      "Downloading faiss_cpu-1.10.0-cp311-cp311-win_amd64.whl (13.7 MB)\n",
      "   ---------------------------------------- 0.0/13.7 MB ? eta -:--:--\n",
      "   ---------------------------------------- 0.0/13.7 MB 991.0 kB/s eta 0:00:14\n",
      "    --------------------------------------- 0.2/13.7 MB 3.0 MB/s eta 0:00:05\n",
      "   - -------------------------------------- 0.5/13.7 MB 4.5 MB/s eta 0:00:03\n",
      "   -- ------------------------------------- 0.9/13.7 MB 6.0 MB/s eta 0:00:03\n",
      "   -- ------------------------------------- 0.9/13.7 MB 4.7 MB/s eta 0:00:03\n",
      "   -- ------------------------------------- 0.9/13.7 MB 3.9 MB/s eta 0:00:04\n",
      "   ----- ---------------------------------- 1.9/13.7 MB 6.6 MB/s eta 0:00:02\n",
      "   ----- ---------------------------------- 2.0/13.7 MB 6.6 MB/s eta 0:00:02\n",
      "   ----- ---------------------------------- 2.0/13.7 MB 6.6 MB/s eta 0:00:02\n",
      "   -------- ------------------------------- 2.9/13.7 MB 7.1 MB/s eta 0:00:02\n",
      "   -------- ------------------------------- 2.9/13.7 MB 6.6 MB/s eta 0:00:02\n",
      "   --------- ------------------------------ 3.3/13.7 MB 6.8 MB/s eta 0:00:02\n",
      "   ---------- ----------------------------- 3.8/13.7 MB 7.5 MB/s eta 0:00:02\n",
      "   ------------ --------------------------- 4.4/13.7 MB 7.8 MB/s eta 0:00:02\n",
      "   -------------- ------------------------- 4.9/13.7 MB 8.1 MB/s eta 0:00:02\n",
      "   ---------------- ----------------------- 5.6/13.7 MB 8.5 MB/s eta 0:00:01\n",
      "   ---------------- ----------------------- 5.6/13.7 MB 8.5 MB/s eta 0:00:01\n",
      "   ---------------- ----------------------- 5.6/13.7 MB 8.5 MB/s eta 0:00:01\n",
      "   ------------------- -------------------- 6.6/13.7 MB 8.4 MB/s eta 0:00:01\n",
      "   --------------------- ------------------ 7.5/13.7 MB 9.1 MB/s eta 0:00:01\n",
      "   --------------------- ------------------ 7.5/13.7 MB 9.1 MB/s eta 0:00:01\n",
      "   --------------------- ------------------ 7.5/13.7 MB 9.1 MB/s eta 0:00:01\n",
      "   --------------------- ------------------ 7.5/13.7 MB 9.1 MB/s eta 0:00:01\n",
      "   ------------------------- -------------- 8.6/13.7 MB 8.7 MB/s eta 0:00:01\n",
      "   ------------------------- -------------- 8.8/13.7 MB 8.6 MB/s eta 0:00:01\n",
      "   ---------------------------- ----------- 9.7/13.7 MB 9.0 MB/s eta 0:00:01\n",
      "   ---------------------------- ----------- 9.7/13.7 MB 9.0 MB/s eta 0:00:01\n",
      "   ----------------------------- ---------- 10.0/13.7 MB 8.7 MB/s eta 0:00:01\n",
      "   ------------------------------ --------- 10.3/13.7 MB 8.8 MB/s eta 0:00:01\n",
      "   -------------------------------- ------- 11.2/13.7 MB 10.4 MB/s eta 0:00:01\n",
      "   -------------------------------- ------- 11.2/13.7 MB 10.4 MB/s eta 0:00:01\n",
      "   ----------------------------------- ---- 12.0/13.7 MB 10.1 MB/s eta 0:00:01\n",
      "   ----------------------------------- ---- 12.1/13.7 MB 9.4 MB/s eta 0:00:01\n",
      "   ------------------------------------ --- 12.6/13.7 MB 10.1 MB/s eta 0:00:01\n",
      "   ---------------------------------------  13.7/13.7 MB 10.6 MB/s eta 0:00:01\n",
      "   ---------------------------------------  13.7/13.7 MB 10.6 MB/s eta 0:00:01\n",
      "   ---------------------------------------- 13.7/13.7 MB 10.1 MB/s eta 0:00:00\n",
      "Installing collected packages: faiss-cpu\n",
      "Successfully installed faiss-cpu-1.10.0\n"
     ]
    },
    {
     "name": "stderr",
     "output_type": "stream",
     "text": [
      "\n",
      "[notice] A new release of pip is available: 24.0 -> 25.0.1\n",
      "[notice] To update, run: python.exe -m pip install --upgrade pip\n"
     ]
    }
   ],
   "source": [
    "!pip install faiss-cpu"
   ]
  },
  {
   "cell_type": "code",
   "execution_count": 24,
   "metadata": {},
   "outputs": [
    {
     "name": "stdout",
     "output_type": "stream",
     "text": [
      "Collecting chromadb\n",
      "  Downloading chromadb-1.0.0-cp39-abi3-win_amd64.whl.metadata (7.0 kB)\n",
      "Collecting build>=1.0.3 (from chromadb)\n",
      "  Downloading build-1.2.2.post1-py3-none-any.whl.metadata (6.5 kB)\n",
      "Requirement already satisfied: pydantic>=1.9 in c:\\users\\irfan\\appdata\\local\\programs\\python\\python311\\lib\\site-packages (from chromadb) (2.10.6)\n",
      "Collecting chroma-hnswlib==0.7.6 (from chromadb)\n",
      "  Downloading chroma_hnswlib-0.7.6-cp311-cp311-win_amd64.whl.metadata (262 bytes)\n",
      "Collecting fastapi==0.115.9 (from chromadb)\n",
      "  Downloading fastapi-0.115.9-py3-none-any.whl.metadata (27 kB)\n",
      "Requirement already satisfied: uvicorn>=0.18.3 in c:\\users\\irfan\\appdata\\local\\programs\\python\\python311\\lib\\site-packages (from uvicorn[standard]>=0.18.3->chromadb) (0.34.0)\n",
      "Requirement already satisfied: numpy>=1.22.5 in c:\\users\\irfan\\appdata\\local\\programs\\python\\python311\\lib\\site-packages (from chromadb) (1.26.4)\n",
      "Requirement already satisfied: posthog>=2.4.0 in c:\\users\\irfan\\appdata\\local\\programs\\python\\python311\\lib\\site-packages (from chromadb) (3.23.0)\n",
      "Requirement already satisfied: typing-extensions>=4.5.0 in c:\\users\\irfan\\appdata\\local\\programs\\python\\python311\\lib\\site-packages (from chromadb) (4.12.2)\n",
      "Collecting onnxruntime>=1.14.1 (from chromadb)\n",
      "  Downloading onnxruntime-1.21.0-cp311-cp311-win_amd64.whl.metadata (4.9 kB)\n",
      "Collecting opentelemetry-api>=1.2.0 (from chromadb)\n",
      "  Downloading opentelemetry_api-1.31.1-py3-none-any.whl.metadata (1.6 kB)\n",
      "Collecting opentelemetry-exporter-otlp-proto-grpc>=1.2.0 (from chromadb)\n",
      "  Downloading opentelemetry_exporter_otlp_proto_grpc-1.31.1-py3-none-any.whl.metadata (2.5 kB)\n",
      "Collecting opentelemetry-instrumentation-fastapi>=0.41b0 (from chromadb)\n",
      "  Downloading opentelemetry_instrumentation_fastapi-0.52b1-py3-none-any.whl.metadata (2.2 kB)\n",
      "Collecting opentelemetry-sdk>=1.2.0 (from chromadb)\n",
      "  Downloading opentelemetry_sdk-1.31.1-py3-none-any.whl.metadata (1.6 kB)\n",
      "Requirement already satisfied: tokenizers>=0.13.2 in c:\\users\\irfan\\appdata\\local\\programs\\python\\python311\\lib\\site-packages (from chromadb) (0.21.1)\n",
      "Collecting pypika>=0.48.9 (from chromadb)\n",
      "  Downloading PyPika-0.48.9.tar.gz (67 kB)\n",
      "     ---------------------------------------- 0.0/67.3 kB ? eta -:--:--\n",
      "     ------------------------ --------------- 41.0/67.3 kB ? eta -:--:--\n",
      "     ---------------------------------- --- 61.4/67.3 kB 825.8 kB/s eta 0:00:01\n",
      "     -------------------------------------- 67.3/67.3 kB 606.6 kB/s eta 0:00:00\n",
      "  Installing build dependencies: started\n",
      "  Installing build dependencies: finished with status 'done'\n",
      "  Getting requirements to build wheel: started\n",
      "  Getting requirements to build wheel: finished with status 'done'\n",
      "  Preparing metadata (pyproject.toml): started\n",
      "  Preparing metadata (pyproject.toml): finished with status 'done'\n",
      "Requirement already satisfied: tqdm>=4.65.0 in c:\\users\\irfan\\appdata\\local\\programs\\python\\python311\\lib\\site-packages (from chromadb) (4.67.1)\n",
      "Collecting overrides>=7.3.1 (from chromadb)\n",
      "  Downloading overrides-7.7.0-py3-none-any.whl.metadata (5.8 kB)\n",
      "Collecting importlib-resources (from chromadb)\n",
      "  Using cached importlib_resources-6.5.2-py3-none-any.whl.metadata (3.9 kB)\n",
      "Requirement already satisfied: grpcio>=1.58.0 in c:\\users\\irfan\\appdata\\local\\programs\\python\\python311\\lib\\site-packages (from chromadb) (1.70.0)\n",
      "Collecting bcrypt>=4.0.1 (from chromadb)\n",
      "  Downloading bcrypt-4.3.0-cp39-abi3-win_amd64.whl.metadata (10 kB)\n",
      "Collecting typer>=0.9.0 (from chromadb)\n",
      "  Downloading typer-0.15.2-py3-none-any.whl.metadata (15 kB)\n",
      "Collecting kubernetes>=28.1.0 (from chromadb)\n",
      "  Downloading kubernetes-32.0.1-py2.py3-none-any.whl.metadata (1.7 kB)\n",
      "Requirement already satisfied: tenacity>=8.2.3 in c:\\users\\irfan\\appdata\\local\\programs\\python\\python311\\lib\\site-packages (from chromadb) (9.1.2)\n",
      "Requirement already satisfied: pyyaml>=6.0.0 in c:\\users\\irfan\\appdata\\local\\programs\\python\\python311\\lib\\site-packages (from chromadb) (6.0.2)\n",
      "Collecting mmh3>=4.0.1 (from chromadb)\n",
      "  Downloading mmh3-5.1.0-cp311-cp311-win_amd64.whl.metadata (16 kB)\n",
      "Requirement already satisfied: orjson>=3.9.12 in c:\\users\\irfan\\appdata\\local\\programs\\python\\python311\\lib\\site-packages (from chromadb) (3.10.16)\n",
      "Requirement already satisfied: httpx>=0.27.0 in c:\\users\\irfan\\appdata\\local\\programs\\python\\python311\\lib\\site-packages (from chromadb) (0.28.1)\n",
      "Requirement already satisfied: rich>=10.11.0 in c:\\users\\irfan\\appdata\\local\\programs\\python\\python311\\lib\\site-packages (from chromadb) (13.9.4)\n",
      "Requirement already satisfied: jsonschema>=4.19.0 in c:\\users\\irfan\\appdata\\local\\programs\\python\\python311\\lib\\site-packages (from chromadb) (4.23.0)\n",
      "Collecting starlette<0.46.0,>=0.40.0 (from fastapi==0.115.9->chromadb)\n",
      "  Downloading starlette-0.45.3-py3-none-any.whl.metadata (6.3 kB)\n",
      "Requirement already satisfied: packaging>=19.1 in c:\\users\\irfan\\appdata\\local\\programs\\python\\python311\\lib\\site-packages (from build>=1.0.3->chromadb) (24.2)\n",
      "Collecting pyproject_hooks (from build>=1.0.3->chromadb)\n",
      "  Downloading pyproject_hooks-1.2.0-py3-none-any.whl.metadata (1.3 kB)\n",
      "Requirement already satisfied: colorama in c:\\users\\irfan\\appdata\\local\\programs\\python\\python311\\lib\\site-packages (from build>=1.0.3->chromadb) (0.4.6)\n",
      "Requirement already satisfied: anyio in c:\\users\\irfan\\appdata\\local\\programs\\python\\python311\\lib\\site-packages (from httpx>=0.27.0->chromadb) (4.9.0)\n",
      "Requirement already satisfied: certifi in c:\\users\\irfan\\appdata\\local\\programs\\python\\python311\\lib\\site-packages (from httpx>=0.27.0->chromadb) (2025.1.31)\n",
      "Requirement already satisfied: httpcore==1.* in c:\\users\\irfan\\appdata\\local\\programs\\python\\python311\\lib\\site-packages (from httpx>=0.27.0->chromadb) (1.0.7)\n",
      "Requirement already satisfied: idna in c:\\users\\irfan\\appdata\\local\\programs\\python\\python311\\lib\\site-packages (from httpx>=0.27.0->chromadb) (3.10)\n",
      "Requirement already satisfied: h11<0.15,>=0.13 in c:\\users\\irfan\\appdata\\local\\programs\\python\\python311\\lib\\site-packages (from httpcore==1.*->httpx>=0.27.0->chromadb) (0.14.0)\n",
      "Requirement already satisfied: attrs>=22.2.0 in c:\\users\\irfan\\appdata\\local\\programs\\python\\python311\\lib\\site-packages (from jsonschema>=4.19.0->chromadb) (25.3.0)\n",
      "Requirement already satisfied: jsonschema-specifications>=2023.03.6 in c:\\users\\irfan\\appdata\\local\\programs\\python\\python311\\lib\\site-packages (from jsonschema>=4.19.0->chromadb) (2024.10.1)\n",
      "Requirement already satisfied: referencing>=0.28.4 in c:\\users\\irfan\\appdata\\local\\programs\\python\\python311\\lib\\site-packages (from jsonschema>=4.19.0->chromadb) (0.36.2)\n",
      "Requirement already satisfied: rpds-py>=0.7.1 in c:\\users\\irfan\\appdata\\local\\programs\\python\\python311\\lib\\site-packages (from jsonschema>=4.19.0->chromadb) (0.24.0)\n",
      "Requirement already satisfied: six>=1.9.0 in c:\\users\\irfan\\appdata\\local\\programs\\python\\python311\\lib\\site-packages (from kubernetes>=28.1.0->chromadb) (1.17.0)\n",
      "Requirement already satisfied: python-dateutil>=2.5.3 in c:\\users\\irfan\\appdata\\local\\programs\\python\\python311\\lib\\site-packages (from kubernetes>=28.1.0->chromadb) (2.9.0.post0)\n",
      "Collecting google-auth>=1.0.1 (from kubernetes>=28.1.0->chromadb)\n",
      "  Downloading google_auth-2.38.0-py2.py3-none-any.whl.metadata (4.8 kB)\n",
      "Collecting websocket-client!=0.40.0,!=0.41.*,!=0.42.*,>=0.32.0 (from kubernetes>=28.1.0->chromadb)\n",
      "  Downloading websocket_client-1.8.0-py3-none-any.whl.metadata (8.0 kB)\n",
      "Requirement already satisfied: requests in c:\\users\\irfan\\appdata\\local\\programs\\python\\python311\\lib\\site-packages (from kubernetes>=28.1.0->chromadb) (2.32.3)\n",
      "Collecting requests-oauthlib (from kubernetes>=28.1.0->chromadb)\n",
      "  Downloading requests_oauthlib-2.0.0-py2.py3-none-any.whl.metadata (11 kB)\n",
      "Collecting oauthlib>=3.2.2 (from kubernetes>=28.1.0->chromadb)\n",
      "  Downloading oauthlib-3.2.2-py3-none-any.whl.metadata (7.5 kB)\n",
      "Requirement already satisfied: urllib3>=1.24.2 in c:\\users\\irfan\\appdata\\local\\programs\\python\\python311\\lib\\site-packages (from kubernetes>=28.1.0->chromadb) (2.3.0)\n",
      "Collecting durationpy>=0.7 (from kubernetes>=28.1.0->chromadb)\n",
      "  Downloading durationpy-0.9-py3-none-any.whl.metadata (338 bytes)\n",
      "Collecting coloredlogs (from onnxruntime>=1.14.1->chromadb)\n",
      "  Downloading coloredlogs-15.0.1-py2.py3-none-any.whl.metadata (12 kB)\n",
      "Requirement already satisfied: flatbuffers in c:\\users\\irfan\\appdata\\local\\programs\\python\\python311\\lib\\site-packages (from onnxruntime>=1.14.1->chromadb) (25.2.10)\n",
      "Requirement already satisfied: protobuf in c:\\users\\irfan\\appdata\\local\\programs\\python\\python311\\lib\\site-packages (from onnxruntime>=1.14.1->chromadb) (5.29.3)\n",
      "Requirement already satisfied: sympy in c:\\users\\irfan\\appdata\\local\\programs\\python\\python311\\lib\\site-packages (from onnxruntime>=1.14.1->chromadb) (1.13.1)\n",
      "Collecting deprecated>=1.2.6 (from opentelemetry-api>=1.2.0->chromadb)\n",
      "  Downloading Deprecated-1.2.18-py2.py3-none-any.whl.metadata (5.7 kB)\n",
      "Collecting importlib-metadata<8.7.0,>=6.0 (from opentelemetry-api>=1.2.0->chromadb)\n",
      "  Downloading importlib_metadata-8.6.1-py3-none-any.whl.metadata (4.7 kB)\n",
      "Collecting googleapis-common-protos~=1.52 (from opentelemetry-exporter-otlp-proto-grpc>=1.2.0->chromadb)\n",
      "  Downloading googleapis_common_protos-1.69.2-py3-none-any.whl.metadata (9.3 kB)\n",
      "Collecting opentelemetry-exporter-otlp-proto-common==1.31.1 (from opentelemetry-exporter-otlp-proto-grpc>=1.2.0->chromadb)\n",
      "  Downloading opentelemetry_exporter_otlp_proto_common-1.31.1-py3-none-any.whl.metadata (1.9 kB)\n",
      "Collecting opentelemetry-proto==1.31.1 (from opentelemetry-exporter-otlp-proto-grpc>=1.2.0->chromadb)\n",
      "  Downloading opentelemetry_proto-1.31.1-py3-none-any.whl.metadata (2.4 kB)\n",
      "Collecting opentelemetry-instrumentation-asgi==0.52b1 (from opentelemetry-instrumentation-fastapi>=0.41b0->chromadb)\n",
      "  Downloading opentelemetry_instrumentation_asgi-0.52b1-py3-none-any.whl.metadata (2.1 kB)\n",
      "Collecting opentelemetry-instrumentation==0.52b1 (from opentelemetry-instrumentation-fastapi>=0.41b0->chromadb)\n",
      "  Downloading opentelemetry_instrumentation-0.52b1-py3-none-any.whl.metadata (6.8 kB)\n",
      "Collecting opentelemetry-semantic-conventions==0.52b1 (from opentelemetry-instrumentation-fastapi>=0.41b0->chromadb)\n",
      "  Downloading opentelemetry_semantic_conventions-0.52b1-py3-none-any.whl.metadata (2.5 kB)\n",
      "Collecting opentelemetry-util-http==0.52b1 (from opentelemetry-instrumentation-fastapi>=0.41b0->chromadb)\n",
      "  Downloading opentelemetry_util_http-0.52b1-py3-none-any.whl.metadata (2.6 kB)\n",
      "Requirement already satisfied: wrapt<2.0.0,>=1.0.0 in c:\\users\\irfan\\appdata\\local\\programs\\python\\python311\\lib\\site-packages (from opentelemetry-instrumentation==0.52b1->opentelemetry-instrumentation-fastapi>=0.41b0->chromadb) (1.17.2)\n",
      "Collecting asgiref~=3.0 (from opentelemetry-instrumentation-asgi==0.52b1->opentelemetry-instrumentation-fastapi>=0.41b0->chromadb)\n",
      "  Downloading asgiref-3.8.1-py3-none-any.whl.metadata (9.3 kB)\n",
      "Requirement already satisfied: monotonic>=1.5 in c:\\users\\irfan\\appdata\\local\\programs\\python\\python311\\lib\\site-packages (from posthog>=2.4.0->chromadb) (1.6)\n",
      "Requirement already satisfied: backoff>=1.10.0 in c:\\users\\irfan\\appdata\\local\\programs\\python\\python311\\lib\\site-packages (from posthog>=2.4.0->chromadb) (2.2.1)\n",
      "Requirement already satisfied: distro>=1.5.0 in c:\\users\\irfan\\appdata\\local\\programs\\python\\python311\\lib\\site-packages (from posthog>=2.4.0->chromadb) (1.9.0)\n",
      "Requirement already satisfied: annotated-types>=0.6.0 in c:\\users\\irfan\\appdata\\local\\programs\\python\\python311\\lib\\site-packages (from pydantic>=1.9->chromadb) (0.7.0)\n",
      "Requirement already satisfied: pydantic-core==2.27.2 in c:\\users\\irfan\\appdata\\local\\programs\\python\\python311\\lib\\site-packages (from pydantic>=1.9->chromadb) (2.27.2)\n",
      "Requirement already satisfied: markdown-it-py>=2.2.0 in c:\\users\\irfan\\appdata\\local\\programs\\python\\python311\\lib\\site-packages (from rich>=10.11.0->chromadb) (3.0.0)\n",
      "Requirement already satisfied: pygments<3.0.0,>=2.13.0 in c:\\users\\irfan\\appdata\\local\\programs\\python\\python311\\lib\\site-packages (from rich>=10.11.0->chromadb) (2.19.1)\n",
      "Requirement already satisfied: huggingface-hub<1.0,>=0.16.4 in c:\\users\\irfan\\appdata\\local\\programs\\python\\python311\\lib\\site-packages (from tokenizers>=0.13.2->chromadb) (0.30.1)\n",
      "Requirement already satisfied: click>=8.0.0 in c:\\users\\irfan\\appdata\\local\\programs\\python\\python311\\lib\\site-packages (from typer>=0.9.0->chromadb) (8.1.8)\n",
      "Collecting shellingham>=1.3.0 (from typer>=0.9.0->chromadb)\n",
      "  Downloading shellingham-1.5.4-py2.py3-none-any.whl.metadata (3.5 kB)\n",
      "Collecting httptools>=0.6.3 (from uvicorn[standard]>=0.18.3->chromadb)\n",
      "  Downloading httptools-0.6.4-cp311-cp311-win_amd64.whl.metadata (3.7 kB)\n",
      "Requirement already satisfied: python-dotenv>=0.13 in c:\\users\\irfan\\appdata\\local\\programs\\python\\python311\\lib\\site-packages (from uvicorn[standard]>=0.18.3->chromadb) (1.1.0)\n",
      "Collecting watchfiles>=0.13 (from uvicorn[standard]>=0.18.3->chromadb)\n",
      "  Downloading watchfiles-1.0.4-cp311-cp311-win_amd64.whl.metadata (5.0 kB)\n",
      "Requirement already satisfied: websockets>=10.4 in c:\\users\\irfan\\appdata\\local\\programs\\python\\python311\\lib\\site-packages (from uvicorn[standard]>=0.18.3->chromadb) (14.2)\n",
      "Collecting cachetools<6.0,>=2.0.0 (from google-auth>=1.0.1->kubernetes>=28.1.0->chromadb)\n",
      "  Using cached cachetools-5.5.2-py3-none-any.whl.metadata (5.4 kB)\n",
      "Collecting pyasn1-modules>=0.2.1 (from google-auth>=1.0.1->kubernetes>=28.1.0->chromadb)\n",
      "  Downloading pyasn1_modules-0.4.2-py3-none-any.whl.metadata (3.5 kB)\n",
      "Collecting rsa<5,>=3.1.4 (from google-auth>=1.0.1->kubernetes>=28.1.0->chromadb)\n",
      "  Downloading rsa-4.9-py3-none-any.whl.metadata (4.2 kB)\n",
      "Requirement already satisfied: filelock in c:\\users\\irfan\\appdata\\local\\programs\\python\\python311\\lib\\site-packages (from huggingface-hub<1.0,>=0.16.4->tokenizers>=0.13.2->chromadb) (3.18.0)\n",
      "Requirement already satisfied: fsspec>=2023.5.0 in c:\\users\\irfan\\appdata\\local\\programs\\python\\python311\\lib\\site-packages (from huggingface-hub<1.0,>=0.16.4->tokenizers>=0.13.2->chromadb) (2024.12.0)\n",
      "Collecting zipp>=3.20 (from importlib-metadata<8.7.0,>=6.0->opentelemetry-api>=1.2.0->chromadb)\n",
      "  Using cached zipp-3.21.0-py3-none-any.whl.metadata (3.7 kB)\n",
      "Requirement already satisfied: mdurl~=0.1 in c:\\users\\irfan\\appdata\\local\\programs\\python\\python311\\lib\\site-packages (from markdown-it-py>=2.2.0->rich>=10.11.0->chromadb) (0.1.2)\n",
      "Requirement already satisfied: charset-normalizer<4,>=2 in c:\\users\\irfan\\appdata\\local\\programs\\python\\python311\\lib\\site-packages (from requests->kubernetes>=28.1.0->chromadb) (3.4.1)\n",
      "Requirement already satisfied: sniffio>=1.1 in c:\\users\\irfan\\appdata\\local\\programs\\python\\python311\\lib\\site-packages (from anyio->httpx>=0.27.0->chromadb) (1.3.1)\n",
      "Collecting humanfriendly>=9.1 (from coloredlogs->onnxruntime>=1.14.1->chromadb)\n",
      "  Downloading humanfriendly-10.0-py2.py3-none-any.whl.metadata (9.2 kB)\n",
      "Requirement already satisfied: mpmath<1.4,>=1.1.0 in c:\\users\\irfan\\appdata\\local\\programs\\python\\python311\\lib\\site-packages (from sympy->onnxruntime>=1.14.1->chromadb) (1.3.0)\n",
      "Collecting pyreadline3 (from humanfriendly>=9.1->coloredlogs->onnxruntime>=1.14.1->chromadb)\n",
      "  Downloading pyreadline3-3.5.4-py3-none-any.whl.metadata (4.7 kB)\n",
      "Collecting pyasn1<0.7.0,>=0.6.1 (from pyasn1-modules>=0.2.1->google-auth>=1.0.1->kubernetes>=28.1.0->chromadb)\n",
      "  Downloading pyasn1-0.6.1-py3-none-any.whl.metadata (8.4 kB)\n",
      "Downloading chromadb-1.0.0-cp39-abi3-win_amd64.whl (17.9 MB)\n",
      "   ---------------------------------------- 0.0/17.9 MB ? eta -:--:--\n",
      "   ---------------------------------------- 0.0/17.9 MB ? eta -:--:--\n",
      "   ---------------------------------------- 0.0/17.9 MB ? eta -:--:--\n",
      "   ---------------------------------------- 0.0/17.9 MB ? eta -:--:--\n",
      "   ---------------------------------------- 0.0/17.9 MB ? eta -:--:--\n",
      "   ---------------------------------------- 0.0/17.9 MB 262.6 kB/s eta 0:01:09\n",
      "   ---------------------------------------- 0.0/17.9 MB 262.6 kB/s eta 0:01:09\n",
      "   ---------------------------------------- 0.0/17.9 MB 178.6 kB/s eta 0:01:41\n",
      "   ---------------------------------------- 0.0/17.9 MB 178.6 kB/s eta 0:01:41\n",
      "   ---------------------------------------- 0.1/17.9 MB 233.8 kB/s eta 0:01:17\n",
      "   ---------------------------------------- 0.1/17.9 MB 233.8 kB/s eta 0:01:17\n",
      "   ---------------------------------------- 0.1/17.9 MB 241.3 kB/s eta 0:01:14\n",
      "   ---------------------------------------- 0.1/17.9 MB 273.1 kB/s eta 0:01:06\n",
      "   ---------------------------------------- 0.1/17.9 MB 277.4 kB/s eta 0:01:05\n",
      "   ---------------------------------------- 0.2/17.9 MB 327.5 kB/s eta 0:00:55\n",
      "   ---------------------------------------- 0.2/17.9 MB 357.2 kB/s eta 0:00:50\n",
      "   ---------------------------------------- 0.2/17.9 MB 355.7 kB/s eta 0:00:50\n",
      "    --------------------------------------- 0.3/17.9 MB 413.7 kB/s eta 0:00:43\n",
      "    --------------------------------------- 0.3/17.9 MB 463.3 kB/s eta 0:00:39\n",
      "    --------------------------------------- 0.4/17.9 MB 518.1 kB/s eta 0:00:34\n",
      "    --------------------------------------- 0.4/17.9 MB 550.7 kB/s eta 0:00:32\n",
      "   - -------------------------------------- 0.5/17.9 MB 587.1 kB/s eta 0:00:30\n",
      "   - -------------------------------------- 0.5/17.9 MB 629.3 kB/s eta 0:00:28\n",
      "   - -------------------------------------- 0.6/17.9 MB 667.6 kB/s eta 0:00:27\n",
      "   - -------------------------------------- 0.6/17.9 MB 727.2 kB/s eta 0:00:24\n",
      "   - -------------------------------------- 0.6/17.9 MB 727.2 kB/s eta 0:00:24\n",
      "   - -------------------------------------- 0.8/17.9 MB 795.1 kB/s eta 0:00:22\n",
      "   - -------------------------------------- 0.8/17.9 MB 839.7 kB/s eta 0:00:21\n",
      "   - -------------------------------------- 0.9/17.9 MB 856.7 kB/s eta 0:00:20\n",
      "   -- ------------------------------------- 1.0/17.9 MB 909.6 kB/s eta 0:00:19\n",
      "   -- ------------------------------------- 1.1/17.9 MB 937.5 kB/s eta 0:00:18\n",
      "   -- ------------------------------------- 1.1/17.9 MB 960.3 kB/s eta 0:00:18\n",
      "   -- ------------------------------------- 1.2/17.9 MB 1.0 MB/s eta 0:00:17\n",
      "   -- ------------------------------------- 1.3/17.9 MB 1.0 MB/s eta 0:00:16\n",
      "   --- ------------------------------------ 1.4/17.9 MB 1.1 MB/s eta 0:00:16\n",
      "   --- ------------------------------------ 1.5/17.9 MB 1.1 MB/s eta 0:00:15\n",
      "   --- ------------------------------------ 1.6/17.9 MB 1.2 MB/s eta 0:00:15\n",
      "   --- ------------------------------------ 1.7/17.9 MB 1.2 MB/s eta 0:00:14\n",
      "   ---- ----------------------------------- 1.8/17.9 MB 1.2 MB/s eta 0:00:13\n",
      "   ---- ----------------------------------- 2.0/17.9 MB 1.3 MB/s eta 0:00:13\n",
      "   ---- ----------------------------------- 2.1/17.9 MB 1.3 MB/s eta 0:00:13\n",
      "   ---- ----------------------------------- 2.2/17.9 MB 1.4 MB/s eta 0:00:12\n",
      "   ----- ---------------------------------- 2.3/17.9 MB 1.4 MB/s eta 0:00:12\n",
      "   ----- ---------------------------------- 2.4/17.9 MB 1.4 MB/s eta 0:00:11\n",
      "   ----- ---------------------------------- 2.5/17.9 MB 1.5 MB/s eta 0:00:11\n",
      "   ------ --------------------------------- 2.8/17.9 MB 1.6 MB/s eta 0:00:10\n",
      "   ------ --------------------------------- 2.9/17.9 MB 1.6 MB/s eta 0:00:10\n",
      "   ------ --------------------------------- 3.0/17.9 MB 1.6 MB/s eta 0:00:10\n",
      "   ------- -------------------------------- 3.2/17.9 MB 1.7 MB/s eta 0:00:09\n",
      "   ------- -------------------------------- 3.2/17.9 MB 1.7 MB/s eta 0:00:09\n",
      "   ------- -------------------------------- 3.2/17.9 MB 1.6 MB/s eta 0:00:10\n",
      "   ------- -------------------------------- 3.2/17.9 MB 1.6 MB/s eta 0:00:10\n",
      "   ------- -------------------------------- 3.5/17.9 MB 1.7 MB/s eta 0:00:09\n",
      "   ------- -------------------------------- 3.5/17.9 MB 1.7 MB/s eta 0:00:09\n",
      "   -------- ------------------------------- 3.8/17.9 MB 1.7 MB/s eta 0:00:09\n",
      "   -------- ------------------------------- 3.9/17.9 MB 1.8 MB/s eta 0:00:08\n",
      "   --------- ------------------------------ 4.1/17.9 MB 1.8 MB/s eta 0:00:08\n",
      "   --------- ------------------------------ 4.1/17.9 MB 1.8 MB/s eta 0:00:08\n",
      "   --------- ------------------------------ 4.4/17.9 MB 1.9 MB/s eta 0:00:08\n",
      "   --------- ------------------------------ 4.4/17.9 MB 1.9 MB/s eta 0:00:08\n",
      "   ---------- ----------------------------- 4.7/17.9 MB 1.9 MB/s eta 0:00:07\n",
      "   ----------- ---------------------------- 4.9/17.9 MB 2.0 MB/s eta 0:00:07\n",
      "   ----------- ---------------------------- 5.0/17.9 MB 2.0 MB/s eta 0:00:07\n",
      "   ----------- ---------------------------- 5.3/17.9 MB 2.1 MB/s eta 0:00:07\n",
      "   ------------ --------------------------- 5.7/17.9 MB 2.2 MB/s eta 0:00:06\n",
      "   ------------- -------------------------- 5.9/17.9 MB 2.2 MB/s eta 0:00:06\n",
      "   ------------- -------------------------- 6.2/17.9 MB 2.3 MB/s eta 0:00:06\n",
      "   ------------- -------------------------- 6.2/17.9 MB 2.3 MB/s eta 0:00:06\n",
      "   -------------- ------------------------- 6.5/17.9 MB 2.4 MB/s eta 0:00:05\n",
      "   -------------- ------------------------- 6.7/17.9 MB 2.4 MB/s eta 0:00:05\n",
      "   --------------- ------------------------ 7.1/17.9 MB 2.5 MB/s eta 0:00:05\n",
      "   ---------------- ----------------------- 7.4/17.9 MB 2.5 MB/s eta 0:00:05\n",
      "   ----------------- ---------------------- 7.7/17.9 MB 2.6 MB/s eta 0:00:04\n",
      "   ----------------- ---------------------- 7.9/17.9 MB 2.6 MB/s eta 0:00:04\n",
      "   ------------------ --------------------- 8.2/17.9 MB 2.7 MB/s eta 0:00:04\n",
      "   ------------------ --------------------- 8.4/17.9 MB 2.7 MB/s eta 0:00:04\n",
      "   ------------------- -------------------- 8.9/17.9 MB 2.8 MB/s eta 0:00:04\n",
      "   -------------------- ------------------- 9.3/17.9 MB 2.9 MB/s eta 0:00:03\n",
      "   --------------------- ------------------ 9.4/17.9 MB 2.9 MB/s eta 0:00:03\n",
      "   --------------------- ------------------ 9.5/17.9 MB 2.9 MB/s eta 0:00:03\n",
      "   ---------------------- ----------------- 9.9/17.9 MB 2.9 MB/s eta 0:00:03\n",
      "   ----------------------- ---------------- 10.4/17.9 MB 3.5 MB/s eta 0:00:03\n",
      "   ----------------------- ---------------- 10.7/17.9 MB 3.8 MB/s eta 0:00:02\n",
      "   ----------------------- ---------------- 10.7/17.9 MB 3.8 MB/s eta 0:00:02\n",
      "   ------------------------ --------------- 11.1/17.9 MB 4.1 MB/s eta 0:00:02\n",
      "   -------------------------- ------------- 11.8/17.9 MB 4.7 MB/s eta 0:00:02\n",
      "   --------------------------- ------------ 12.3/17.9 MB 5.1 MB/s eta 0:00:02\n",
      "   ---------------------------- ----------- 12.8/17.9 MB 5.4 MB/s eta 0:00:01\n",
      "   ---------------------------- ----------- 12.9/17.9 MB 5.5 MB/s eta 0:00:01\n",
      "   ----------------------------- ---------- 13.4/17.9 MB 5.5 MB/s eta 0:00:01\n",
      "   ------------------------------ --------- 13.5/17.9 MB 5.9 MB/s eta 0:00:01\n",
      "   ------------------------------ --------- 13.7/17.9 MB 5.8 MB/s eta 0:00:01\n",
      "   ------------------------------- -------- 14.0/17.9 MB 6.0 MB/s eta 0:00:01\n",
      "   -------------------------------- ------- 14.7/17.9 MB 6.8 MB/s eta 0:00:01\n",
      "   --------------------------------- ------ 15.1/17.9 MB 6.9 MB/s eta 0:00:01\n",
      "   ----------------------------------- ---- 15.7/17.9 MB 7.4 MB/s eta 0:00:01\n",
      "   ----------------------------------- ---- 16.0/17.9 MB 7.4 MB/s eta 0:00:01\n",
      "   ------------------------------------ --- 16.3/17.9 MB 7.4 MB/s eta 0:00:01\n",
      "   ------------------------------------- -- 16.9/17.9 MB 7.9 MB/s eta 0:00:01\n",
      "   -------------------------------------- - 17.2/17.9 MB 7.8 MB/s eta 0:00:01\n",
      "   ---------------------------------------  17.9/17.9 MB 8.2 MB/s eta 0:00:01\n",
      "   ---------------------------------------  17.9/17.9 MB 8.2 MB/s eta 0:00:01\n",
      "   ---------------------------------------- 17.9/17.9 MB 7.9 MB/s eta 0:00:00\n",
      "Downloading chroma_hnswlib-0.7.6-cp311-cp311-win_amd64.whl (151 kB)\n",
      "   ---------------------------------------- 0.0/151.9 kB ? eta -:--:--\n",
      "   ------------------------------------- -- 143.4/151.9 kB 8.9 MB/s eta 0:00:01\n",
      "   ---------------------------------------- 151.9/151.9 kB 1.5 MB/s eta 0:00:00\n",
      "Downloading fastapi-0.115.9-py3-none-any.whl (94 kB)\n",
      "   ---------------------------------------- 0.0/94.9 kB ? eta -:--:--\n",
      "   ---------------------------------------- 94.9/94.9 kB 5.6 MB/s eta 0:00:00\n",
      "Downloading bcrypt-4.3.0-cp39-abi3-win_amd64.whl (152 kB)\n",
      "   ---------------------------------------- 0.0/152.8 kB ? eta -:--:--\n",
      "   ------------------------------------- -- 143.4/152.8 kB 4.3 MB/s eta 0:00:01\n",
      "   ---------------------------------------- 152.8/152.8 kB 3.0 MB/s eta 0:00:00\n",
      "Downloading build-1.2.2.post1-py3-none-any.whl (22 kB)\n",
      "Downloading kubernetes-32.0.1-py2.py3-none-any.whl (2.0 MB)\n",
      "   ---------------------------------------- 0.0/2.0 MB ? eta -:--:--\n",
      "   ----- ---------------------------------- 0.3/2.0 MB ? eta -:--:--\n",
      "   ----------------- ---------------------- 0.9/2.0 MB 19.1 MB/s eta 0:00:01\n",
      "   ------------------- -------------------- 1.0/2.0 MB 10.4 MB/s eta 0:00:01\n",
      "   --------------------- ------------------ 1.0/2.0 MB 9.5 MB/s eta 0:00:01\n",
      "   ---------------------------------------  2.0/2.0 MB 11.6 MB/s eta 0:00:01\n",
      "   ---------------------------------------- 2.0/2.0 MB 10.6 MB/s eta 0:00:00\n",
      "Downloading mmh3-5.1.0-cp311-cp311-win_amd64.whl (41 kB)\n",
      "   ---------------------------------------- 0.0/41.5 kB ? eta -:--:--\n",
      "   ---------------------------------------  41.0/41.5 kB ? eta -:--:--\n",
      "   ---------------------------------------- 41.5/41.5 kB 2.0 MB/s eta 0:00:00\n",
      "Downloading onnxruntime-1.21.0-cp311-cp311-win_amd64.whl (11.8 MB)\n",
      "   ---------------------------------------- 0.0/11.8 MB ? eta -:--:--\n",
      "   ---------------------------------------- 0.0/11.8 MB 1.9 MB/s eta 0:00:07\n",
      "   - -------------------------------------- 0.4/11.8 MB 8.3 MB/s eta 0:00:02\n",
      "   -- ------------------------------------- 0.6/11.8 MB 6.2 MB/s eta 0:00:02\n",
      "   --- ------------------------------------ 1.0/11.8 MB 6.2 MB/s eta 0:00:02\n",
      "   --- ------------------------------------ 1.1/11.8 MB 5.2 MB/s eta 0:00:03\n",
      "   ------ --------------------------------- 1.9/11.8 MB 8.1 MB/s eta 0:00:02\n",
      "   ------- -------------------------------- 2.2/11.8 MB 7.9 MB/s eta 0:00:02\n",
      "   -------- ------------------------------- 2.4/11.8 MB 7.8 MB/s eta 0:00:02\n",
      "   --------- ------------------------------ 2.7/11.8 MB 7.6 MB/s eta 0:00:02\n",
      "   ----------- ---------------------------- 3.4/11.8 MB 8.3 MB/s eta 0:00:02\n",
      "   ------------ --------------------------- 3.8/11.8 MB 8.4 MB/s eta 0:00:01\n",
      "   -------------- ------------------------- 4.1/11.8 MB 8.8 MB/s eta 0:00:01\n",
      "   --------------- ------------------------ 4.4/11.8 MB 8.5 MB/s eta 0:00:01\n",
      "   ----------------- ---------------------- 5.1/11.8 MB 8.5 MB/s eta 0:00:01\n",
      "   ------------------- -------------------- 5.6/11.8 MB 9.0 MB/s eta 0:00:01\n",
      "   -------------------- ------------------- 6.0/11.8 MB 8.8 MB/s eta 0:00:01\n",
      "   --------------------- ------------------ 6.4/11.8 MB 8.9 MB/s eta 0:00:01\n",
      "   --------------------- ------------------ 6.4/11.8 MB 8.9 MB/s eta 0:00:01\n",
      "   ----------------------- ---------------- 6.9/11.8 MB 8.5 MB/s eta 0:00:01\n",
      "   ------------------------- -------------- 7.4/11.8 MB 8.7 MB/s eta 0:00:01\n",
      "   -------------------------- ------------- 7.8/11.8 MB 8.9 MB/s eta 0:00:01\n",
      "   --------------------------- ------------ 8.1/11.8 MB 9.0 MB/s eta 0:00:01\n",
      "   --------------------------- ------------ 8.1/11.8 MB 9.0 MB/s eta 0:00:01\n",
      "   ------------------------------ --------- 8.8/11.8 MB 8.7 MB/s eta 0:00:01\n",
      "   -------------------------------- ------- 9.5/11.8 MB 9.1 MB/s eta 0:00:01\n",
      "   ---------------------------------- ----- 10.1/11.8 MB 9.2 MB/s eta 0:00:01\n",
      "   ---------------------------------- ----- 10.2/11.8 MB 9.0 MB/s eta 0:00:01\n",
      "   ---------------------------------- ----- 10.3/11.8 MB 9.1 MB/s eta 0:00:01\n",
      "   ------------------------------------- -- 10.9/11.8 MB 9.5 MB/s eta 0:00:01\n",
      "   ---------------------------------------  11.8/11.8 MB 10.1 MB/s eta 0:00:01\n",
      "   ---------------------------------------- 11.8/11.8 MB 9.6 MB/s eta 0:00:00\n",
      "Downloading opentelemetry_api-1.31.1-py3-none-any.whl (65 kB)\n",
      "   ---------------------------------------- 0.0/65.2 kB ? eta -:--:--\n",
      "   ---------------------------------------- 65.2/65.2 kB 3.7 MB/s eta 0:00:00\n",
      "Downloading opentelemetry_exporter_otlp_proto_grpc-1.31.1-py3-none-any.whl (18 kB)\n",
      "Downloading opentelemetry_exporter_otlp_proto_common-1.31.1-py3-none-any.whl (18 kB)\n",
      "Downloading opentelemetry_proto-1.31.1-py3-none-any.whl (55 kB)\n",
      "   ---------------------------------------- 0.0/55.9 kB ? eta -:--:--\n",
      "   ---------------------------------------- 55.9/55.9 kB 1.4 MB/s eta 0:00:00\n",
      "Downloading opentelemetry_instrumentation_fastapi-0.52b1-py3-none-any.whl (12 kB)\n",
      "Downloading opentelemetry_instrumentation-0.52b1-py3-none-any.whl (31 kB)\n",
      "Downloading opentelemetry_instrumentation_asgi-0.52b1-py3-none-any.whl (16 kB)\n",
      "Downloading opentelemetry_semantic_conventions-0.52b1-py3-none-any.whl (183 kB)\n",
      "   ---------------------------------------- 0.0/183.4 kB ? eta -:--:--\n",
      "   ------------------------------------- -- 174.1/183.4 kB 5.3 MB/s eta 0:00:01\n",
      "   ---------------------------------------- 183.4/183.4 kB 3.7 MB/s eta 0:00:00\n",
      "Downloading opentelemetry_util_http-0.52b1-py3-none-any.whl (7.3 kB)\n",
      "Downloading opentelemetry_sdk-1.31.1-py3-none-any.whl (118 kB)\n",
      "   ---------------------------------------- 0.0/118.9 kB ? eta -:--:--\n",
      "   ---------------------------------------- 0.0/118.9 kB ? eta -:--:--\n",
      "   ---------------------------------------- 118.9/118.9 kB 6.8 MB/s eta 0:00:00\n",
      "Downloading overrides-7.7.0-py3-none-any.whl (17 kB)\n",
      "Downloading typer-0.15.2-py3-none-any.whl (45 kB)\n",
      "   ---------------------------------------- 0.0/45.1 kB ? eta -:--:--\n",
      "   ---------------------------------------- 45.1/45.1 kB 2.2 MB/s eta 0:00:00\n",
      "Using cached importlib_resources-6.5.2-py3-none-any.whl (37 kB)\n",
      "Downloading Deprecated-1.2.18-py2.py3-none-any.whl (10.0 kB)\n",
      "Downloading durationpy-0.9-py3-none-any.whl (3.5 kB)\n",
      "Downloading google_auth-2.38.0-py2.py3-none-any.whl (210 kB)\n",
      "   ---------------------------------------- 0.0/210.8 kB ? eta -:--:--\n",
      "   ------------------- -------------------- 102.4/210.8 kB 2.9 MB/s eta 0:00:01\n",
      "   -------------------------------------- - 204.8/210.8 kB 3.1 MB/s eta 0:00:01\n",
      "   ---------------------------------------- 210.8/210.8 kB 2.6 MB/s eta 0:00:00\n",
      "Downloading googleapis_common_protos-1.69.2-py3-none-any.whl (293 kB)\n",
      "   ---------------------------------------- 0.0/293.2 kB ? eta -:--:--\n",
      "   ----- --------------------------------- 41.0/293.2 kB 653.6 kB/s eta 0:00:01\n",
      "   ----------------------- ---------------- 174.1/293.2 kB 2.6 MB/s eta 0:00:01\n",
      "   ---------------------------------------- 293.2/293.2 kB 2.6 MB/s eta 0:00:00\n",
      "Downloading httptools-0.6.4-cp311-cp311-win_amd64.whl (88 kB)\n",
      "   ---------------------------------------- 0.0/88.6 kB ? eta -:--:--\n",
      "   ---- ----------------------------------- 10.2/88.6 kB ? eta -:--:--\n",
      "   ---------------------------------------- 88.6/88.6 kB 1.7 MB/s eta 0:00:00\n",
      "Downloading importlib_metadata-8.6.1-py3-none-any.whl (26 kB)\n",
      "Downloading oauthlib-3.2.2-py3-none-any.whl (151 kB)\n",
      "   ---------------------------------------- 0.0/151.7 kB ? eta -:--:--\n",
      "   ------------------------------------- -- 143.4/151.7 kB 4.3 MB/s eta 0:00:01\n",
      "   ---------------------------------------- 151.7/151.7 kB 3.1 MB/s eta 0:00:00\n",
      "Downloading shellingham-1.5.4-py2.py3-none-any.whl (9.8 kB)\n",
      "Downloading starlette-0.45.3-py3-none-any.whl (71 kB)\n",
      "   ---------------------------------------- 0.0/71.5 kB ? eta -:--:--\n",
      "   ---------------------------------------- 71.5/71.5 kB 2.0 MB/s eta 0:00:00\n",
      "Downloading watchfiles-1.0.4-cp311-cp311-win_amd64.whl (284 kB)\n",
      "   ---------------------------------------- 0.0/284.2 kB ? eta -:--:--\n",
      "   ----------- ---------------------------- 81.9/284.2 kB 2.3 MB/s eta 0:00:01\n",
      "   ----------- ---------------------------- 81.9/284.2 kB 2.3 MB/s eta 0:00:01\n",
      "   ---------------------------------------- 284.2/284.2 kB 2.2 MB/s eta 0:00:00\n",
      "Downloading websocket_client-1.8.0-py3-none-any.whl (58 kB)\n",
      "   ---------------------------------------- 0.0/58.8 kB ? eta -:--:--\n",
      "   ---------------------------------------- 58.8/58.8 kB 1.6 MB/s eta 0:00:00\n",
      "Downloading coloredlogs-15.0.1-py2.py3-none-any.whl (46 kB)\n",
      "   ---------------------------------------- 0.0/46.0 kB ? eta -:--:--\n",
      "   ---------------------------------------- 0.0/46.0 kB ? eta -:--:--\n",
      "   ---------------------------------------- 46.0/46.0 kB 1.2 MB/s eta 0:00:00\n",
      "Downloading pyproject_hooks-1.2.0-py3-none-any.whl (10 kB)\n",
      "Downloading requests_oauthlib-2.0.0-py2.py3-none-any.whl (24 kB)\n",
      "Downloading asgiref-3.8.1-py3-none-any.whl (23 kB)\n",
      "Using cached cachetools-5.5.2-py3-none-any.whl (10 kB)\n",
      "Downloading humanfriendly-10.0-py2.py3-none-any.whl (86 kB)\n",
      "   ---------------------------------------- 0.0/86.8 kB ? eta -:--:--\n",
      "   ---------------------------------------- 86.8/86.8 kB 5.1 MB/s eta 0:00:00\n",
      "Downloading pyasn1_modules-0.4.2-py3-none-any.whl (181 kB)\n",
      "   ---------------------------------------- 0.0/181.3 kB ? eta -:--:--\n",
      "   ---------------------- ----------------- 102.4/181.3 kB 2.9 MB/s eta 0:00:01\n",
      "   --------------------------------- ------ 153.6/181.3 kB 2.3 MB/s eta 0:00:01\n",
      "   ---------------------------------------- 181.3/181.3 kB 1.8 MB/s eta 0:00:00\n",
      "Downloading rsa-4.9-py3-none-any.whl (34 kB)\n",
      "Using cached zipp-3.21.0-py3-none-any.whl (9.6 kB)\n",
      "Downloading pyasn1-0.6.1-py3-none-any.whl (83 kB)\n",
      "   ---------------------------------------- 0.0/83.1 kB ? eta -:--:--\n",
      "   ----------------------------- ---------- 61.4/83.1 kB 1.7 MB/s eta 0:00:01\n",
      "   ---------------------------------------  81.9/83.1 kB 1.2 MB/s eta 0:00:01\n",
      "   ---------------------------------------- 83.1/83.1 kB 934.6 kB/s eta 0:00:00\n",
      "Downloading pyreadline3-3.5.4-py3-none-any.whl (83 kB)\n",
      "   ---------------------------------------- 0.0/83.2 kB ? eta -:--:--\n",
      "   ----------------------------- ---------- 61.4/83.2 kB 3.4 MB/s eta 0:00:01\n",
      "   ---------------------------------------  81.9/83.2 kB 1.2 MB/s eta 0:00:01\n",
      "   ---------------------------------------- 83.2/83.2 kB 935.1 kB/s eta 0:00:00\n",
      "Building wheels for collected packages: pypika\n",
      "  Building wheel for pypika (pyproject.toml): started\n",
      "  Building wheel for pypika (pyproject.toml): finished with status 'done'\n",
      "  Created wheel for pypika: filename=pypika-0.48.9-py2.py3-none-any.whl size=53914 sha256=15727d803d9d723e2c6eebc8014f3a74d1224bb769d83cc7c717bbb3def76b2e\n",
      "  Stored in directory: c:\\users\\irfan\\appdata\\local\\pip\\cache\\wheels\\a3\\01\\bd\\4c40ceb9d5354160cb186dcc153360f4ab7eb23e2b24daf96d\n",
      "Successfully built pypika\n",
      "Installing collected packages: pypika, durationpy, zipp, websocket-client, shellingham, pyreadline3, pyproject_hooks, pyasn1, overrides, opentelemetry-util-http, opentelemetry-proto, oauthlib, mmh3, importlib-resources, httptools, googleapis-common-protos, deprecated, chroma-hnswlib, cachetools, bcrypt, asgiref, watchfiles, starlette, rsa, requests-oauthlib, pyasn1-modules, opentelemetry-exporter-otlp-proto-common, importlib-metadata, humanfriendly, build, typer, opentelemetry-api, google-auth, fastapi, coloredlogs, opentelemetry-semantic-conventions, onnxruntime, kubernetes, opentelemetry-sdk, opentelemetry-instrumentation, opentelemetry-instrumentation-asgi, opentelemetry-exporter-otlp-proto-grpc, opentelemetry-instrumentation-fastapi, chromadb\n",
      "  Attempting uninstall: starlette\n",
      "    Found existing installation: starlette 0.46.1\n",
      "    Uninstalling starlette-0.46.1:\n",
      "      Successfully uninstalled starlette-0.46.1\n",
      "  Attempting uninstall: fastapi\n",
      "    Found existing installation: fastapi 0.115.12\n",
      "    Uninstalling fastapi-0.115.12:\n",
      "      Successfully uninstalled fastapi-0.115.12\n",
      "Successfully installed asgiref-3.8.1 bcrypt-4.3.0 build-1.2.2.post1 cachetools-5.5.2 chroma-hnswlib-0.7.6 chromadb-1.0.0 coloredlogs-15.0.1 deprecated-1.2.18 durationpy-0.9 fastapi-0.115.9 google-auth-2.38.0 googleapis-common-protos-1.69.2 httptools-0.6.4 humanfriendly-10.0 importlib-metadata-8.6.1 importlib-resources-6.5.2 kubernetes-32.0.1 mmh3-5.1.0 oauthlib-3.2.2 onnxruntime-1.21.0 opentelemetry-api-1.31.1 opentelemetry-exporter-otlp-proto-common-1.31.1 opentelemetry-exporter-otlp-proto-grpc-1.31.1 opentelemetry-instrumentation-0.52b1 opentelemetry-instrumentation-asgi-0.52b1 opentelemetry-instrumentation-fastapi-0.52b1 opentelemetry-proto-1.31.1 opentelemetry-sdk-1.31.1 opentelemetry-semantic-conventions-0.52b1 opentelemetry-util-http-0.52b1 overrides-7.7.0 pyasn1-0.6.1 pyasn1-modules-0.4.2 pypika-0.48.9 pyproject_hooks-1.2.0 pyreadline3-3.5.4 requests-oauthlib-2.0.0 rsa-4.9 shellingham-1.5.4 starlette-0.45.3 typer-0.15.2 watchfiles-1.0.4 websocket-client-1.8.0 zipp-3.21.0\n"
     ]
    },
    {
     "name": "stderr",
     "output_type": "stream",
     "text": [
      "\n",
      "[notice] A new release of pip is available: 24.0 -> 25.0.1\n",
      "[notice] To update, run: python.exe -m pip install --upgrade pip\n"
     ]
    }
   ],
   "source": [
    "!pip install chromadb"
   ]
  },
  {
   "cell_type": "code",
   "execution_count": null,
   "metadata": {},
   "outputs": [],
   "source": []
  },
  {
   "cell_type": "code",
   "execution_count": 1,
   "metadata": {},
   "outputs": [
    {
     "data": {
      "text/plain": [
       "3"
      ]
     },
     "execution_count": 1,
     "metadata": {},
     "output_type": "execute_result"
    }
   ],
   "source": [
    "1+2"
   ]
  }
 ],
 "metadata": {
  "kernelspec": {
   "display_name": "Python 3",
   "language": "python",
   "name": "python3"
  },
  "language_info": {
   "codemirror_mode": {
    "name": "ipython",
    "version": 3
   },
   "file_extension": ".py",
   "mimetype": "text/x-python",
   "name": "python",
   "nbconvert_exporter": "python",
   "pygments_lexer": "ipython3",
   "version": "3.11.9"
  }
 },
 "nbformat": 4,
 "nbformat_minor": 2
}
